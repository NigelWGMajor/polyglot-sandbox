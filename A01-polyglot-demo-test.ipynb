{
 "cells": [
  {
   "cell_type": "markdown",
   "metadata": {},
   "source": []
  },
  {
   "cell_type": "markdown",
   "metadata": {},
   "source": [
    "# Polyglot Demo - Test\n",
    "\n",
    "This is a .Net Interactive notebook, initially run in VSCode, but works in Jupyter too.<br> \n",
    "The main Kernel (shown upper right) is `.NET Interactive`<br>\n",
    "Magic commands may be used to switch between languages.<hr>\n",
    "\n",
    "We can add the Python kernel to .NET interactive - but only if it is not already there!\n",
    "Similarly, Julia and R could be added."
   ]
  },
  {
   "cell_type": "code",
   "execution_count": null,
   "metadata": {
    "dotnet_interactive": {
     "language": "csharp"
    },
    "polyglot_notebook": {
     "kernelName": "csharp"
    }
   },
   "outputs": [],
   "source": [
    "// #!connect jupyter --kernel-name pythonkernel --kernel-spec python3"
   ]
  },
  {
   "cell_type": "markdown",
   "metadata": {},
   "source": [
    "\n",
    "\n",
    "The next cell runs a magic command that lists the magic commands.\n",
    "\n",
    "[Reference](https://code.visualstudio.com/docs/languages/polyglot)"
   ]
  },
  {
   "cell_type": "code",
   "execution_count": null,
   "metadata": {
    "dotnet_interactive": {
     "language": "csharp"
    },
    "polyglot_notebook": {
     "kernelName": "csharp"
    }
   },
   "outputs": [],
   "source": [
    "#!lsmagic"
   ]
  },
  {
   "cell_type": "markdown",
   "metadata": {},
   "source": [
    "## Mermaid diagrams work too"
   ]
  },
  {
   "cell_type": "code",
   "execution_count": null,
   "metadata": {
    "dotnet_interactive": {
     "language": "pwsh"
    },
    "polyglot_notebook": {
     "kernelName": "pwsh"
    }
   },
   "outputs": [],
   "source": [
    "#!mermaid\n",
    "\n",
    "graph TD;\n",
    "A --> B;"
   ]
  },
  {
   "cell_type": "markdown",
   "metadata": {},
   "source": [
    "## F# code"
   ]
  },
  {
   "cell_type": "code",
   "execution_count": null,
   "metadata": {
    "dotnet_interactive": {
     "language": "mermaid"
    },
    "polyglot_notebook": {
     "kernelName": "mermaid"
    }
   },
   "outputs": [],
   "source": [
    "#!fsharp\n",
    "let me = \"F#\"\n",
    "// that was a magic string to select the cell language\n",
    "printfn $\"Hello from {me}!\""
   ]
  },
  {
   "cell_type": "markdown",
   "metadata": {},
   "source": [
    "## HTML\n"
   ]
  },
  {
   "cell_type": "code",
   "execution_count": null,
   "metadata": {
    "dotnet_interactive": {
     "language": "csharp"
    },
    "polyglot_notebook": {
     "kernelName": "csharp"
    }
   },
   "outputs": [],
   "source": [
    "#!html\n",
    "<div>\n",
    "  <hr>\n",
    "   <h4>Hello World from Html</h4>\n",
    "  <hr>\n",
    "</div>\n"
   ]
  },
  {
   "cell_type": "markdown",
   "metadata": {},
   "source": [
    "##  Http Request\n",
    "\n",
    "Just define the request and you will get back the results"
   ]
  },
  {
   "cell_type": "code",
   "execution_count": null,
   "metadata": {
    "dotnet_interactive": {
     "language": "http"
    },
    "polyglot_notebook": {
     "kernelName": "http"
    }
   },
   "outputs": [],
   "source": [
    "#!http\n",
    "\n",
    "https://icanhazdadjoke.com/\n",
    "\n"
   ]
  },
  {
   "cell_type": "markdown",
   "metadata": {},
   "source": [
    "## Javascript\n",
    "\n",
    "This example also demonstrates how to share variables between kernels."
   ]
  },
  {
   "cell_type": "code",
   "execution_count": null,
   "metadata": {
    "dotnet_interactive": {
     "language": "javascript"
    },
    "polyglot_notebook": {
     "kernelName": "javascript"
    }
   },
   "outputs": [],
   "source": [
    "#!js\n",
    "// the hello world program\n",
    "console.log('Hello World from JavaScript');\n",
    "// and we can access other kernels' variables\n",
    "#!set --value @fsharp:me --name meJs\n",
    "console.log('and from ' + meJs + '!')"
   ]
  },
  {
   "cell_type": "markdown",
   "metadata": {},
   "source": [
    "## KQL (Kusto Query Language)\n",
    "\n",
    "[Reference](https://learn.microsoft.com/en-us/azure/data-explorer/kusto/query/)"
   ]
  },
  {
   "cell_type": "code",
   "execution_count": null,
   "metadata": {
    "dotnet_interactive": {
     "language": "kql"
    },
    "polyglot_notebook": {
     "kernelName": "kql"
    }
   },
   "outputs": [],
   "source": [
    "#!kql"
   ]
  },
  {
   "cell_type": "markdown",
   "metadata": {},
   "source": [
    "## Powershell\n",
    "\n",
    "Also capable of reading from other kernels"
   ]
  },
  {
   "cell_type": "code",
   "execution_count": null,
   "metadata": {
    "dotnet_interactive": {
     "language": "pwsh"
    },
    "polyglot_notebook": {
     "kernelName": "pwsh"
    }
   },
   "outputs": [],
   "source": [
    "#!pwsh\n",
    "#!set --value @fsharp:me --name mePwsh\n",
    "dir\n",
    "echo \"Hello from PowerShell\"\n",
    "echo \"and from $mePwsh! \""
   ]
  },
  {
   "cell_type": "markdown",
   "metadata": {},
   "source": [
    "# SQL\n",
    "\n",
    "[Reference](https://devblogs.microsoft.com/dotnet/net-interactive-with-sql-net-notebooks-in-visual-studio-code/)\n",
    "\n",
    "[Ref for Magic commands](https://github.com/dotnet/interactive/blob/main/docs/magic-commands.md)\n",
    "\n",
    "The sql piece is not behaving well - maybe okay on a local db but has issues with spaces in the connection string.\n",
    "\n",
    "Recommend using either C# with a sql connection, or sql inside of python (both described below)."
   ]
  },
  {
   "cell_type": "markdown",
   "metadata": {},
   "source": [
    "## SQL data via Python\n",
    "\n",
    "Refer to the Visier Part B sample. Great with local dbs, plus you can use visualization tools."
   ]
  },
  {
   "cell_type": "markdown",
   "metadata": {},
   "source": [
    "## SQL data via CSharp\n",
    "\n",
    "This is my preference (other than using a dedicated library).\n",
    "\n",
    "Have to load the libraries first of course."
   ]
  },
  {
   "cell_type": "code",
   "execution_count": 1,
   "metadata": {
    "dotnet_interactive": {
     "language": "csharp"
    },
    "polyglot_notebook": {
     "kernelName": "csharp"
    }
   },
   "outputs": [
    {
     "data": {
      "text/html": [
       "<div><div></div><div></div><div><strong>Installed Packages</strong><ul><li><span>Microsoft.Data.SqlClient, 5.1.4</span></li><li><span>Newtonsoft.Json, 13.0.3</span></li></ul></div></div>"
      ]
     },
     "metadata": {},
     "output_type": "display_data"
    }
   ],
   "source": [
    "#r \"nuget: Microsoft.Data.SqlClient, 5.1.4\"\n",
    "#r \"nuget: Newtonsoft.Json, 13.0.3\"\n",
    "\n"
   ]
  },
  {
   "cell_type": "code",
   "execution_count": 2,
   "metadata": {
    "dotnet_interactive": {
     "language": "csharp"
    },
    "polyglot_notebook": {
     "kernelName": "csharp"
    }
   },
   "outputs": [],
   "source": [
    "using Microsoft.Data.SqlClient;\n",
    "using Newtonsoft.Json;\n",
    "using System.IO;"
   ]
  },
  {
   "cell_type": "code",
   "execution_count": 3,
   "metadata": {
    "dotnet_interactive": {
     "language": "csharp"
    },
    "polyglot_notebook": {
     "kernelName": "csharp"
    }
   },
   "outputs": [
    {
     "name": "stdout",
     "output_type": "stream",
     "text": [
      "Connection: Open succeeded.\r\n"
     ]
    }
   ],
   "source": [
    "// verify the connection credentials work\n",
    "internal string credentials  = System.Environment.GetEnvironmentVariable(\"NIX_DB_DG\");\n",
    "\n",
    "try\n",
    "{\n",
    "    using (var connection = new Microsoft.Data.SqlClient.SqlConnection(credentials))\n",
    "    {   connection.Open();\n",
    "        var x = connection.State;\n",
    "        Console.WriteLine($\"Connection: {x} succeeded.\"); \n",
    "    }\n",
    "}\n",
    "catch (Exception ex)\n",
    "{\n",
    "    Console.WriteLine($\"{ex.Message}\"); \n",
    "}"
   ]
  },
  {
   "cell_type": "code",
   "execution_count": 4,
   "metadata": {
    "dotnet_interactive": {
     "language": "csharp"
    },
    "polyglot_notebook": {
     "kernelName": "csharp"
    }
   },
   "outputs": [],
   "source": [
    "// A function to prettify json\n",
    "internal string Prettify(string json)\n",
    "{\n",
    "   return Newtonsoft.Json.Linq.JToken.Parse(json).ToString(Newtonsoft.Json.Formatting.Indented);\n",
    "}\n",
    "// Let's define some classes to manage our schema information\n",
    "\n",
    "public class TableDefinition\n",
    "{\n",
    "    public string SchemaName { get; set; }\n",
    "    public string TableName {get; set;}\n",
    "    public List<ColumnDefinition> Columns {get; set; }\n",
    "}\n",
    "public class ColumnDefinition\n",
    "{\n",
    "    public string ColumnName {get; set; }\n",
    "    public string DataType { get; set; }\n",
    "    public bool IsNullable {get; set; }\n",
    "    public int Size { get; set; }\n",
    "}\n",
    "// A function to retrieve schema information for one table\n",
    "internal string GetTableSchema(string schemaName, string tableName)\n",
    "{\n",
    "    string sql = \n",
    "        $\"select '{schemaName}' SchemaName, '{tableName}' TableName, \"\n",
    "        +\"(select column_name ColumnName, data_type DataType, \"\n",
    "        +\"case when is_nullable='yes' then 1 else 0 end IsNullable, \"\n",
    "        +\"isnull(character_maximum_length, 0) Size \"\n",
    "        +$\"from information_schema.columns where TABLE_SCHEMA = '{schemaName}' and \"\n",
    "        +$\"TABLE_NAME = '{tableName}' order by ordinal_position \"\n",
    "        +\"for json path) Columns for json path, \"\n",
    "        +\"WITHOUT_ARRAY_WRAPPER\"; // because we are only getting a single result\n",
    "\n",
    "    // Console.WriteLine(sql);\n",
    "    using (var connection = new SqlConnection(credentials))\n",
    "    {\n",
    "        using (var command = new SqlCommand(sql, connection))\n",
    "        {\n",
    "            connection.Open();\n",
    "            var result = new StringBuilder();\n",
    "            var reader = command.ExecuteReader();\n",
    "            if (!reader.HasRows)\n",
    "            {\n",
    "                result.Append(\"{}\");// empty object\n",
    "            }\n",
    "            else\n",
    "            {\n",
    "                while (reader.Read())\n",
    "                {\n",
    "                    result.Append(reader.GetValue(0).ToString());\n",
    "                }\n",
    "            }\n",
    "            return result.ToString();\n",
    "        }\n",
    "    }\n",
    "}\n",
    "    \n",
    "public TableDefinition GetTableDefinition(string schemaName, string tableName)\n",
    "{\n",
    "   // Test against a single table\n",
    "   var x = GetTableSchema(schemaName, tableName);\n",
    "   // Console.WriteLine(Prettify(x));\n",
    "   return Newtonsoft.Json.JsonConvert.DeserializeObject<TableDefinition>(x);\n",
    "}"
   ]
  },
  {
   "cell_type": "code",
   "execution_count": 5,
   "metadata": {
    "dotnet_interactive": {
     "language": "csharp"
    },
    "polyglot_notebook": {
     "kernelName": "csharp"
    }
   },
   "outputs": [],
   "source": [
    "string[] tablenames = new string[]\n",
    "{\n",
    "    \"Content\",\n",
    "    \"ContentDurationInMinutes\",\n",
    "    \"DailyUserActivity\",\n",
    "    \"DefaultDateRangeOptions\",\n",
    "    \"LearningCampaignEventCounts\",\n",
    "    \"MessageQueue\",\n",
    "    \"MessageQueue_PreProcessing\",\n",
    "    \"PathwayInsightsKPIs\",\n",
    "    \"PopularContentTags\",\n",
    "    \"PopularContentTags_Switch\",\n",
    "    \"PopularContentTags_Switch\",\n",
    "    \"PopularContentTags_Switch_Empty\",\n",
    "    \"PopularSearchTerms\",\n",
    "    \"PopularUserTags\",\n",
    "    \"RelatedContent\",\n",
    "    \"RelatedContent_Partition\",\n",
    "    \"ReportActivityLog\",\n",
    "    \"ReportAggregateTypes\",\n",
    "    \"ReportCategories\",\n",
    "    \"ReportColumns\",\n",
    "    \"ReportDataTypeOperators\",\n",
    "    \"ReportDataTypes\",\n",
    "    \"ReportDefinitionColumns\",\n",
    "    \"ReportDefinitionCustomAttributes\",\n",
    "    \"ReportDefinitions\",\n",
    "    \"ReportDownloads\",\n",
    "    \"ReportExecutionLog\",\n",
    "    \"ReportFailureTypeRegexMatches\",\n",
    "    \"ReportFailureTypes\",\n",
    "    \"ReportFields\",\n",
    "    \"ReportFileLog\",\n",
    "    \"ReportInstances\",\n",
    "    \"ReportLogMetadata\",\n",
    "    \"ReportLogs\",\n",
    "    \"ReportMethods\",\n",
    "    \"ReportOperatorTypes\",\n",
    "    \"Reports\",\n",
    "    \"ReportSchedule\",\n",
    "    \"ReportSearchableTermTypes\",\n",
    "    \"ReportTestBatch\",\n",
    "    \"ReportTestBatchLog\",\n",
    "    \"ReportTimeRanges\",\n",
    "    \"ReportTransmissionLogs\",\n",
    "    \"ReportTransmitterConfigLinks\",\n",
    "    \"ReportTransmitterConfigs\",\n",
    "    \"ReportTypes\",\n",
    "    \"ReportUserSegments\",\n",
    "    \"Salty\",\n",
    "    \"SubReports\",\n",
    "    \"TableSyncTracking\",\n",
    "    \"TransmissionConfig\",\n",
    "    \"TrendingContent\",\n",
    "    \"TrendingContent_Partition\",\n",
    "    \"UserCollectionsStatus\",\n",
    "    \"UserContentView_Archive\",\n",
    "    \"UserDailyContentViewCount\",\n",
    "    \"UserInputCompletions\",\n",
    "    \"UserLogins\",\n",
    "    \"UserSearchTerms\",\n",
    "    \"UserSummary\",\n",
    "    \"UserViewBrowsers\",\n",
    "    \"UserViewLocations\",\n",
    "    \"UserViewOSs\",\n",
    "    \"UserViewPlatforms\"\n",
    "};\n",
    "var tableDefinitions = new List<TableDefinition>();\n",
    "foreach (string tableName in tablenames)\n",
    "{ \n",
    "    tableDefinitions.Add(GetTableDefinition(\"rpt\", tableName));\n",
    "}\n"
   ]
  },
  {
   "cell_type": "code",
   "execution_count": 6,
   "metadata": {
    "dotnet_interactive": {
     "language": "csharp"
    },
    "polyglot_notebook": {
     "kernelName": "csharp"
    }
   },
   "outputs": [
    {
     "data": {
      "text/html": [
       "<table><thead><tr><th><i>index</i></th><th>value</th></tr></thead><tbody><tr><td>0</td><td><details class=\"dni-treeview\"><summary><span class=\"dni-code-hint\"><code>Submission#4+TableDefinition</code></span></summary><div><table><thead><tr></tr></thead><tbody><tr><td>SchemaName</td><td><div class=\"dni-plaintext\"><pre>rpt</pre></div></td></tr><tr><td>TableName</td><td><div class=\"dni-plaintext\"><pre>Content</pre></div></td></tr><tr><td>Columns</td><td><table><thead><tr><th><i>index</i></th><th>value</th></tr></thead><tbody><tr><td>0</td><td><details class=\"dni-treeview\"><summary><span class=\"dni-code-hint\"><code>Submission#4+ColumnDefinition</code></span></summary><div><table><thead><tr></tr></thead><tbody><tr><td>ColumnName</td><td><div class=\"dni-plaintext\"><pre>ContentId</pre></div></td></tr><tr><td>DataType</td><td><div class=\"dni-plaintext\"><pre>bigint</pre></div></td></tr><tr><td>IsNullable</td><td><div class=\"dni-plaintext\"><pre>False</pre></div></td></tr><tr><td>Size</td><td><div class=\"dni-plaintext\"><pre>0</pre></div></td></tr></tbody></table></div></details></td></tr><tr><td>1</td><td><details class=\"dni-treeview\"><summary><span class=\"dni-code-hint\"><code>Submission#4+ColumnDefinition</code></span></summary><div><table><thead><tr></tr></thead><tbody><tr><td>ColumnName</td><td><div class=\"dni-plaintext\"><pre>InputTypeId</pre></div></td></tr><tr><td>DataType</td><td><div class=\"dni-plaintext\"><pre>tinyint</pre></div></td></tr><tr><td>IsNullable</td><td><div class=\"dni-plaintext\"><pre>False</pre></div></td></tr><tr><td>Size</td><td><div class=\"dni-plaintext\"><pre>0</pre></div></td></tr></tbody></table></div></details></td></tr><tr><td>2</td><td><details class=\"dni-treeview\"><summary><span class=\"dni-code-hint\"><code>Submission#4+ColumnDefinition</code></span></summary><div><table><thead><tr></tr></thead><tbody><tr><td>ColumnName</td><td><div class=\"dni-plaintext\"><pre>Title</pre></div></td></tr><tr><td>DataType</td><td><div class=\"dni-plaintext\"><pre>nvarchar</pre></div></td></tr><tr><td>IsNullable</td><td><div class=\"dni-plaintext\"><pre>True</pre></div></td></tr><tr><td>Size</td><td><div class=\"dni-plaintext\"><pre>2000</pre></div></td></tr></tbody></table></div></details></td></tr><tr><td>3</td><td><details class=\"dni-treeview\"><summary><span class=\"dni-code-hint\"><code>Submission#4+ColumnDefinition</code></span></summary><div><table><thead><tr></tr></thead><tbody><tr><td>ColumnName</td><td><div class=\"dni-plaintext\"><pre>Url</pre></div></td></tr><tr><td>DataType</td><td><div class=\"dni-plaintext\"><pre>nvarchar</pre></div></td></tr><tr><td>IsNullable</td><td><div class=\"dni-plaintext\"><pre>True</pre></div></td></tr><tr><td>Size</td><td><div class=\"dni-plaintext\"><pre>2000</pre></div></td></tr></tbody></table></div></details></td></tr><tr><td>4</td><td><details class=\"dni-treeview\"><summary><span class=\"dni-code-hint\"><code>Submission#4+ColumnDefinition</code></span></summary><div><table><thead><tr></tr></thead><tbody><tr><td>ColumnName</td><td><div class=\"dni-plaintext\"><pre>UrlHash</pre></div></td></tr><tr><td>DataType</td><td><div class=\"dni-plaintext\"><pre>binary</pre></div></td></tr><tr><td>IsNullable</td><td><div class=\"dni-plaintext\"><pre>True</pre></div></td></tr><tr><td>Size</td><td><div class=\"dni-plaintext\"><pre>32</pre></div></td></tr></tbody></table></div></details></td></tr><tr><td>5</td><td><details class=\"dni-treeview\"><summary><span class=\"dni-code-hint\"><code>Submission#4+ColumnDefinition</code></span></summary><div><table><thead><tr></tr></thead><tbody><tr><td>ColumnName</td><td><div class=\"dni-plaintext\"><pre>ImageUrl</pre></div></td></tr><tr><td>DataType</td><td><div class=\"dni-plaintext\"><pre>nvarchar</pre></div></td></tr><tr><td>IsNullable</td><td><div class=\"dni-plaintext\"><pre>True</pre></div></td></tr><tr><td>Size</td><td><div class=\"dni-plaintext\"><pre>2000</pre></div></td></tr></tbody></table></div></details></td></tr><tr><td>6</td><td><details class=\"dni-treeview\"><summary><span class=\"dni-code-hint\"><code>Submission#4+ColumnDefinition</code></span></summary><div><table><thead><tr></tr></thead><tbody><tr><td>ColumnName</td><td><div class=\"dni-plaintext\"><pre>DateCreated</pre></div></td></tr><tr><td>DataType</td><td><div class=\"dni-plaintext\"><pre>datetime2</pre></div></td></tr><tr><td>IsNullable</td><td><div class=\"dni-plaintext\"><pre>True</pre></div></td></tr><tr><td>Size</td><td><div class=\"dni-plaintext\"><pre>0</pre></div></td></tr></tbody></table></div></details></td></tr><tr><td>7</td><td><details class=\"dni-treeview\"><summary><span class=\"dni-code-hint\"><code>Submission#4+ColumnDefinition</code></span></summary><div><table><thead><tr></tr></thead><tbody><tr><td>ColumnName</td><td><div class=\"dni-plaintext\"><pre>DateModified</pre></div></td></tr><tr><td>DataType</td><td><div class=\"dni-plaintext\"><pre>datetime2</pre></div></td></tr><tr><td>IsNullable</td><td><div class=\"dni-plaintext\"><pre>True</pre></div></td></tr><tr><td>Size</td><td><div class=\"dni-plaintext\"><pre>0</pre></div></td></tr></tbody></table></div></details></td></tr><tr><td>8</td><td><details class=\"dni-treeview\"><summary><span class=\"dni-code-hint\"><code>Submission#4+ColumnDefinition</code></span></summary><div><table><thead><tr></tr></thead><tbody><tr><td>ColumnName</td><td><div class=\"dni-plaintext\"><pre>ExternalId</pre></div></td></tr><tr><td>DataType</td><td><div class=\"dni-plaintext\"><pre>nvarchar</pre></div></td></tr><tr><td>IsNullable</td><td><div class=\"dni-plaintext\"><pre>True</pre></div></td></tr><tr><td>Size</td><td><div class=\"dni-plaintext\"><pre>2000</pre></div></td></tr></tbody></table></div></details></td></tr><tr><td>9</td><td><details class=\"dni-treeview\"><summary><span class=\"dni-code-hint\"><code>Submission#4+ColumnDefinition</code></span></summary><div><table><thead><tr></tr></thead><tbody><tr><td>ColumnName</td><td><div class=\"dni-plaintext\"><pre>ProviderId</pre></div></td></tr><tr><td>DataType</td><td><div class=\"dni-plaintext\"><pre>bigint</pre></div></td></tr><tr><td>IsNullable</td><td><div class=\"dni-plaintext\"><pre>True</pre></div></td></tr><tr><td>Size</td><td><div class=\"dni-plaintext\"><pre>0</pre></div></td></tr></tbody></table></div></details></td></tr><tr><td>10</td><td><details class=\"dni-treeview\"><summary><span class=\"dni-code-hint\"><code>Submission#4+ColumnDefinition</code></span></summary><div><table><thead><tr></tr></thead><tbody><tr><td>ColumnName</td><td><div class=\"dni-plaintext\"><pre>DurationUnit</pre></div></td></tr><tr><td>DataType</td><td><div class=\"dni-plaintext\"><pre>decimal</pre></div></td></tr><tr><td>IsNullable</td><td><div class=\"dni-plaintext\"><pre>True</pre></div></td></tr><tr><td>Size</td><td><div class=\"dni-plaintext\"><pre>0</pre></div></td></tr></tbody></table></div></details></td></tr><tr><td>11</td><td><details class=\"dni-treeview\"><summary><span class=\"dni-code-hint\"><code>Submission#4+ColumnDefinition</code></span></summary><div><table><thead><tr></tr></thead><tbody><tr><td>ColumnName</td><td><div class=\"dni-plaintext\"><pre>DurationUnitType</pre></div></td></tr><tr><td>DataType</td><td><div class=\"dni-plaintext\"><pre>nvarchar</pre></div></td></tr><tr><td>IsNullable</td><td><div class=\"dni-plaintext\"><pre>True</pre></div></td></tr><tr><td>Size</td><td><div class=\"dni-plaintext\"><pre>100</pre></div></td></tr></tbody></table></div></details></td></tr><tr><td>12</td><td><details class=\"dni-treeview\"><summary><span class=\"dni-code-hint\"><code>Submission#4+ColumnDefinition</code></span></summary><div><table><thead><tr></tr></thead><tbody><tr><td>ColumnName</td><td><div class=\"dni-plaintext\"><pre>Obsolete</pre></div></td></tr><tr><td>DataType</td><td><div class=\"dni-plaintext\"><pre>tinyint</pre></div></td></tr><tr><td>IsNullable</td><td><div class=\"dni-plaintext\"><pre>True</pre></div></td></tr><tr><td>Size</td><td><div class=\"dni-plaintext\"><pre>0</pre></div></td></tr></tbody></table></div></details></td></tr><tr><td>13</td><td><details class=\"dni-treeview\"><summary><span class=\"dni-code-hint\"><code>Submission#4+ColumnDefinition</code></span></summary><div><table><thead><tr></tr></thead><tbody><tr><td>ColumnName</td><td><div class=\"dni-plaintext\"><pre>OrganizationId</pre></div></td></tr><tr><td>DataType</td><td><div class=\"dni-plaintext\"><pre>bigint</pre></div></td></tr><tr><td>IsNullable</td><td><div class=\"dni-plaintext\"><pre>True</pre></div></td></tr><tr><td>Size</td><td><div class=\"dni-plaintext\"><pre>0</pre></div></td></tr></tbody></table></div></details></td></tr><tr><td>14</td><td><details class=\"dni-treeview\"><summary><span class=\"dni-code-hint\"><code>Submission#4+ColumnDefinition</code></span></summary><div><table><thead><tr></tr></thead><tbody><tr><td>ColumnName</td><td><div class=\"dni-plaintext\"><pre>FileManaged</pre></div></td></tr><tr><td>DataType</td><td><div class=\"dni-plaintext\"><pre>tinyint</pre></div></td></tr><tr><td>IsNullable</td><td><div class=\"dni-plaintext\"><pre>True</pre></div></td></tr><tr><td>Size</td><td><div class=\"dni-plaintext\"><pre>0</pre></div></td></tr></tbody></table></div></details></td></tr><tr><td>15</td><td><details class=\"dni-treeview\"><summary><span class=\"dni-code-hint\"><code>Submission#4+ColumnDefinition</code></span></summary><div><table><thead><tr></tr></thead><tbody><tr><td>ColumnName</td><td><div class=\"dni-plaintext\"><pre>SYS_CHANGE_VERSION</pre></div></td></tr><tr><td>DataType</td><td><div class=\"dni-plaintext\"><pre>bigint</pre></div></td></tr><tr><td>IsNullable</td><td><div class=\"dni-plaintext\"><pre>False</pre></div></td></tr><tr><td>Size</td><td><div class=\"dni-plaintext\"><pre>0</pre></div></td></tr></tbody></table></div></details></td></tr><tr><td>16</td><td><details class=\"dni-treeview\"><summary><span class=\"dni-code-hint\"><code>Submission#4+ColumnDefinition</code></span></summary><div><table><thead><tr></tr></thead><tbody><tr><td>ColumnName</td><td><div class=\"dni-plaintext\"><pre>SYS_CHANGE_OPERATION</pre></div></td></tr><tr><td>DataType</td><td><div class=\"dni-plaintext\"><pre>nchar</pre></div></td></tr><tr><td>IsNullable</td><td><div class=\"dni-plaintext\"><pre>False</pre></div></td></tr><tr><td>Size</td><td><div class=\"dni-plaintext\"><pre>1</pre></div></td></tr></tbody></table></div></details></td></tr><tr><td>17</td><td><details class=\"dni-treeview\"><summary><span class=\"dni-code-hint\"><code>Submission#4+ColumnDefinition</code></span></summary><div><table><thead><tr></tr></thead><tbody><tr><td>ColumnName</td><td><div class=\"dni-plaintext\"><pre>InputSubTypeId</pre></div></td></tr><tr><td>DataType</td><td><div class=\"dni-plaintext\"><pre>tinyint</pre></div></td></tr><tr><td>IsNullable</td><td><div class=\"dni-plaintext\"><pre>True</pre></div></td></tr><tr><td>Size</td><td><div class=\"dni-plaintext\"><pre>0</pre></div></td></tr></tbody></table></div></details></td></tr><tr><td>18</td><td><details class=\"dni-treeview\"><summary><span class=\"dni-code-hint\"><code>Submission#4+ColumnDefinition</code></span></summary><div><table><thead><tr></tr></thead><tbody><tr><td>ColumnName</td><td><div class=\"dni-plaintext\"><pre>InputKey</pre></div></td></tr><tr><td>DataType</td><td><div class=\"dni-plaintext\"><pre>bigint</pre></div></td></tr><tr><td>IsNullable</td><td><div class=\"dni-plaintext\"><pre>True</pre></div></td></tr><tr><td>Size</td><td><div class=\"dni-plaintext\"><pre>0</pre></div></td></tr></tbody></table></div></details></td></tr><tr><td>19</td><td><details class=\"dni-treeview\"><summary><span class=\"dni-code-hint\"><code>Submission#4+ColumnDefinition</code></span></summary><div><table><thead><tr></tr></thead><tbody><tr><td>ColumnName</td><td><div class=\"dni-plaintext\"><pre>ProviderSourceId</pre></div></td></tr><tr><td>DataType</td><td><div class=\"dni-plaintext\"><pre>bigint</pre></div></td></tr><tr><td>IsNullable</td><td><div class=\"dni-plaintext\"><pre>True</pre></div></td></tr><tr><td>Size</td><td><div class=\"dni-plaintext\"><pre>0</pre></div></td></tr></tbody></table></div></details></td></tr><tr><td colspan=\"2\"><i>(2 more)</i></td></tr></tbody></table></td></tr></tbody></table></div></details></td></tr><tr><td>1</td><td><details class=\"dni-treeview\"><summary><span class=\"dni-code-hint\"><code>Submission#4+TableDefinition</code></span></summary><div><table><thead><tr></tr></thead><tbody><tr><td>SchemaName</td><td><div class=\"dni-plaintext\"><pre>rpt</pre></div></td></tr><tr><td>TableName</td><td><div class=\"dni-plaintext\"><pre>ContentDurationInMinutes</pre></div></td></tr><tr><td>Columns</td><td><table><thead><tr><th><i>index</i></th><th>value</th></tr></thead><tbody><tr><td>0</td><td><details class=\"dni-treeview\"><summary><span class=\"dni-code-hint\"><code>Submission#4+ColumnDefinition</code></span></summary><div><table><thead><tr></tr></thead><tbody><tr><td>ColumnName</td><td><div class=\"dni-plaintext\"><pre>DurationIso</pre></div></td></tr><tr><td>DataType</td><td><div class=\"dni-plaintext\"><pre>nvarchar</pre></div></td></tr><tr><td>IsNullable</td><td><div class=\"dni-plaintext\"><pre>False</pre></div></td></tr><tr><td>Size</td><td><div class=\"dni-plaintext\"><pre>20</pre></div></td></tr></tbody></table></div></details></td></tr><tr><td>1</td><td><details class=\"dni-treeview\"><summary><span class=\"dni-code-hint\"><code>Submission#4+ColumnDefinition</code></span></summary><div><table><thead><tr></tr></thead><tbody><tr><td>ColumnName</td><td><div class=\"dni-plaintext\"><pre>DurationInMinutes</pre></div></td></tr><tr><td>DataType</td><td><div class=\"dni-plaintext\"><pre>bigint</pre></div></td></tr><tr><td>IsNullable</td><td><div class=\"dni-plaintext\"><pre>True</pre></div></td></tr><tr><td>Size</td><td><div class=\"dni-plaintext\"><pre>0</pre></div></td></tr></tbody></table></div></details></td></tr></tbody></table></td></tr></tbody></table></div></details></td></tr><tr><td>2</td><td><details class=\"dni-treeview\"><summary><span class=\"dni-code-hint\"><code>Submission#4+TableDefinition</code></span></summary><div><table><thead><tr></tr></thead><tbody><tr><td>SchemaName</td><td><div class=\"dni-plaintext\"><pre>rpt</pre></div></td></tr><tr><td>TableName</td><td><div class=\"dni-plaintext\"><pre>DailyUserActivity</pre></div></td></tr><tr><td>Columns</td><td><table><thead><tr><th><i>index</i></th><th>value</th></tr></thead><tbody><tr><td>0</td><td><details class=\"dni-treeview\"><summary><span class=\"dni-code-hint\"><code>Submission#4+ColumnDefinition</code></span></summary><div><table><thead><tr></tr></thead><tbody><tr><td>ColumnName</td><td><div class=\"dni-plaintext\"><pre>ActivityDate</pre></div></td></tr><tr><td>DataType</td><td><div class=\"dni-plaintext\"><pre>date</pre></div></td></tr><tr><td>IsNullable</td><td><div class=\"dni-plaintext\"><pre>False</pre></div></td></tr><tr><td>Size</td><td><div class=\"dni-plaintext\"><pre>0</pre></div></td></tr></tbody></table></div></details></td></tr><tr><td>1</td><td><details class=\"dni-treeview\"><summary><span class=\"dni-code-hint\"><code>Submission#4+ColumnDefinition</code></span></summary><div><table><thead><tr></tr></thead><tbody><tr><td>ColumnName</td><td><div class=\"dni-plaintext\"><pre>FormalCourses</pre></div></td></tr><tr><td>DataType</td><td><div class=\"dni-plaintext\"><pre>int</pre></div></td></tr><tr><td>IsNullable</td><td><div class=\"dni-plaintext\"><pre>True</pre></div></td></tr><tr><td>Size</td><td><div class=\"dni-plaintext\"><pre>0</pre></div></td></tr></tbody></table></div></details></td></tr><tr><td>2</td><td><details class=\"dni-treeview\"><summary><span class=\"dni-code-hint\"><code>Submission#4+ColumnDefinition</code></span></summary><div><table><thead><tr></tr></thead><tbody><tr><td>ColumnName</td><td><div class=\"dni-plaintext\"><pre>InformalCourses</pre></div></td></tr><tr><td>DataType</td><td><div class=\"dni-plaintext\"><pre>int</pre></div></td></tr><tr><td>IsNullable</td><td><div class=\"dni-plaintext\"><pre>True</pre></div></td></tr><tr><td>Size</td><td><div class=\"dni-plaintext\"><pre>0</pre></div></td></tr></tbody></table></div></details></td></tr><tr><td>3</td><td><details class=\"dni-treeview\"><summary><span class=\"dni-code-hint\"><code>Submission#4+ColumnDefinition</code></span></summary><div><table><thead><tr></tr></thead><tbody><tr><td>ColumnName</td><td><div class=\"dni-plaintext\"><pre>Books</pre></div></td></tr><tr><td>DataType</td><td><div class=\"dni-plaintext\"><pre>int</pre></div></td></tr><tr><td>IsNullable</td><td><div class=\"dni-plaintext\"><pre>True</pre></div></td></tr><tr><td>Size</td><td><div class=\"dni-plaintext\"><pre>0</pre></div></td></tr></tbody></table></div></details></td></tr><tr><td>4</td><td><details class=\"dni-treeview\"><summary><span class=\"dni-code-hint\"><code>Submission#4+ColumnDefinition</code></span></summary><div><table><thead><tr></tr></thead><tbody><tr><td>ColumnName</td><td><div class=\"dni-plaintext\"><pre>Articles</pre></div></td></tr><tr><td>DataType</td><td><div class=\"dni-plaintext\"><pre>int</pre></div></td></tr><tr><td>IsNullable</td><td><div class=\"dni-plaintext\"><pre>True</pre></div></td></tr><tr><td>Size</td><td><div class=\"dni-plaintext\"><pre>0</pre></div></td></tr></tbody></table></div></details></td></tr><tr><td>5</td><td><details class=\"dni-treeview\"><summary><span class=\"dni-code-hint\"><code>Submission#4+ColumnDefinition</code></span></summary><div><table><thead><tr></tr></thead><tbody><tr><td>ColumnName</td><td><div class=\"dni-plaintext\"><pre>Videos</pre></div></td></tr><tr><td>DataType</td><td><div class=\"dni-plaintext\"><pre>int</pre></div></td></tr><tr><td>IsNullable</td><td><div class=\"dni-plaintext\"><pre>True</pre></div></td></tr><tr><td>Size</td><td><div class=\"dni-plaintext\"><pre>0</pre></div></td></tr></tbody></table></div></details></td></tr><tr><td>6</td><td><details class=\"dni-treeview\"><summary><span class=\"dni-code-hint\"><code>Submission#4+ColumnDefinition</code></span></summary><div><table><thead><tr></tr></thead><tbody><tr><td>ColumnName</td><td><div class=\"dni-plaintext\"><pre>Events</pre></div></td></tr><tr><td>DataType</td><td><div class=\"dni-plaintext\"><pre>int</pre></div></td></tr><tr><td>IsNullable</td><td><div class=\"dni-plaintext\"><pre>True</pre></div></td></tr><tr><td>Size</td><td><div class=\"dni-plaintext\"><pre>0</pre></div></td></tr></tbody></table></div></details></td></tr><tr><td>7</td><td><details class=\"dni-treeview\"><summary><span class=\"dni-code-hint\"><code>Submission#4+ColumnDefinition</code></span></summary><div><table><thead><tr></tr></thead><tbody><tr><td>ColumnName</td><td><div class=\"dni-plaintext\"><pre>UsersWithActivity</pre></div></td></tr><tr><td>DataType</td><td><div class=\"dni-plaintext\"><pre>int</pre></div></td></tr><tr><td>IsNullable</td><td><div class=\"dni-plaintext\"><pre>True</pre></div></td></tr><tr><td>Size</td><td><div class=\"dni-plaintext\"><pre>0</pre></div></td></tr></tbody></table></div></details></td></tr><tr><td>8</td><td><details class=\"dni-treeview\"><summary><span class=\"dni-code-hint\"><code>Submission#4+ColumnDefinition</code></span></summary><div><table><thead><tr></tr></thead><tbody><tr><td>ColumnName</td><td><div class=\"dni-plaintext\"><pre>BookGoal</pre></div></td></tr><tr><td>DataType</td><td><div class=\"dni-plaintext\"><pre>int</pre></div></td></tr><tr><td>IsNullable</td><td><div class=\"dni-plaintext\"><pre>True</pre></div></td></tr><tr><td>Size</td><td><div class=\"dni-plaintext\"><pre>0</pre></div></td></tr></tbody></table></div></details></td></tr><tr><td>9</td><td><details class=\"dni-treeview\"><summary><span class=\"dni-code-hint\"><code>Submission#4+ColumnDefinition</code></span></summary><div><table><thead><tr></tr></thead><tbody><tr><td>ColumnName</td><td><div class=\"dni-plaintext\"><pre>ArticleGoal</pre></div></td></tr><tr><td>DataType</td><td><div class=\"dni-plaintext\"><pre>int</pre></div></td></tr><tr><td>IsNullable</td><td><div class=\"dni-plaintext\"><pre>True</pre></div></td></tr><tr><td>Size</td><td><div class=\"dni-plaintext\"><pre>0</pre></div></td></tr></tbody></table></div></details></td></tr><tr><td>10</td><td><details class=\"dni-treeview\"><summary><span class=\"dni-code-hint\"><code>Submission#4+ColumnDefinition</code></span></summary><div><table><thead><tr></tr></thead><tbody><tr><td>ColumnName</td><td><div class=\"dni-plaintext\"><pre>VideoGoal</pre></div></td></tr><tr><td>DataType</td><td><div class=\"dni-plaintext\"><pre>int</pre></div></td></tr><tr><td>IsNullable</td><td><div class=\"dni-plaintext\"><pre>True</pre></div></td></tr><tr><td>Size</td><td><div class=\"dni-plaintext\"><pre>0</pre></div></td></tr></tbody></table></div></details></td></tr><tr><td>11</td><td><details class=\"dni-treeview\"><summary><span class=\"dni-code-hint\"><code>Submission#4+ColumnDefinition</code></span></summary><div><table><thead><tr></tr></thead><tbody><tr><td>ColumnName</td><td><div class=\"dni-plaintext\"><pre>UsersWithGoal</pre></div></td></tr><tr><td>DataType</td><td><div class=\"dni-plaintext\"><pre>int</pre></div></td></tr><tr><td>IsNullable</td><td><div class=\"dni-plaintext\"><pre>True</pre></div></td></tr><tr><td>Size</td><td><div class=\"dni-plaintext\"><pre>0</pre></div></td></tr></tbody></table></div></details></td></tr></tbody></table></td></tr></tbody></table></div></details></td></tr><tr><td>3</td><td><details class=\"dni-treeview\"><summary><span class=\"dni-code-hint\"><code>Submission#4+TableDefinition</code></span></summary><div><table><thead><tr></tr></thead><tbody><tr><td>SchemaName</td><td><div class=\"dni-plaintext\"><pre>rpt</pre></div></td></tr><tr><td>TableName</td><td><div class=\"dni-plaintext\"><pre>DefaultDateRangeOptions</pre></div></td></tr><tr><td>Columns</td><td><table><thead><tr><th><i>index</i></th><th>value</th></tr></thead><tbody><tr><td>0</td><td><details class=\"dni-treeview\"><summary><span class=\"dni-code-hint\"><code>Submission#4+ColumnDefinition</code></span></summary><div><table><thead><tr></tr></thead><tbody><tr><td>ColumnName</td><td><div class=\"dni-plaintext\"><pre>DefaultDateRangeOptionId</pre></div></td></tr><tr><td>DataType</td><td><div class=\"dni-plaintext\"><pre>int</pre></div></td></tr><tr><td>IsNullable</td><td><div class=\"dni-plaintext\"><pre>False</pre></div></td></tr><tr><td>Size</td><td><div class=\"dni-plaintext\"><pre>0</pre></div></td></tr></tbody></table></div></details></td></tr><tr><td>1</td><td><details class=\"dni-treeview\"><summary><span class=\"dni-code-hint\"><code>Submission#4+ColumnDefinition</code></span></summary><div><table><thead><tr></tr></thead><tbody><tr><td>ColumnName</td><td><div class=\"dni-plaintext\"><pre>DateRangeName</pre></div></td></tr><tr><td>DataType</td><td><div class=\"dni-plaintext\"><pre>nvarchar</pre></div></td></tr><tr><td>IsNullable</td><td><div class=\"dni-plaintext\"><pre>True</pre></div></td></tr><tr><td>Size</td><td><div class=\"dni-plaintext\"><pre>255</pre></div></td></tr></tbody></table></div></details></td></tr><tr><td>2</td><td><details class=\"dni-treeview\"><summary><span class=\"dni-code-hint\"><code>Submission#4+ColumnDefinition</code></span></summary><div><table><thead><tr></tr></thead><tbody><tr><td>ColumnName</td><td><div class=\"dni-plaintext\"><pre>MinimumReportPeriod</pre></div></td></tr><tr><td>DataType</td><td><div class=\"dni-plaintext\"><pre>int</pre></div></td></tr><tr><td>IsNullable</td><td><div class=\"dni-plaintext\"><pre>True</pre></div></td></tr><tr><td>Size</td><td><div class=\"dni-plaintext\"><pre>0</pre></div></td></tr></tbody></table></div></details></td></tr></tbody></table></td></tr></tbody></table></div></details></td></tr><tr><td>4</td><td><details class=\"dni-treeview\"><summary><span class=\"dni-code-hint\"><code>Submission#4+TableDefinition</code></span></summary><div><table><thead><tr></tr></thead><tbody><tr><td>SchemaName</td><td><div class=\"dni-plaintext\"><pre>rpt</pre></div></td></tr><tr><td>TableName</td><td><div class=\"dni-plaintext\"><pre>LearningCampaignEventCounts</pre></div></td></tr><tr><td>Columns</td><td><table><thead><tr><th><i>index</i></th><th>value</th></tr></thead><tbody><tr><td>0</td><td><details class=\"dni-treeview\"><summary><span class=\"dni-code-hint\"><code>Submission#4+ColumnDefinition</code></span></summary><div><table><thead><tr></tr></thead><tbody><tr><td>ColumnName</td><td><div class=\"dni-plaintext\"><pre>Id</pre></div></td></tr><tr><td>DataType</td><td><div class=\"dni-plaintext\"><pre>bigint</pre></div></td></tr><tr><td>IsNullable</td><td><div class=\"dni-plaintext\"><pre>False</pre></div></td></tr><tr><td>Size</td><td><div class=\"dni-plaintext\"><pre>0</pre></div></td></tr></tbody></table></div></details></td></tr><tr><td>1</td><td><details class=\"dni-treeview\"><summary><span class=\"dni-code-hint\"><code>Submission#4+ColumnDefinition</code></span></summary><div><table><thead><tr></tr></thead><tbody><tr><td>ColumnName</td><td><div class=\"dni-plaintext\"><pre>TrackableLinkTag</pre></div></td></tr><tr><td>DataType</td><td><div class=\"dni-plaintext\"><pre>uniqueidentifier</pre></div></td></tr><tr><td>IsNullable</td><td><div class=\"dni-plaintext\"><pre>False</pre></div></td></tr><tr><td>Size</td><td><div class=\"dni-plaintext\"><pre>0</pre></div></td></tr></tbody></table></div></details></td></tr><tr><td>2</td><td><details class=\"dni-treeview\"><summary><span class=\"dni-code-hint\"><code>Submission#4+ColumnDefinition</code></span></summary><div><table><thead><tr></tr></thead><tbody><tr><td>ColumnName</td><td><div class=\"dni-plaintext\"><pre>ResourceType</pre></div></td></tr><tr><td>DataType</td><td><div class=\"dni-plaintext\"><pre>varchar</pre></div></td></tr><tr><td>IsNullable</td><td><div class=\"dni-plaintext\"><pre>False</pre></div></td></tr><tr><td>Size</td><td><div class=\"dni-plaintext\"><pre>20</pre></div></td></tr></tbody></table></div></details></td></tr><tr><td>3</td><td><details class=\"dni-treeview\"><summary><span class=\"dni-code-hint\"><code>Submission#4+ColumnDefinition</code></span></summary><div><table><thead><tr></tr></thead><tbody><tr><td>ColumnName</td><td><div class=\"dni-plaintext\"><pre>ResourceId</pre></div></td></tr><tr><td>DataType</td><td><div class=\"dni-plaintext\"><pre>bigint</pre></div></td></tr><tr><td>IsNullable</td><td><div class=\"dni-plaintext\"><pre>False</pre></div></td></tr><tr><td>Size</td><td><div class=\"dni-plaintext\"><pre>0</pre></div></td></tr></tbody></table></div></details></td></tr><tr><td>4</td><td><details class=\"dni-treeview\"><summary><span class=\"dni-code-hint\"><code>Submission#4+ColumnDefinition</code></span></summary><div><table><thead><tr></tr></thead><tbody><tr><td>ColumnName</td><td><div class=\"dni-plaintext\"><pre>EventType</pre></div></td></tr><tr><td>DataType</td><td><div class=\"dni-plaintext\"><pre>varchar</pre></div></td></tr><tr><td>IsNullable</td><td><div class=\"dni-plaintext\"><pre>False</pre></div></td></tr><tr><td>Size</td><td><div class=\"dni-plaintext\"><pre>63</pre></div></td></tr></tbody></table></div></details></td></tr><tr><td>5</td><td><details class=\"dni-treeview\"><summary><span class=\"dni-code-hint\"><code>Submission#4+ColumnDefinition</code></span></summary><div><table><thead><tr></tr></thead><tbody><tr><td>ColumnName</td><td><div class=\"dni-plaintext\"><pre>EventCountDate</pre></div></td></tr><tr><td>DataType</td><td><div class=\"dni-plaintext\"><pre>datetime2</pre></div></td></tr><tr><td>IsNullable</td><td><div class=\"dni-plaintext\"><pre>False</pre></div></td></tr><tr><td>Size</td><td><div class=\"dni-plaintext\"><pre>0</pre></div></td></tr></tbody></table></div></details></td></tr><tr><td>6</td><td><details class=\"dni-treeview\"><summary><span class=\"dni-code-hint\"><code>Submission#4+ColumnDefinition</code></span></summary><div><table><thead><tr></tr></thead><tbody><tr><td>ColumnName</td><td><div class=\"dni-plaintext\"><pre>EventCount</pre></div></td></tr><tr><td>DataType</td><td><div class=\"dni-plaintext\"><pre>bigint</pre></div></td></tr><tr><td>IsNullable</td><td><div class=\"dni-plaintext\"><pre>False</pre></div></td></tr><tr><td>Size</td><td><div class=\"dni-plaintext\"><pre>0</pre></div></td></tr></tbody></table></div></details></td></tr></tbody></table></td></tr></tbody></table></div></details></td></tr><tr><td>5</td><td><details class=\"dni-treeview\"><summary><span class=\"dni-code-hint\"><code>Submission#4+TableDefinition</code></span></summary><div><table><thead><tr></tr></thead><tbody><tr><td>SchemaName</td><td><div class=\"dni-plaintext\"><pre>rpt</pre></div></td></tr><tr><td>TableName</td><td><div class=\"dni-plaintext\"><pre>MessageQueue</pre></div></td></tr><tr><td>Columns</td><td><table><thead><tr><th><i>index</i></th><th>value</th></tr></thead><tbody><tr><td>0</td><td><details class=\"dni-treeview\"><summary><span class=\"dni-code-hint\"><code>Submission#4+ColumnDefinition</code></span></summary><div><table><thead><tr></tr></thead><tbody><tr><td>ColumnName</td><td><div class=\"dni-plaintext\"><pre>QueueId</pre></div></td></tr><tr><td>DataType</td><td><div class=\"dni-plaintext\"><pre>bigint</pre></div></td></tr><tr><td>IsNullable</td><td><div class=\"dni-plaintext\"><pre>False</pre></div></td></tr><tr><td>Size</td><td><div class=\"dni-plaintext\"><pre>0</pre></div></td></tr></tbody></table></div></details></td></tr><tr><td>1</td><td><details class=\"dni-treeview\"><summary><span class=\"dni-code-hint\"><code>Submission#4+ColumnDefinition</code></span></summary><div><table><thead><tr></tr></thead><tbody><tr><td>ColumnName</td><td><div class=\"dni-plaintext\"><pre>Topic</pre></div></td></tr><tr><td>DataType</td><td><div class=\"dni-plaintext\"><pre>varchar</pre></div></td></tr><tr><td>IsNullable</td><td><div class=\"dni-plaintext\"><pre>True</pre></div></td></tr><tr><td>Size</td><td><div class=\"dni-plaintext\"><pre>64</pre></div></td></tr></tbody></table></div></details></td></tr><tr><td>2</td><td><details class=\"dni-treeview\"><summary><span class=\"dni-code-hint\"><code>Submission#4+ColumnDefinition</code></span></summary><div><table><thead><tr></tr></thead><tbody><tr><td>ColumnName</td><td><div class=\"dni-plaintext\"><pre>MessageType</pre></div></td></tr><tr><td>DataType</td><td><div class=\"dni-plaintext\"><pre>varchar</pre></div></td></tr><tr><td>IsNullable</td><td><div class=\"dni-plaintext\"><pre>True</pre></div></td></tr><tr><td>Size</td><td><div class=\"dni-plaintext\"><pre>64</pre></div></td></tr></tbody></table></div></details></td></tr><tr><td>3</td><td><details class=\"dni-treeview\"><summary><span class=\"dni-code-hint\"><code>Submission#4+ColumnDefinition</code></span></summary><div><table><thead><tr></tr></thead><tbody><tr><td>ColumnName</td><td><div class=\"dni-plaintext\"><pre>Message</pre></div></td></tr><tr><td>DataType</td><td><div class=\"dni-plaintext\"><pre>nvarchar</pre></div></td></tr><tr><td>IsNullable</td><td><div class=\"dni-plaintext\"><pre>False</pre></div></td></tr><tr><td>Size</td><td><div class=\"dni-plaintext\"><pre>-1</pre></div></td></tr></tbody></table></div></details></td></tr><tr><td>4</td><td><details class=\"dni-treeview\"><summary><span class=\"dni-code-hint\"><code>Submission#4+ColumnDefinition</code></span></summary><div><table><thead><tr></tr></thead><tbody><tr><td>ColumnName</td><td><div class=\"dni-plaintext\"><pre>ExecutionTimeUtc</pre></div></td></tr><tr><td>DataType</td><td><div class=\"dni-plaintext\"><pre>datetime2</pre></div></td></tr><tr><td>IsNullable</td><td><div class=\"dni-plaintext\"><pre>True</pre></div></td></tr><tr><td>Size</td><td><div class=\"dni-plaintext\"><pre>0</pre></div></td></tr></tbody></table></div></details></td></tr><tr><td>5</td><td><details class=\"dni-treeview\"><summary><span class=\"dni-code-hint\"><code>Submission#4+ColumnDefinition</code></span></summary><div><table><thead><tr></tr></thead><tbody><tr><td>ColumnName</td><td><div class=\"dni-plaintext\"><pre>DateCreated</pre></div></td></tr><tr><td>DataType</td><td><div class=\"dni-plaintext\"><pre>datetime2</pre></div></td></tr><tr><td>IsNullable</td><td><div class=\"dni-plaintext\"><pre>False</pre></div></td></tr><tr><td>Size</td><td><div class=\"dni-plaintext\"><pre>0</pre></div></td></tr></tbody></table></div></details></td></tr></tbody></table></td></tr></tbody></table></div></details></td></tr><tr><td>6</td><td><details class=\"dni-treeview\"><summary><span class=\"dni-code-hint\"><code>Submission#4+TableDefinition</code></span></summary><div><table><thead><tr></tr></thead><tbody><tr><td>SchemaName</td><td><div class=\"dni-plaintext\"><pre>rpt</pre></div></td></tr><tr><td>TableName</td><td><div class=\"dni-plaintext\"><pre>MessageQueue_PreProcessing</pre></div></td></tr><tr><td>Columns</td><td><table><thead><tr><th><i>index</i></th><th>value</th></tr></thead><tbody><tr><td>0</td><td><details class=\"dni-treeview\"><summary><span class=\"dni-code-hint\"><code>Submission#4+ColumnDefinition</code></span></summary><div><table><thead><tr></tr></thead><tbody><tr><td>ColumnName</td><td><div class=\"dni-plaintext\"><pre>QueueId</pre></div></td></tr><tr><td>DataType</td><td><div class=\"dni-plaintext\"><pre>bigint</pre></div></td></tr><tr><td>IsNullable</td><td><div class=\"dni-plaintext\"><pre>False</pre></div></td></tr><tr><td>Size</td><td><div class=\"dni-plaintext\"><pre>0</pre></div></td></tr></tbody></table></div></details></td></tr><tr><td>1</td><td><details class=\"dni-treeview\"><summary><span class=\"dni-code-hint\"><code>Submission#4+ColumnDefinition</code></span></summary><div><table><thead><tr></tr></thead><tbody><tr><td>ColumnName</td><td><div class=\"dni-plaintext\"><pre>Category</pre></div></td></tr><tr><td>DataType</td><td><div class=\"dni-plaintext\"><pre>varchar</pre></div></td></tr><tr><td>IsNullable</td><td><div class=\"dni-plaintext\"><pre>True</pre></div></td></tr><tr><td>Size</td><td><div class=\"dni-plaintext\"><pre>64</pre></div></td></tr></tbody></table></div></details></td></tr><tr><td>2</td><td><details class=\"dni-treeview\"><summary><span class=\"dni-code-hint\"><code>Submission#4+ColumnDefinition</code></span></summary><div><table><thead><tr></tr></thead><tbody><tr><td>ColumnName</td><td><div class=\"dni-plaintext\"><pre>InputId</pre></div></td></tr><tr><td>DataType</td><td><div class=\"dni-plaintext\"><pre>bigint</pre></div></td></tr><tr><td>IsNullable</td><td><div class=\"dni-plaintext\"><pre>True</pre></div></td></tr><tr><td>Size</td><td><div class=\"dni-plaintext\"><pre>0</pre></div></td></tr></tbody></table></div></details></td></tr><tr><td>3</td><td><details class=\"dni-treeview\"><summary><span class=\"dni-code-hint\"><code>Submission#4+ColumnDefinition</code></span></summary><div><table><thead><tr></tr></thead><tbody><tr><td>ColumnName</td><td><div class=\"dni-plaintext\"><pre>InputType</pre></div></td></tr><tr><td>DataType</td><td><div class=\"dni-plaintext\"><pre>varchar</pre></div></td></tr><tr><td>IsNullable</td><td><div class=\"dni-plaintext\"><pre>True</pre></div></td></tr><tr><td>Size</td><td><div class=\"dni-plaintext\"><pre>20</pre></div></td></tr></tbody></table></div></details></td></tr><tr><td>4</td><td><details class=\"dni-treeview\"><summary><span class=\"dni-code-hint\"><code>Submission#4+ColumnDefinition</code></span></summary><div><table><thead><tr></tr></thead><tbody><tr><td>ColumnName</td><td><div class=\"dni-plaintext\"><pre>UserProfileKey</pre></div></td></tr><tr><td>DataType</td><td><div class=\"dni-plaintext\"><pre>bigint</pre></div></td></tr><tr><td>IsNullable</td><td><div class=\"dni-plaintext\"><pre>True</pre></div></td></tr><tr><td>Size</td><td><div class=\"dni-plaintext\"><pre>0</pre></div></td></tr></tbody></table></div></details></td></tr><tr><td>5</td><td><details class=\"dni-treeview\"><summary><span class=\"dni-code-hint\"><code>Submission#4+ColumnDefinition</code></span></summary><div><table><thead><tr></tr></thead><tbody><tr><td>ColumnName</td><td><div class=\"dni-plaintext\"><pre>DateCreated</pre></div></td></tr><tr><td>DataType</td><td><div class=\"dni-plaintext\"><pre>datetime2</pre></div></td></tr><tr><td>IsNullable</td><td><div class=\"dni-plaintext\"><pre>True</pre></div></td></tr><tr><td>Size</td><td><div class=\"dni-plaintext\"><pre>0</pre></div></td></tr></tbody></table></div></details></td></tr></tbody></table></td></tr></tbody></table></div></details></td></tr><tr><td>7</td><td><details class=\"dni-treeview\"><summary><span class=\"dni-code-hint\"><code>Submission#4+TableDefinition</code></span></summary><div><table><thead><tr></tr></thead><tbody><tr><td>SchemaName</td><td><div class=\"dni-plaintext\"><pre>rpt</pre></div></td></tr><tr><td>TableName</td><td><div class=\"dni-plaintext\"><pre>PathwayInsightsKPIs</pre></div></td></tr><tr><td>Columns</td><td><table><thead><tr><th><i>index</i></th><th>value</th></tr></thead><tbody><tr><td>0</td><td><details class=\"dni-treeview\"><summary><span class=\"dni-code-hint\"><code>Submission#4+ColumnDefinition</code></span></summary><div><table><thead><tr></tr></thead><tbody><tr><td>ColumnName</td><td><div class=\"dni-plaintext\"><pre>CollectionId</pre></div></td></tr><tr><td>DataType</td><td><div class=\"dni-plaintext\"><pre>bigint</pre></div></td></tr><tr><td>IsNullable</td><td><div class=\"dni-plaintext\"><pre>False</pre></div></td></tr><tr><td>Size</td><td><div class=\"dni-plaintext\"><pre>0</pre></div></td></tr></tbody></table></div></details></td></tr><tr><td>1</td><td><details class=\"dni-treeview\"><summary><span class=\"dni-code-hint\"><code>Submission#4+ColumnDefinition</code></span></summary><div><table><thead><tr></tr></thead><tbody><tr><td>ColumnName</td><td><div class=\"dni-plaintext\"><pre>PathwayViewCount</pre></div></td></tr><tr><td>DataType</td><td><div class=\"dni-plaintext\"><pre>bigint</pre></div></td></tr><tr><td>IsNullable</td><td><div class=\"dni-plaintext\"><pre>True</pre></div></td></tr><tr><td>Size</td><td><div class=\"dni-plaintext\"><pre>0</pre></div></td></tr></tbody></table></div></details></td></tr><tr><td>2</td><td><details class=\"dni-treeview\"><summary><span class=\"dni-code-hint\"><code>Submission#4+ColumnDefinition</code></span></summary><div><table><thead><tr></tr></thead><tbody><tr><td>ColumnName</td><td><div class=\"dni-plaintext\"><pre>PathwayCompleteCount</pre></div></td></tr><tr><td>DataType</td><td><div class=\"dni-plaintext\"><pre>bigint</pre></div></td></tr><tr><td>IsNullable</td><td><div class=\"dni-plaintext\"><pre>True</pre></div></td></tr><tr><td>Size</td><td><div class=\"dni-plaintext\"><pre>0</pre></div></td></tr></tbody></table></div></details></td></tr><tr><td>3</td><td><details class=\"dni-treeview\"><summary><span class=\"dni-code-hint\"><code>Submission#4+ColumnDefinition</code></span></summary><div><table><thead><tr></tr></thead><tbody><tr><td>ColumnName</td><td><div class=\"dni-plaintext\"><pre>PathwayEnrollCount</pre></div></td></tr><tr><td>DataType</td><td><div class=\"dni-plaintext\"><pre>bigint</pre></div></td></tr><tr><td>IsNullable</td><td><div class=\"dni-plaintext\"><pre>True</pre></div></td></tr><tr><td>Size</td><td><div class=\"dni-plaintext\"><pre>0</pre></div></td></tr></tbody></table></div></details></td></tr><tr><td>4</td><td><details class=\"dni-treeview\"><summary><span class=\"dni-code-hint\"><code>Submission#4+ColumnDefinition</code></span></summary><div><table><thead><tr></tr></thead><tbody><tr><td>ColumnName</td><td><div class=\"dni-plaintext\"><pre>DateCreated</pre></div></td></tr><tr><td>DataType</td><td><div class=\"dni-plaintext\"><pre>datetime2</pre></div></td></tr><tr><td>IsNullable</td><td><div class=\"dni-plaintext\"><pre>True</pre></div></td></tr><tr><td>Size</td><td><div class=\"dni-plaintext\"><pre>0</pre></div></td></tr></tbody></table></div></details></td></tr><tr><td>5</td><td><details class=\"dni-treeview\"><summary><span class=\"dni-code-hint\"><code>Submission#4+ColumnDefinition</code></span></summary><div><table><thead><tr></tr></thead><tbody><tr><td>ColumnName</td><td><div class=\"dni-plaintext\"><pre>OrganizationId</pre></div></td></tr><tr><td>DataType</td><td><div class=\"dni-plaintext\"><pre>bigint</pre></div></td></tr><tr><td>IsNullable</td><td><div class=\"dni-plaintext\"><pre>False</pre></div></td></tr><tr><td>Size</td><td><div class=\"dni-plaintext\"><pre>0</pre></div></td></tr></tbody></table></div></details></td></tr><tr><td>6</td><td><details class=\"dni-treeview\"><summary><span class=\"dni-code-hint\"><code>Submission#4+ColumnDefinition</code></span></summary><div><table><thead><tr></tr></thead><tbody><tr><td>ColumnName</td><td><div class=\"dni-plaintext\"><pre>DateUpdated</pre></div></td></tr><tr><td>DataType</td><td><div class=\"dni-plaintext\"><pre>datetime</pre></div></td></tr><tr><td>IsNullable</td><td><div class=\"dni-plaintext\"><pre>True</pre></div></td></tr><tr><td>Size</td><td><div class=\"dni-plaintext\"><pre>0</pre></div></td></tr></tbody></table></div></details></td></tr></tbody></table></td></tr></tbody></table></div></details></td></tr><tr><td>8</td><td><details class=\"dni-treeview\"><summary><span class=\"dni-code-hint\"><code>Submission#4+TableDefinition</code></span></summary><div><table><thead><tr></tr></thead><tbody><tr><td>SchemaName</td><td><div class=\"dni-plaintext\"><pre>rpt</pre></div></td></tr><tr><td>TableName</td><td><div class=\"dni-plaintext\"><pre>PopularContentTags</pre></div></td></tr><tr><td>Columns</td><td><table><thead><tr><th><i>index</i></th><th>value</th></tr></thead><tbody><tr><td>0</td><td><details class=\"dni-treeview\"><summary><span class=\"dni-code-hint\"><code>Submission#4+ColumnDefinition</code></span></summary><div><table><thead><tr></tr></thead><tbody><tr><td>ColumnName</td><td><div class=\"dni-plaintext\"><pre>ReportDate</pre></div></td></tr><tr><td>DataType</td><td><div class=\"dni-plaintext\"><pre>date</pre></div></td></tr><tr><td>IsNullable</td><td><div class=\"dni-plaintext\"><pre>False</pre></div></td></tr><tr><td>Size</td><td><div class=\"dni-plaintext\"><pre>0</pre></div></td></tr></tbody></table></div></details></td></tr><tr><td>1</td><td><details class=\"dni-treeview\"><summary><span class=\"dni-code-hint\"><code>Submission#4+ColumnDefinition</code></span></summary><div><table><thead><tr></tr></thead><tbody><tr><td>ColumnName</td><td><div class=\"dni-plaintext\"><pre>OrganizationId</pre></div></td></tr><tr><td>DataType</td><td><div class=\"dni-plaintext\"><pre>bigint</pre></div></td></tr><tr><td>IsNullable</td><td><div class=\"dni-plaintext\"><pre>True</pre></div></td></tr><tr><td>Size</td><td><div class=\"dni-plaintext\"><pre>0</pre></div></td></tr></tbody></table></div></details></td></tr><tr><td>2</td><td><details class=\"dni-treeview\"><summary><span class=\"dni-code-hint\"><code>Submission#4+ColumnDefinition</code></span></summary><div><table><thead><tr></tr></thead><tbody><tr><td>ColumnName</td><td><div class=\"dni-plaintext\"><pre>UserProfileKey</pre></div></td></tr><tr><td>DataType</td><td><div class=\"dni-plaintext\"><pre>bigint</pre></div></td></tr><tr><td>IsNullable</td><td><div class=\"dni-plaintext\"><pre>True</pre></div></td></tr><tr><td>Size</td><td><div class=\"dni-plaintext\"><pre>0</pre></div></td></tr></tbody></table></div></details></td></tr><tr><td>3</td><td><details class=\"dni-treeview\"><summary><span class=\"dni-code-hint\"><code>Submission#4+ColumnDefinition</code></span></summary><div><table><thead><tr></tr></thead><tbody><tr><td>ColumnName</td><td><div class=\"dni-plaintext\"><pre>InputTypeId</pre></div></td></tr><tr><td>DataType</td><td><div class=\"dni-plaintext\"><pre>int</pre></div></td></tr><tr><td>IsNullable</td><td><div class=\"dni-plaintext\"><pre>True</pre></div></td></tr><tr><td>Size</td><td><div class=\"dni-plaintext\"><pre>0</pre></div></td></tr></tbody></table></div></details></td></tr><tr><td>4</td><td><details class=\"dni-treeview\"><summary><span class=\"dni-code-hint\"><code>Submission#4+ColumnDefinition</code></span></summary><div><table><thead><tr></tr></thead><tbody><tr><td>ColumnName</td><td><div class=\"dni-plaintext\"><pre>TagId</pre></div></td></tr><tr><td>DataType</td><td><div class=\"dni-plaintext\"><pre>bigint</pre></div></td></tr><tr><td>IsNullable</td><td><div class=\"dni-plaintext\"><pre>True</pre></div></td></tr><tr><td>Size</td><td><div class=\"dni-plaintext\"><pre>0</pre></div></td></tr></tbody></table></div></details></td></tr><tr><td>5</td><td><details class=\"dni-treeview\"><summary><span class=\"dni-code-hint\"><code>Submission#4+ColumnDefinition</code></span></summary><div><table><thead><tr></tr></thead><tbody><tr><td>ColumnName</td><td><div class=\"dni-plaintext\"><pre>InputCount</pre></div></td></tr><tr><td>DataType</td><td><div class=\"dni-plaintext\"><pre>int</pre></div></td></tr><tr><td>IsNullable</td><td><div class=\"dni-plaintext\"><pre>True</pre></div></td></tr><tr><td>Size</td><td><div class=\"dni-plaintext\"><pre>0</pre></div></td></tr></tbody></table></div></details></td></tr><tr><td>6</td><td><details class=\"dni-treeview\"><summary><span class=\"dni-code-hint\"><code>Submission#4+ColumnDefinition</code></span></summary><div><table><thead><tr></tr></thead><tbody><tr><td>ColumnName</td><td><div class=\"dni-plaintext\"><pre>MasteryPoints</pre></div></td></tr><tr><td>DataType</td><td><div class=\"dni-plaintext\"><pre>decimal</pre></div></td></tr><tr><td>IsNullable</td><td><div class=\"dni-plaintext\"><pre>True</pre></div></td></tr><tr><td>Size</td><td><div class=\"dni-plaintext\"><pre>0</pre></div></td></tr></tbody></table></div></details></td></tr></tbody></table></td></tr></tbody></table></div></details></td></tr><tr><td>9</td><td><details class=\"dni-treeview\"><summary><span class=\"dni-code-hint\"><code>Submission#4+TableDefinition</code></span></summary><div><table><thead><tr></tr></thead><tbody><tr><td>SchemaName</td><td><div class=\"dni-plaintext\"><pre>rpt</pre></div></td></tr><tr><td>TableName</td><td><div class=\"dni-plaintext\"><pre>PopularContentTags_Switch</pre></div></td></tr><tr><td>Columns</td><td><table><thead><tr><th><i>index</i></th><th>value</th></tr></thead><tbody><tr><td>0</td><td><details class=\"dni-treeview\"><summary><span class=\"dni-code-hint\"><code>Submission#4+ColumnDefinition</code></span></summary><div><table><thead><tr></tr></thead><tbody><tr><td>ColumnName</td><td><div class=\"dni-plaintext\"><pre>ReportDate</pre></div></td></tr><tr><td>DataType</td><td><div class=\"dni-plaintext\"><pre>date</pre></div></td></tr><tr><td>IsNullable</td><td><div class=\"dni-plaintext\"><pre>False</pre></div></td></tr><tr><td>Size</td><td><div class=\"dni-plaintext\"><pre>0</pre></div></td></tr></tbody></table></div></details></td></tr><tr><td>1</td><td><details class=\"dni-treeview\"><summary><span class=\"dni-code-hint\"><code>Submission#4+ColumnDefinition</code></span></summary><div><table><thead><tr></tr></thead><tbody><tr><td>ColumnName</td><td><div class=\"dni-plaintext\"><pre>OrganizationId</pre></div></td></tr><tr><td>DataType</td><td><div class=\"dni-plaintext\"><pre>bigint</pre></div></td></tr><tr><td>IsNullable</td><td><div class=\"dni-plaintext\"><pre>True</pre></div></td></tr><tr><td>Size</td><td><div class=\"dni-plaintext\"><pre>0</pre></div></td></tr></tbody></table></div></details></td></tr><tr><td>2</td><td><details class=\"dni-treeview\"><summary><span class=\"dni-code-hint\"><code>Submission#4+ColumnDefinition</code></span></summary><div><table><thead><tr></tr></thead><tbody><tr><td>ColumnName</td><td><div class=\"dni-plaintext\"><pre>UserProfileKey</pre></div></td></tr><tr><td>DataType</td><td><div class=\"dni-plaintext\"><pre>bigint</pre></div></td></tr><tr><td>IsNullable</td><td><div class=\"dni-plaintext\"><pre>True</pre></div></td></tr><tr><td>Size</td><td><div class=\"dni-plaintext\"><pre>0</pre></div></td></tr></tbody></table></div></details></td></tr><tr><td>3</td><td><details class=\"dni-treeview\"><summary><span class=\"dni-code-hint\"><code>Submission#4+ColumnDefinition</code></span></summary><div><table><thead><tr></tr></thead><tbody><tr><td>ColumnName</td><td><div class=\"dni-plaintext\"><pre>InputTypeId</pre></div></td></tr><tr><td>DataType</td><td><div class=\"dni-plaintext\"><pre>int</pre></div></td></tr><tr><td>IsNullable</td><td><div class=\"dni-plaintext\"><pre>True</pre></div></td></tr><tr><td>Size</td><td><div class=\"dni-plaintext\"><pre>0</pre></div></td></tr></tbody></table></div></details></td></tr><tr><td>4</td><td><details class=\"dni-treeview\"><summary><span class=\"dni-code-hint\"><code>Submission#4+ColumnDefinition</code></span></summary><div><table><thead><tr></tr></thead><tbody><tr><td>ColumnName</td><td><div class=\"dni-plaintext\"><pre>TagId</pre></div></td></tr><tr><td>DataType</td><td><div class=\"dni-plaintext\"><pre>bigint</pre></div></td></tr><tr><td>IsNullable</td><td><div class=\"dni-plaintext\"><pre>True</pre></div></td></tr><tr><td>Size</td><td><div class=\"dni-plaintext\"><pre>0</pre></div></td></tr></tbody></table></div></details></td></tr><tr><td>5</td><td><details class=\"dni-treeview\"><summary><span class=\"dni-code-hint\"><code>Submission#4+ColumnDefinition</code></span></summary><div><table><thead><tr></tr></thead><tbody><tr><td>ColumnName</td><td><div class=\"dni-plaintext\"><pre>InputCount</pre></div></td></tr><tr><td>DataType</td><td><div class=\"dni-plaintext\"><pre>int</pre></div></td></tr><tr><td>IsNullable</td><td><div class=\"dni-plaintext\"><pre>True</pre></div></td></tr><tr><td>Size</td><td><div class=\"dni-plaintext\"><pre>0</pre></div></td></tr></tbody></table></div></details></td></tr><tr><td>6</td><td><details class=\"dni-treeview\"><summary><span class=\"dni-code-hint\"><code>Submission#4+ColumnDefinition</code></span></summary><div><table><thead><tr></tr></thead><tbody><tr><td>ColumnName</td><td><div class=\"dni-plaintext\"><pre>MasteryPoints</pre></div></td></tr><tr><td>DataType</td><td><div class=\"dni-plaintext\"><pre>decimal</pre></div></td></tr><tr><td>IsNullable</td><td><div class=\"dni-plaintext\"><pre>True</pre></div></td></tr><tr><td>Size</td><td><div class=\"dni-plaintext\"><pre>0</pre></div></td></tr></tbody></table></div></details></td></tr></tbody></table></td></tr></tbody></table></div></details></td></tr><tr><td>10</td><td><details class=\"dni-treeview\"><summary><span class=\"dni-code-hint\"><code>Submission#4+TableDefinition</code></span></summary><div><table><thead><tr></tr></thead><tbody><tr><td>SchemaName</td><td><div class=\"dni-plaintext\"><pre>rpt</pre></div></td></tr><tr><td>TableName</td><td><div class=\"dni-plaintext\"><pre>PopularContentTags_Switch</pre></div></td></tr><tr><td>Columns</td><td><table><thead><tr><th><i>index</i></th><th>value</th></tr></thead><tbody><tr><td>0</td><td><details class=\"dni-treeview\"><summary><span class=\"dni-code-hint\"><code>Submission#4+ColumnDefinition</code></span></summary><div><table><thead><tr></tr></thead><tbody><tr><td>ColumnName</td><td><div class=\"dni-plaintext\"><pre>ReportDate</pre></div></td></tr><tr><td>DataType</td><td><div class=\"dni-plaintext\"><pre>date</pre></div></td></tr><tr><td>IsNullable</td><td><div class=\"dni-plaintext\"><pre>False</pre></div></td></tr><tr><td>Size</td><td><div class=\"dni-plaintext\"><pre>0</pre></div></td></tr></tbody></table></div></details></td></tr><tr><td>1</td><td><details class=\"dni-treeview\"><summary><span class=\"dni-code-hint\"><code>Submission#4+ColumnDefinition</code></span></summary><div><table><thead><tr></tr></thead><tbody><tr><td>ColumnName</td><td><div class=\"dni-plaintext\"><pre>OrganizationId</pre></div></td></tr><tr><td>DataType</td><td><div class=\"dni-plaintext\"><pre>bigint</pre></div></td></tr><tr><td>IsNullable</td><td><div class=\"dni-plaintext\"><pre>True</pre></div></td></tr><tr><td>Size</td><td><div class=\"dni-plaintext\"><pre>0</pre></div></td></tr></tbody></table></div></details></td></tr><tr><td>2</td><td><details class=\"dni-treeview\"><summary><span class=\"dni-code-hint\"><code>Submission#4+ColumnDefinition</code></span></summary><div><table><thead><tr></tr></thead><tbody><tr><td>ColumnName</td><td><div class=\"dni-plaintext\"><pre>UserProfileKey</pre></div></td></tr><tr><td>DataType</td><td><div class=\"dni-plaintext\"><pre>bigint</pre></div></td></tr><tr><td>IsNullable</td><td><div class=\"dni-plaintext\"><pre>True</pre></div></td></tr><tr><td>Size</td><td><div class=\"dni-plaintext\"><pre>0</pre></div></td></tr></tbody></table></div></details></td></tr><tr><td>3</td><td><details class=\"dni-treeview\"><summary><span class=\"dni-code-hint\"><code>Submission#4+ColumnDefinition</code></span></summary><div><table><thead><tr></tr></thead><tbody><tr><td>ColumnName</td><td><div class=\"dni-plaintext\"><pre>InputTypeId</pre></div></td></tr><tr><td>DataType</td><td><div class=\"dni-plaintext\"><pre>int</pre></div></td></tr><tr><td>IsNullable</td><td><div class=\"dni-plaintext\"><pre>True</pre></div></td></tr><tr><td>Size</td><td><div class=\"dni-plaintext\"><pre>0</pre></div></td></tr></tbody></table></div></details></td></tr><tr><td>4</td><td><details class=\"dni-treeview\"><summary><span class=\"dni-code-hint\"><code>Submission#4+ColumnDefinition</code></span></summary><div><table><thead><tr></tr></thead><tbody><tr><td>ColumnName</td><td><div class=\"dni-plaintext\"><pre>TagId</pre></div></td></tr><tr><td>DataType</td><td><div class=\"dni-plaintext\"><pre>bigint</pre></div></td></tr><tr><td>IsNullable</td><td><div class=\"dni-plaintext\"><pre>True</pre></div></td></tr><tr><td>Size</td><td><div class=\"dni-plaintext\"><pre>0</pre></div></td></tr></tbody></table></div></details></td></tr><tr><td>5</td><td><details class=\"dni-treeview\"><summary><span class=\"dni-code-hint\"><code>Submission#4+ColumnDefinition</code></span></summary><div><table><thead><tr></tr></thead><tbody><tr><td>ColumnName</td><td><div class=\"dni-plaintext\"><pre>InputCount</pre></div></td></tr><tr><td>DataType</td><td><div class=\"dni-plaintext\"><pre>int</pre></div></td></tr><tr><td>IsNullable</td><td><div class=\"dni-plaintext\"><pre>True</pre></div></td></tr><tr><td>Size</td><td><div class=\"dni-plaintext\"><pre>0</pre></div></td></tr></tbody></table></div></details></td></tr><tr><td>6</td><td><details class=\"dni-treeview\"><summary><span class=\"dni-code-hint\"><code>Submission#4+ColumnDefinition</code></span></summary><div><table><thead><tr></tr></thead><tbody><tr><td>ColumnName</td><td><div class=\"dni-plaintext\"><pre>MasteryPoints</pre></div></td></tr><tr><td>DataType</td><td><div class=\"dni-plaintext\"><pre>decimal</pre></div></td></tr><tr><td>IsNullable</td><td><div class=\"dni-plaintext\"><pre>True</pre></div></td></tr><tr><td>Size</td><td><div class=\"dni-plaintext\"><pre>0</pre></div></td></tr></tbody></table></div></details></td></tr></tbody></table></td></tr></tbody></table></div></details></td></tr><tr><td>11</td><td><details class=\"dni-treeview\"><summary><span class=\"dni-code-hint\"><code>Submission#4+TableDefinition</code></span></summary><div><table><thead><tr></tr></thead><tbody><tr><td>SchemaName</td><td><div class=\"dni-plaintext\"><pre>rpt</pre></div></td></tr><tr><td>TableName</td><td><div class=\"dni-plaintext\"><pre>PopularContentTags_Switch_Empty</pre></div></td></tr><tr><td>Columns</td><td><table><thead><tr><th><i>index</i></th><th>value</th></tr></thead><tbody><tr><td>0</td><td><details class=\"dni-treeview\"><summary><span class=\"dni-code-hint\"><code>Submission#4+ColumnDefinition</code></span></summary><div><table><thead><tr></tr></thead><tbody><tr><td>ColumnName</td><td><div class=\"dni-plaintext\"><pre>ReportDate</pre></div></td></tr><tr><td>DataType</td><td><div class=\"dni-plaintext\"><pre>date</pre></div></td></tr><tr><td>IsNullable</td><td><div class=\"dni-plaintext\"><pre>False</pre></div></td></tr><tr><td>Size</td><td><div class=\"dni-plaintext\"><pre>0</pre></div></td></tr></tbody></table></div></details></td></tr><tr><td>1</td><td><details class=\"dni-treeview\"><summary><span class=\"dni-code-hint\"><code>Submission#4+ColumnDefinition</code></span></summary><div><table><thead><tr></tr></thead><tbody><tr><td>ColumnName</td><td><div class=\"dni-plaintext\"><pre>OrganizationId</pre></div></td></tr><tr><td>DataType</td><td><div class=\"dni-plaintext\"><pre>bigint</pre></div></td></tr><tr><td>IsNullable</td><td><div class=\"dni-plaintext\"><pre>True</pre></div></td></tr><tr><td>Size</td><td><div class=\"dni-plaintext\"><pre>0</pre></div></td></tr></tbody></table></div></details></td></tr><tr><td>2</td><td><details class=\"dni-treeview\"><summary><span class=\"dni-code-hint\"><code>Submission#4+ColumnDefinition</code></span></summary><div><table><thead><tr></tr></thead><tbody><tr><td>ColumnName</td><td><div class=\"dni-plaintext\"><pre>UserProfileKey</pre></div></td></tr><tr><td>DataType</td><td><div class=\"dni-plaintext\"><pre>bigint</pre></div></td></tr><tr><td>IsNullable</td><td><div class=\"dni-plaintext\"><pre>True</pre></div></td></tr><tr><td>Size</td><td><div class=\"dni-plaintext\"><pre>0</pre></div></td></tr></tbody></table></div></details></td></tr><tr><td>3</td><td><details class=\"dni-treeview\"><summary><span class=\"dni-code-hint\"><code>Submission#4+ColumnDefinition</code></span></summary><div><table><thead><tr></tr></thead><tbody><tr><td>ColumnName</td><td><div class=\"dni-plaintext\"><pre>InputTypeId</pre></div></td></tr><tr><td>DataType</td><td><div class=\"dni-plaintext\"><pre>int</pre></div></td></tr><tr><td>IsNullable</td><td><div class=\"dni-plaintext\"><pre>True</pre></div></td></tr><tr><td>Size</td><td><div class=\"dni-plaintext\"><pre>0</pre></div></td></tr></tbody></table></div></details></td></tr><tr><td>4</td><td><details class=\"dni-treeview\"><summary><span class=\"dni-code-hint\"><code>Submission#4+ColumnDefinition</code></span></summary><div><table><thead><tr></tr></thead><tbody><tr><td>ColumnName</td><td><div class=\"dni-plaintext\"><pre>TagId</pre></div></td></tr><tr><td>DataType</td><td><div class=\"dni-plaintext\"><pre>bigint</pre></div></td></tr><tr><td>IsNullable</td><td><div class=\"dni-plaintext\"><pre>True</pre></div></td></tr><tr><td>Size</td><td><div class=\"dni-plaintext\"><pre>0</pre></div></td></tr></tbody></table></div></details></td></tr><tr><td>5</td><td><details class=\"dni-treeview\"><summary><span class=\"dni-code-hint\"><code>Submission#4+ColumnDefinition</code></span></summary><div><table><thead><tr></tr></thead><tbody><tr><td>ColumnName</td><td><div class=\"dni-plaintext\"><pre>InputCount</pre></div></td></tr><tr><td>DataType</td><td><div class=\"dni-plaintext\"><pre>int</pre></div></td></tr><tr><td>IsNullable</td><td><div class=\"dni-plaintext\"><pre>True</pre></div></td></tr><tr><td>Size</td><td><div class=\"dni-plaintext\"><pre>0</pre></div></td></tr></tbody></table></div></details></td></tr><tr><td>6</td><td><details class=\"dni-treeview\"><summary><span class=\"dni-code-hint\"><code>Submission#4+ColumnDefinition</code></span></summary><div><table><thead><tr></tr></thead><tbody><tr><td>ColumnName</td><td><div class=\"dni-plaintext\"><pre>MasteryPoints</pre></div></td></tr><tr><td>DataType</td><td><div class=\"dni-plaintext\"><pre>decimal</pre></div></td></tr><tr><td>IsNullable</td><td><div class=\"dni-plaintext\"><pre>True</pre></div></td></tr><tr><td>Size</td><td><div class=\"dni-plaintext\"><pre>0</pre></div></td></tr></tbody></table></div></details></td></tr></tbody></table></td></tr></tbody></table></div></details></td></tr><tr><td>12</td><td><details class=\"dni-treeview\"><summary><span class=\"dni-code-hint\"><code>Submission#4+TableDefinition</code></span></summary><div><table><thead><tr></tr></thead><tbody><tr><td>SchemaName</td><td><div class=\"dni-plaintext\"><pre>rpt</pre></div></td></tr><tr><td>TableName</td><td><div class=\"dni-plaintext\"><pre>PopularSearchTerms</pre></div></td></tr><tr><td>Columns</td><td><table><thead><tr><th><i>index</i></th><th>value</th></tr></thead><tbody><tr><td>0</td><td><details class=\"dni-treeview\"><summary><span class=\"dni-code-hint\"><code>Submission#4+ColumnDefinition</code></span></summary><div><table><thead><tr></tr></thead><tbody><tr><td>ColumnName</td><td><div class=\"dni-plaintext\"><pre>Id</pre></div></td></tr><tr><td>DataType</td><td><div class=\"dni-plaintext\"><pre>bigint</pre></div></td></tr><tr><td>IsNullable</td><td><div class=\"dni-plaintext\"><pre>False</pre></div></td></tr><tr><td>Size</td><td><div class=\"dni-plaintext\"><pre>0</pre></div></td></tr></tbody></table></div></details></td></tr><tr><td>1</td><td><details class=\"dni-treeview\"><summary><span class=\"dni-code-hint\"><code>Submission#4+ColumnDefinition</code></span></summary><div><table><thead><tr></tr></thead><tbody><tr><td>ColumnName</td><td><div class=\"dni-plaintext\"><pre>DateSearched</pre></div></td></tr><tr><td>DataType</td><td><div class=\"dni-plaintext\"><pre>date</pre></div></td></tr><tr><td>IsNullable</td><td><div class=\"dni-plaintext\"><pre>True</pre></div></td></tr><tr><td>Size</td><td><div class=\"dni-plaintext\"><pre>0</pre></div></td></tr></tbody></table></div></details></td></tr><tr><td>2</td><td><details class=\"dni-treeview\"><summary><span class=\"dni-code-hint\"><code>Submission#4+ColumnDefinition</code></span></summary><div><table><thead><tr></tr></thead><tbody><tr><td>ColumnName</td><td><div class=\"dni-plaintext\"><pre>OrganizationId</pre></div></td></tr><tr><td>DataType</td><td><div class=\"dni-plaintext\"><pre>bigint</pre></div></td></tr><tr><td>IsNullable</td><td><div class=\"dni-plaintext\"><pre>True</pre></div></td></tr><tr><td>Size</td><td><div class=\"dni-plaintext\"><pre>0</pre></div></td></tr></tbody></table></div></details></td></tr><tr><td>3</td><td><details class=\"dni-treeview\"><summary><span class=\"dni-code-hint\"><code>Submission#4+ColumnDefinition</code></span></summary><div><table><thead><tr></tr></thead><tbody><tr><td>ColumnName</td><td><div class=\"dni-plaintext\"><pre>SearchTerm</pre></div></td></tr><tr><td>DataType</td><td><div class=\"dni-plaintext\"><pre>nvarchar</pre></div></td></tr><tr><td>IsNullable</td><td><div class=\"dni-plaintext\"><pre>True</pre></div></td></tr><tr><td>Size</td><td><div class=\"dni-plaintext\"><pre>2000</pre></div></td></tr></tbody></table></div></details></td></tr><tr><td>4</td><td><details class=\"dni-treeview\"><summary><span class=\"dni-code-hint\"><code>Submission#4+ColumnDefinition</code></span></summary><div><table><thead><tr></tr></thead><tbody><tr><td>ColumnName</td><td><div class=\"dni-plaintext\"><pre>SearchTermCount</pre></div></td></tr><tr><td>DataType</td><td><div class=\"dni-plaintext\"><pre>int</pre></div></td></tr><tr><td>IsNullable</td><td><div class=\"dni-plaintext\"><pre>True</pre></div></td></tr><tr><td>Size</td><td><div class=\"dni-plaintext\"><pre>0</pre></div></td></tr></tbody></table></div></details></td></tr></tbody></table></td></tr></tbody></table></div></details></td></tr><tr><td>13</td><td><details class=\"dni-treeview\"><summary><span class=\"dni-code-hint\"><code>Submission#4+TableDefinition</code></span></summary><div><table><thead><tr></tr></thead><tbody><tr><td>SchemaName</td><td><div class=\"dni-plaintext\"><pre>rpt</pre></div></td></tr><tr><td>TableName</td><td><div class=\"dni-plaintext\"><pre>PopularUserTags</pre></div></td></tr><tr><td>Columns</td><td><table><thead><tr><th><i>index</i></th><th>value</th></tr></thead><tbody><tr><td>0</td><td><details class=\"dni-treeview\"><summary><span class=\"dni-code-hint\"><code>Submission#4+ColumnDefinition</code></span></summary><div><table><thead><tr></tr></thead><tbody><tr><td>ColumnName</td><td><div class=\"dni-plaintext\"><pre>PopularUserTagsId</pre></div></td></tr><tr><td>DataType</td><td><div class=\"dni-plaintext\"><pre>bigint</pre></div></td></tr><tr><td>IsNullable</td><td><div class=\"dni-plaintext\"><pre>False</pre></div></td></tr><tr><td>Size</td><td><div class=\"dni-plaintext\"><pre>0</pre></div></td></tr></tbody></table></div></details></td></tr><tr><td>1</td><td><details class=\"dni-treeview\"><summary><span class=\"dni-code-hint\"><code>Submission#4+ColumnDefinition</code></span></summary><div><table><thead><tr></tr></thead><tbody><tr><td>ColumnName</td><td><div class=\"dni-plaintext\"><pre>ReportDate</pre></div></td></tr><tr><td>DataType</td><td><div class=\"dni-plaintext\"><pre>date</pre></div></td></tr><tr><td>IsNullable</td><td><div class=\"dni-plaintext\"><pre>False</pre></div></td></tr><tr><td>Size</td><td><div class=\"dni-plaintext\"><pre>0</pre></div></td></tr></tbody></table></div></details></td></tr><tr><td>2</td><td><details class=\"dni-treeview\"><summary><span class=\"dni-code-hint\"><code>Submission#4+ColumnDefinition</code></span></summary><div><table><thead><tr></tr></thead><tbody><tr><td>ColumnName</td><td><div class=\"dni-plaintext\"><pre>OrganizationId</pre></div></td></tr><tr><td>DataType</td><td><div class=\"dni-plaintext\"><pre>bigint</pre></div></td></tr><tr><td>IsNullable</td><td><div class=\"dni-plaintext\"><pre>True</pre></div></td></tr><tr><td>Size</td><td><div class=\"dni-plaintext\"><pre>0</pre></div></td></tr></tbody></table></div></details></td></tr><tr><td>3</td><td><details class=\"dni-treeview\"><summary><span class=\"dni-code-hint\"><code>Submission#4+ColumnDefinition</code></span></summary><div><table><thead><tr></tr></thead><tbody><tr><td>ColumnName</td><td><div class=\"dni-plaintext\"><pre>InputTypeId</pre></div></td></tr><tr><td>DataType</td><td><div class=\"dni-plaintext\"><pre>int</pre></div></td></tr><tr><td>IsNullable</td><td><div class=\"dni-plaintext\"><pre>True</pre></div></td></tr><tr><td>Size</td><td><div class=\"dni-plaintext\"><pre>0</pre></div></td></tr></tbody></table></div></details></td></tr><tr><td>4</td><td><details class=\"dni-treeview\"><summary><span class=\"dni-code-hint\"><code>Submission#4+ColumnDefinition</code></span></summary><div><table><thead><tr></tr></thead><tbody><tr><td>ColumnName</td><td><div class=\"dni-plaintext\"><pre>TagId</pre></div></td></tr><tr><td>DataType</td><td><div class=\"dni-plaintext\"><pre>bigint</pre></div></td></tr><tr><td>IsNullable</td><td><div class=\"dni-plaintext\"><pre>True</pre></div></td></tr><tr><td>Size</td><td><div class=\"dni-plaintext\"><pre>0</pre></div></td></tr></tbody></table></div></details></td></tr><tr><td>5</td><td><details class=\"dni-treeview\"><summary><span class=\"dni-code-hint\"><code>Submission#4+ColumnDefinition</code></span></summary><div><table><thead><tr></tr></thead><tbody><tr><td>ColumnName</td><td><div class=\"dni-plaintext\"><pre>InputCount</pre></div></td></tr><tr><td>DataType</td><td><div class=\"dni-plaintext\"><pre>int</pre></div></td></tr><tr><td>IsNullable</td><td><div class=\"dni-plaintext\"><pre>True</pre></div></td></tr><tr><td>Size</td><td><div class=\"dni-plaintext\"><pre>0</pre></div></td></tr></tbody></table></div></details></td></tr><tr><td>6</td><td><details class=\"dni-treeview\"><summary><span class=\"dni-code-hint\"><code>Submission#4+ColumnDefinition</code></span></summary><div><table><thead><tr></tr></thead><tbody><tr><td>ColumnName</td><td><div class=\"dni-plaintext\"><pre>MasteryPoints</pre></div></td></tr><tr><td>DataType</td><td><div class=\"dni-plaintext\"><pre>decimal</pre></div></td></tr><tr><td>IsNullable</td><td><div class=\"dni-plaintext\"><pre>True</pre></div></td></tr><tr><td>Size</td><td><div class=\"dni-plaintext\"><pre>0</pre></div></td></tr></tbody></table></div></details></td></tr><tr><td>7</td><td><details class=\"dni-treeview\"><summary><span class=\"dni-code-hint\"><code>Submission#4+ColumnDefinition</code></span></summary><div><table><thead><tr></tr></thead><tbody><tr><td>ColumnName</td><td><div class=\"dni-plaintext\"><pre>UserProfileKey</pre></div></td></tr><tr><td>DataType</td><td><div class=\"dni-plaintext\"><pre>bigint</pre></div></td></tr><tr><td>IsNullable</td><td><div class=\"dni-plaintext\"><pre>True</pre></div></td></tr><tr><td>Size</td><td><div class=\"dni-plaintext\"><pre>0</pre></div></td></tr></tbody></table></div></details></td></tr></tbody></table></td></tr></tbody></table></div></details></td></tr><tr><td>14</td><td><details class=\"dni-treeview\"><summary><span class=\"dni-code-hint\"><code>Submission#4+TableDefinition</code></span></summary><div><table><thead><tr></tr></thead><tbody><tr><td>SchemaName</td><td><div class=\"dni-plaintext\"><pre>rpt</pre></div></td></tr><tr><td>TableName</td><td><div class=\"dni-plaintext\"><pre>RelatedContent</pre></div></td></tr><tr><td>Columns</td><td><table><thead><tr><th><i>index</i></th><th>value</th></tr></thead><tbody><tr><td>0</td><td><details class=\"dni-treeview\"><summary><span class=\"dni-code-hint\"><code>Submission#4+ColumnDefinition</code></span></summary><div><table><thead><tr></tr></thead><tbody><tr><td>ColumnName</td><td><div class=\"dni-plaintext\"><pre>ResourceTypeId</pre></div></td></tr><tr><td>DataType</td><td><div class=\"dni-plaintext\"><pre>tinyint</pre></div></td></tr><tr><td>IsNullable</td><td><div class=\"dni-plaintext\"><pre>False</pre></div></td></tr><tr><td>Size</td><td><div class=\"dni-plaintext\"><pre>0</pre></div></td></tr></tbody></table></div></details></td></tr><tr><td>1</td><td><details class=\"dni-treeview\"><summary><span class=\"dni-code-hint\"><code>Submission#4+ColumnDefinition</code></span></summary><div><table><thead><tr></tr></thead><tbody><tr><td>ColumnName</td><td><div class=\"dni-plaintext\"><pre>ResourceId</pre></div></td></tr><tr><td>DataType</td><td><div class=\"dni-plaintext\"><pre>bigint</pre></div></td></tr><tr><td>IsNullable</td><td><div class=\"dni-plaintext\"><pre>False</pre></div></td></tr><tr><td>Size</td><td><div class=\"dni-plaintext\"><pre>0</pre></div></td></tr></tbody></table></div></details></td></tr><tr><td>2</td><td><details class=\"dni-treeview\"><summary><span class=\"dni-code-hint\"><code>Submission#4+ColumnDefinition</code></span></summary><div><table><thead><tr></tr></thead><tbody><tr><td>ColumnName</td><td><div class=\"dni-plaintext\"><pre>UserOrganizationId</pre></div></td></tr><tr><td>DataType</td><td><div class=\"dni-plaintext\"><pre>bigint</pre></div></td></tr><tr><td>IsNullable</td><td><div class=\"dni-plaintext\"><pre>False</pre></div></td></tr><tr><td>Size</td><td><div class=\"dni-plaintext\"><pre>0</pre></div></td></tr></tbody></table></div></details></td></tr><tr><td>3</td><td><details class=\"dni-treeview\"><summary><span class=\"dni-code-hint\"><code>Submission#4+ColumnDefinition</code></span></summary><div><table><thead><tr></tr></thead><tbody><tr><td>ColumnName</td><td><div class=\"dni-plaintext\"><pre>Completions</pre></div></td></tr><tr><td>DataType</td><td><div class=\"dni-plaintext\"><pre>int</pre></div></td></tr><tr><td>IsNullable</td><td><div class=\"dni-plaintext\"><pre>False</pre></div></td></tr><tr><td>Size</td><td><div class=\"dni-plaintext\"><pre>0</pre></div></td></tr></tbody></table></div></details></td></tr><tr><td>4</td><td><details class=\"dni-treeview\"><summary><span class=\"dni-code-hint\"><code>Submission#4+ColumnDefinition</code></span></summary><div><table><thead><tr></tr></thead><tbody><tr><td>ColumnName</td><td><div class=\"dni-plaintext\"><pre>Score</pre></div></td></tr><tr><td>DataType</td><td><div class=\"dni-plaintext\"><pre>decimal</pre></div></td></tr><tr><td>IsNullable</td><td><div class=\"dni-plaintext\"><pre>False</pre></div></td></tr><tr><td>Size</td><td><div class=\"dni-plaintext\"><pre>0</pre></div></td></tr></tbody></table></div></details></td></tr><tr><td>5</td><td><details class=\"dni-treeview\"><summary><span class=\"dni-code-hint\"><code>Submission#4+ColumnDefinition</code></span></summary><div><table><thead><tr></tr></thead><tbody><tr><td>ColumnName</td><td><div class=\"dni-plaintext\"><pre>Title</pre></div></td></tr><tr><td>DataType</td><td><div class=\"dni-plaintext\"><pre>nvarchar</pre></div></td></tr><tr><td>IsNullable</td><td><div class=\"dni-plaintext\"><pre>True</pre></div></td></tr><tr><td>Size</td><td><div class=\"dni-plaintext\"><pre>2000</pre></div></td></tr></tbody></table></div></details></td></tr><tr><td>6</td><td><details class=\"dni-treeview\"><summary><span class=\"dni-code-hint\"><code>Submission#4+ColumnDefinition</code></span></summary><div><table><thead><tr></tr></thead><tbody><tr><td>ColumnName</td><td><div class=\"dni-plaintext\"><pre>Url</pre></div></td></tr><tr><td>DataType</td><td><div class=\"dni-plaintext\"><pre>nvarchar</pre></div></td></tr><tr><td>IsNullable</td><td><div class=\"dni-plaintext\"><pre>True</pre></div></td></tr><tr><td>Size</td><td><div class=\"dni-plaintext\"><pre>2000</pre></div></td></tr></tbody></table></div></details></td></tr><tr><td>7</td><td><details class=\"dni-treeview\"><summary><span class=\"dni-code-hint\"><code>Submission#4+ColumnDefinition</code></span></summary><div><table><thead><tr></tr></thead><tbody><tr><td>ColumnName</td><td><div class=\"dni-plaintext\"><pre>Domain</pre></div></td></tr><tr><td>DataType</td><td><div class=\"dni-plaintext\"><pre>nvarchar</pre></div></td></tr><tr><td>IsNullable</td><td><div class=\"dni-plaintext\"><pre>True</pre></div></td></tr><tr><td>Size</td><td><div class=\"dni-plaintext\"><pre>2000</pre></div></td></tr></tbody></table></div></details></td></tr></tbody></table></td></tr></tbody></table></div></details></td></tr><tr><td>15</td><td><details class=\"dni-treeview\"><summary><span class=\"dni-code-hint\"><code>Submission#4+TableDefinition</code></span></summary><div><table><thead><tr></tr></thead><tbody><tr><td>SchemaName</td><td><div class=\"dni-plaintext\"><pre>rpt</pre></div></td></tr><tr><td>TableName</td><td><div class=\"dni-plaintext\"><pre>RelatedContent_Partition</pre></div></td></tr><tr><td>Columns</td><td><table><thead><tr><th><i>index</i></th><th>value</th></tr></thead><tbody><tr><td>0</td><td><details class=\"dni-treeview\"><summary><span class=\"dni-code-hint\"><code>Submission#4+ColumnDefinition</code></span></summary><div><table><thead><tr></tr></thead><tbody><tr><td>ColumnName</td><td><div class=\"dni-plaintext\"><pre>ResourceTypeId</pre></div></td></tr><tr><td>DataType</td><td><div class=\"dni-plaintext\"><pre>tinyint</pre></div></td></tr><tr><td>IsNullable</td><td><div class=\"dni-plaintext\"><pre>False</pre></div></td></tr><tr><td>Size</td><td><div class=\"dni-plaintext\"><pre>0</pre></div></td></tr></tbody></table></div></details></td></tr><tr><td>1</td><td><details class=\"dni-treeview\"><summary><span class=\"dni-code-hint\"><code>Submission#4+ColumnDefinition</code></span></summary><div><table><thead><tr></tr></thead><tbody><tr><td>ColumnName</td><td><div class=\"dni-plaintext\"><pre>ResourceId</pre></div></td></tr><tr><td>DataType</td><td><div class=\"dni-plaintext\"><pre>bigint</pre></div></td></tr><tr><td>IsNullable</td><td><div class=\"dni-plaintext\"><pre>False</pre></div></td></tr><tr><td>Size</td><td><div class=\"dni-plaintext\"><pre>0</pre></div></td></tr></tbody></table></div></details></td></tr><tr><td>2</td><td><details class=\"dni-treeview\"><summary><span class=\"dni-code-hint\"><code>Submission#4+ColumnDefinition</code></span></summary><div><table><thead><tr></tr></thead><tbody><tr><td>ColumnName</td><td><div class=\"dni-plaintext\"><pre>UserOrganizationId</pre></div></td></tr><tr><td>DataType</td><td><div class=\"dni-plaintext\"><pre>bigint</pre></div></td></tr><tr><td>IsNullable</td><td><div class=\"dni-plaintext\"><pre>False</pre></div></td></tr><tr><td>Size</td><td><div class=\"dni-plaintext\"><pre>0</pre></div></td></tr></tbody></table></div></details></td></tr><tr><td>3</td><td><details class=\"dni-treeview\"><summary><span class=\"dni-code-hint\"><code>Submission#4+ColumnDefinition</code></span></summary><div><table><thead><tr></tr></thead><tbody><tr><td>ColumnName</td><td><div class=\"dni-plaintext\"><pre>Completions</pre></div></td></tr><tr><td>DataType</td><td><div class=\"dni-plaintext\"><pre>int</pre></div></td></tr><tr><td>IsNullable</td><td><div class=\"dni-plaintext\"><pre>False</pre></div></td></tr><tr><td>Size</td><td><div class=\"dni-plaintext\"><pre>0</pre></div></td></tr></tbody></table></div></details></td></tr><tr><td>4</td><td><details class=\"dni-treeview\"><summary><span class=\"dni-code-hint\"><code>Submission#4+ColumnDefinition</code></span></summary><div><table><thead><tr></tr></thead><tbody><tr><td>ColumnName</td><td><div class=\"dni-plaintext\"><pre>Score</pre></div></td></tr><tr><td>DataType</td><td><div class=\"dni-plaintext\"><pre>decimal</pre></div></td></tr><tr><td>IsNullable</td><td><div class=\"dni-plaintext\"><pre>False</pre></div></td></tr><tr><td>Size</td><td><div class=\"dni-plaintext\"><pre>0</pre></div></td></tr></tbody></table></div></details></td></tr><tr><td>5</td><td><details class=\"dni-treeview\"><summary><span class=\"dni-code-hint\"><code>Submission#4+ColumnDefinition</code></span></summary><div><table><thead><tr></tr></thead><tbody><tr><td>ColumnName</td><td><div class=\"dni-plaintext\"><pre>Title</pre></div></td></tr><tr><td>DataType</td><td><div class=\"dni-plaintext\"><pre>nvarchar</pre></div></td></tr><tr><td>IsNullable</td><td><div class=\"dni-plaintext\"><pre>True</pre></div></td></tr><tr><td>Size</td><td><div class=\"dni-plaintext\"><pre>2000</pre></div></td></tr></tbody></table></div></details></td></tr><tr><td>6</td><td><details class=\"dni-treeview\"><summary><span class=\"dni-code-hint\"><code>Submission#4+ColumnDefinition</code></span></summary><div><table><thead><tr></tr></thead><tbody><tr><td>ColumnName</td><td><div class=\"dni-plaintext\"><pre>Url</pre></div></td></tr><tr><td>DataType</td><td><div class=\"dni-plaintext\"><pre>nvarchar</pre></div></td></tr><tr><td>IsNullable</td><td><div class=\"dni-plaintext\"><pre>True</pre></div></td></tr><tr><td>Size</td><td><div class=\"dni-plaintext\"><pre>2000</pre></div></td></tr></tbody></table></div></details></td></tr><tr><td>7</td><td><details class=\"dni-treeview\"><summary><span class=\"dni-code-hint\"><code>Submission#4+ColumnDefinition</code></span></summary><div><table><thead><tr></tr></thead><tbody><tr><td>ColumnName</td><td><div class=\"dni-plaintext\"><pre>Domain</pre></div></td></tr><tr><td>DataType</td><td><div class=\"dni-plaintext\"><pre>nvarchar</pre></div></td></tr><tr><td>IsNullable</td><td><div class=\"dni-plaintext\"><pre>True</pre></div></td></tr><tr><td>Size</td><td><div class=\"dni-plaintext\"><pre>2000</pre></div></td></tr></tbody></table></div></details></td></tr></tbody></table></td></tr></tbody></table></div></details></td></tr><tr><td>16</td><td><details class=\"dni-treeview\"><summary><span class=\"dni-code-hint\"><code>Submission#4+TableDefinition</code></span></summary><div><table><thead><tr></tr></thead><tbody><tr><td>SchemaName</td><td><div class=\"dni-plaintext\"><pre>rpt</pre></div></td></tr><tr><td>TableName</td><td><div class=\"dni-plaintext\"><pre>ReportActivityLog</pre></div></td></tr><tr><td>Columns</td><td><table><thead><tr><th><i>index</i></th><th>value</th></tr></thead><tbody><tr><td>0</td><td><details class=\"dni-treeview\"><summary><span class=\"dni-code-hint\"><code>Submission#4+ColumnDefinition</code></span></summary><div><table><thead><tr></tr></thead><tbody><tr><td>ColumnName</td><td><div class=\"dni-plaintext\"><pre>ReportLogId</pre></div></td></tr><tr><td>DataType</td><td><div class=\"dni-plaintext\"><pre>bigint</pre></div></td></tr><tr><td>IsNullable</td><td><div class=\"dni-plaintext\"><pre>False</pre></div></td></tr><tr><td>Size</td><td><div class=\"dni-plaintext\"><pre>0</pre></div></td></tr></tbody></table></div></details></td></tr><tr><td>1</td><td><details class=\"dni-treeview\"><summary><span class=\"dni-code-hint\"><code>Submission#4+ColumnDefinition</code></span></summary><div><table><thead><tr></tr></thead><tbody><tr><td>ColumnName</td><td><div class=\"dni-plaintext\"><pre>ActivitiesLogId</pre></div></td></tr><tr><td>DataType</td><td><div class=\"dni-plaintext\"><pre>bigint</pre></div></td></tr><tr><td>IsNullable</td><td><div class=\"dni-plaintext\"><pre>False</pre></div></td></tr><tr><td>Size</td><td><div class=\"dni-plaintext\"><pre>0</pre></div></td></tr></tbody></table></div></details></td></tr><tr><td>2</td><td><details class=\"dni-treeview\"><summary><span class=\"dni-code-hint\"><code>Submission#4+ColumnDefinition</code></span></summary><div><table><thead><tr></tr></thead><tbody><tr><td>ColumnName</td><td><div class=\"dni-plaintext\"><pre>ActivityName</pre></div></td></tr><tr><td>DataType</td><td><div class=\"dni-plaintext\"><pre>nvarchar</pre></div></td></tr><tr><td>IsNullable</td><td><div class=\"dni-plaintext\"><pre>False</pre></div></td></tr><tr><td>Size</td><td><div class=\"dni-plaintext\"><pre>50</pre></div></td></tr></tbody></table></div></details></td></tr><tr><td>3</td><td><details class=\"dni-treeview\"><summary><span class=\"dni-code-hint\"><code>Submission#4+ColumnDefinition</code></span></summary><div><table><thead><tr></tr></thead><tbody><tr><td>ColumnName</td><td><div class=\"dni-plaintext\"><pre>ActivityCompletionTimeMS</pre></div></td></tr><tr><td>DataType</td><td><div class=\"dni-plaintext\"><pre>bigint</pre></div></td></tr><tr><td>IsNullable</td><td><div class=\"dni-plaintext\"><pre>False</pre></div></td></tr><tr><td>Size</td><td><div class=\"dni-plaintext\"><pre>0</pre></div></td></tr></tbody></table></div></details></td></tr><tr><td>4</td><td><details class=\"dni-treeview\"><summary><span class=\"dni-code-hint\"><code>Submission#4+ColumnDefinition</code></span></summary><div><table><thead><tr></tr></thead><tbody><tr><td>ColumnName</td><td><div class=\"dni-plaintext\"><pre>EndDateTime</pre></div></td></tr><tr><td>DataType</td><td><div class=\"dni-plaintext\"><pre>datetime2</pre></div></td></tr><tr><td>IsNullable</td><td><div class=\"dni-plaintext\"><pre>False</pre></div></td></tr><tr><td>Size</td><td><div class=\"dni-plaintext\"><pre>0</pre></div></td></tr></tbody></table></div></details></td></tr><tr><td>5</td><td><details class=\"dni-treeview\"><summary><span class=\"dni-code-hint\"><code>Submission#4+ColumnDefinition</code></span></summary><div><table><thead><tr></tr></thead><tbody><tr><td>ColumnName</td><td><div class=\"dni-plaintext\"><pre>SubIdType</pre></div></td></tr><tr><td>DataType</td><td><div class=\"dni-plaintext\"><pre>nvarchar</pre></div></td></tr><tr><td>IsNullable</td><td><div class=\"dni-plaintext\"><pre>True</pre></div></td></tr><tr><td>Size</td><td><div class=\"dni-plaintext\"><pre>50</pre></div></td></tr></tbody></table></div></details></td></tr><tr><td>6</td><td><details class=\"dni-treeview\"><summary><span class=\"dni-code-hint\"><code>Submission#4+ColumnDefinition</code></span></summary><div><table><thead><tr></tr></thead><tbody><tr><td>ColumnName</td><td><div class=\"dni-plaintext\"><pre>SubId</pre></div></td></tr><tr><td>DataType</td><td><div class=\"dni-plaintext\"><pre>bigint</pre></div></td></tr><tr><td>IsNullable</td><td><div class=\"dni-plaintext\"><pre>True</pre></div></td></tr><tr><td>Size</td><td><div class=\"dni-plaintext\"><pre>0</pre></div></td></tr></tbody></table></div></details></td></tr></tbody></table></td></tr></tbody></table></div></details></td></tr><tr><td>17</td><td><details class=\"dni-treeview\"><summary><span class=\"dni-code-hint\"><code>Submission#4+TableDefinition</code></span></summary><div><table><thead><tr></tr></thead><tbody><tr><td>SchemaName</td><td><div class=\"dni-plaintext\"><pre>rpt</pre></div></td></tr><tr><td>TableName</td><td><div class=\"dni-plaintext\"><pre>ReportAggregateTypes</pre></div></td></tr><tr><td>Columns</td><td><table><thead><tr><th><i>index</i></th><th>value</th></tr></thead><tbody><tr><td>0</td><td><details class=\"dni-treeview\"><summary><span class=\"dni-code-hint\"><code>Submission#4+ColumnDefinition</code></span></summary><div><table><thead><tr></tr></thead><tbody><tr><td>ColumnName</td><td><div class=\"dni-plaintext\"><pre>ReportAggregateTypeId</pre></div></td></tr><tr><td>DataType</td><td><div class=\"dni-plaintext\"><pre>bigint</pre></div></td></tr><tr><td>IsNullable</td><td><div class=\"dni-plaintext\"><pre>False</pre></div></td></tr><tr><td>Size</td><td><div class=\"dni-plaintext\"><pre>0</pre></div></td></tr></tbody></table></div></details></td></tr><tr><td>1</td><td><details class=\"dni-treeview\"><summary><span class=\"dni-code-hint\"><code>Submission#4+ColumnDefinition</code></span></summary><div><table><thead><tr></tr></thead><tbody><tr><td>ColumnName</td><td><div class=\"dni-plaintext\"><pre>ConditionName</pre></div></td></tr><tr><td>DataType</td><td><div class=\"dni-plaintext\"><pre>varchar</pre></div></td></tr><tr><td>IsNullable</td><td><div class=\"dni-plaintext\"><pre>False</pre></div></td></tr><tr><td>Size</td><td><div class=\"dni-plaintext\"><pre>100</pre></div></td></tr></tbody></table></div></details></td></tr><tr><td>2</td><td><details class=\"dni-treeview\"><summary><span class=\"dni-code-hint\"><code>Submission#4+ColumnDefinition</code></span></summary><div><table><thead><tr></tr></thead><tbody><tr><td>ColumnName</td><td><div class=\"dni-plaintext\"><pre>Operator</pre></div></td></tr><tr><td>DataType</td><td><div class=\"dni-plaintext\"><pre>varchar</pre></div></td></tr><tr><td>IsNullable</td><td><div class=\"dni-plaintext\"><pre>False</pre></div></td></tr><tr><td>Size</td><td><div class=\"dni-plaintext\"><pre>100</pre></div></td></tr></tbody></table></div></details></td></tr><tr><td>3</td><td><details class=\"dni-treeview\"><summary><span class=\"dni-code-hint\"><code>Submission#4+ColumnDefinition</code></span></summary><div><table><thead><tr></tr></thead><tbody><tr><td>ColumnName</td><td><div class=\"dni-plaintext\"><pre>CreatedDate</pre></div></td></tr><tr><td>DataType</td><td><div class=\"dni-plaintext\"><pre>datetime2</pre></div></td></tr><tr><td>IsNullable</td><td><div class=\"dni-plaintext\"><pre>False</pre></div></td></tr><tr><td>Size</td><td><div class=\"dni-plaintext\"><pre>0</pre></div></td></tr></tbody></table></div></details></td></tr><tr><td>4</td><td><details class=\"dni-treeview\"><summary><span class=\"dni-code-hint\"><code>Submission#4+ColumnDefinition</code></span></summary><div><table><thead><tr></tr></thead><tbody><tr><td>ColumnName</td><td><div class=\"dni-plaintext\"><pre>ModifiedDate</pre></div></td></tr><tr><td>DataType</td><td><div class=\"dni-plaintext\"><pre>datetime2</pre></div></td></tr><tr><td>IsNullable</td><td><div class=\"dni-plaintext\"><pre>True</pre></div></td></tr><tr><td>Size</td><td><div class=\"dni-plaintext\"><pre>0</pre></div></td></tr></tbody></table></div></details></td></tr></tbody></table></td></tr></tbody></table></div></details></td></tr><tr><td>18</td><td><details class=\"dni-treeview\"><summary><span class=\"dni-code-hint\"><code>Submission#4+TableDefinition</code></span></summary><div><table><thead><tr></tr></thead><tbody><tr><td>SchemaName</td><td><div class=\"dni-plaintext\"><pre>rpt</pre></div></td></tr><tr><td>TableName</td><td><div class=\"dni-plaintext\"><pre>ReportCategories</pre></div></td></tr><tr><td>Columns</td><td><table><thead><tr><th><i>index</i></th><th>value</th></tr></thead><tbody><tr><td>0</td><td><details class=\"dni-treeview\"><summary><span class=\"dni-code-hint\"><code>Submission#4+ColumnDefinition</code></span></summary><div><table><thead><tr></tr></thead><tbody><tr><td>ColumnName</td><td><div class=\"dni-plaintext\"><pre>ReportCategoryId</pre></div></td></tr><tr><td>DataType</td><td><div class=\"dni-plaintext\"><pre>bigint</pre></div></td></tr><tr><td>IsNullable</td><td><div class=\"dni-plaintext\"><pre>False</pre></div></td></tr><tr><td>Size</td><td><div class=\"dni-plaintext\"><pre>0</pre></div></td></tr></tbody></table></div></details></td></tr><tr><td>1</td><td><details class=\"dni-treeview\"><summary><span class=\"dni-code-hint\"><code>Submission#4+ColumnDefinition</code></span></summary><div><table><thead><tr></tr></thead><tbody><tr><td>ColumnName</td><td><div class=\"dni-plaintext\"><pre>TitleLocalizationKey</pre></div></td></tr><tr><td>DataType</td><td><div class=\"dni-plaintext\"><pre>varchar</pre></div></td></tr><tr><td>IsNullable</td><td><div class=\"dni-plaintext\"><pre>False</pre></div></td></tr><tr><td>Size</td><td><div class=\"dni-plaintext\"><pre>100</pre></div></td></tr></tbody></table></div></details></td></tr><tr><td>2</td><td><details class=\"dni-treeview\"><summary><span class=\"dni-code-hint\"><code>Submission#4+ColumnDefinition</code></span></summary><div><table><thead><tr></tr></thead><tbody><tr><td>ColumnName</td><td><div class=\"dni-plaintext\"><pre>DescriptionLocalizationKey</pre></div></td></tr><tr><td>DataType</td><td><div class=\"dni-plaintext\"><pre>varchar</pre></div></td></tr><tr><td>IsNullable</td><td><div class=\"dni-plaintext\"><pre>False</pre></div></td></tr><tr><td>Size</td><td><div class=\"dni-plaintext\"><pre>100</pre></div></td></tr></tbody></table></div></details></td></tr><tr><td>3</td><td><details class=\"dni-treeview\"><summary><span class=\"dni-code-hint\"><code>Submission#4+ColumnDefinition</code></span></summary><div><table><thead><tr></tr></thead><tbody><tr><td>ColumnName</td><td><div class=\"dni-plaintext\"><pre>Order</pre></div></td></tr><tr><td>DataType</td><td><div class=\"dni-plaintext\"><pre>bigint</pre></div></td></tr><tr><td>IsNullable</td><td><div class=\"dni-plaintext\"><pre>False</pre></div></td></tr><tr><td>Size</td><td><div class=\"dni-plaintext\"><pre>0</pre></div></td></tr></tbody></table></div></details></td></tr><tr><td>4</td><td><details class=\"dni-treeview\"><summary><span class=\"dni-code-hint\"><code>Submission#4+ColumnDefinition</code></span></summary><div><table><thead><tr></tr></thead><tbody><tr><td>ColumnName</td><td><div class=\"dni-plaintext\"><pre>CreatedDate</pre></div></td></tr><tr><td>DataType</td><td><div class=\"dni-plaintext\"><pre>datetime2</pre></div></td></tr><tr><td>IsNullable</td><td><div class=\"dni-plaintext\"><pre>False</pre></div></td></tr><tr><td>Size</td><td><div class=\"dni-plaintext\"><pre>0</pre></div></td></tr></tbody></table></div></details></td></tr><tr><td>5</td><td><details class=\"dni-treeview\"><summary><span class=\"dni-code-hint\"><code>Submission#4+ColumnDefinition</code></span></summary><div><table><thead><tr></tr></thead><tbody><tr><td>ColumnName</td><td><div class=\"dni-plaintext\"><pre>ModifiedDate</pre></div></td></tr><tr><td>DataType</td><td><div class=\"dni-plaintext\"><pre>datetime2</pre></div></td></tr><tr><td>IsNullable</td><td><div class=\"dni-plaintext\"><pre>True</pre></div></td></tr><tr><td>Size</td><td><div class=\"dni-plaintext\"><pre>0</pre></div></td></tr></tbody></table></div></details></td></tr><tr><td>6</td><td><details class=\"dni-treeview\"><summary><span class=\"dni-code-hint\"><code>Submission#4+ColumnDefinition</code></span></summary><div><table><thead><tr></tr></thead><tbody><tr><td>ColumnName</td><td><div class=\"dni-plaintext\"><pre>IsPrerelease</pre></div></td></tr><tr><td>DataType</td><td><div class=\"dni-plaintext\"><pre>bit</pre></div></td></tr><tr><td>IsNullable</td><td><div class=\"dni-plaintext\"><pre>False</pre></div></td></tr><tr><td>Size</td><td><div class=\"dni-plaintext\"><pre>0</pre></div></td></tr></tbody></table></div></details></td></tr></tbody></table></td></tr></tbody></table></div></details></td></tr><tr><td>19</td><td><details class=\"dni-treeview\"><summary><span class=\"dni-code-hint\"><code>Submission#4+TableDefinition</code></span></summary><div><table><thead><tr></tr></thead><tbody><tr><td>SchemaName</td><td><div class=\"dni-plaintext\"><pre>rpt</pre></div></td></tr><tr><td>TableName</td><td><div class=\"dni-plaintext\"><pre>ReportColumns</pre></div></td></tr><tr><td>Columns</td><td><table><thead><tr><th><i>index</i></th><th>value</th></tr></thead><tbody><tr><td>0</td><td><details class=\"dni-treeview\"><summary><span class=\"dni-code-hint\"><code>Submission#4+ColumnDefinition</code></span></summary><div><table><thead><tr></tr></thead><tbody><tr><td>ColumnName</td><td><div class=\"dni-plaintext\"><pre>ReportColumnId</pre></div></td></tr><tr><td>DataType</td><td><div class=\"dni-plaintext\"><pre>bigint</pre></div></td></tr><tr><td>IsNullable</td><td><div class=\"dni-plaintext\"><pre>False</pre></div></td></tr><tr><td>Size</td><td><div class=\"dni-plaintext\"><pre>0</pre></div></td></tr></tbody></table></div></details></td></tr><tr><td>1</td><td><details class=\"dni-treeview\"><summary><span class=\"dni-code-hint\"><code>Submission#4+ColumnDefinition</code></span></summary><div><table><thead><tr></tr></thead><tbody><tr><td>ColumnName</td><td><div class=\"dni-plaintext\"><pre>ReportDataTypeId</pre></div></td></tr><tr><td>DataType</td><td><div class=\"dni-plaintext\"><pre>bigint</pre></div></td></tr><tr><td>IsNullable</td><td><div class=\"dni-plaintext\"><pre>False</pre></div></td></tr><tr><td>Size</td><td><div class=\"dni-plaintext\"><pre>0</pre></div></td></tr></tbody></table></div></details></td></tr><tr><td>2</td><td><details class=\"dni-treeview\"><summary><span class=\"dni-code-hint\"><code>Submission#4+ColumnDefinition</code></span></summary><div><table><thead><tr></tr></thead><tbody><tr><td>ColumnName</td><td><div class=\"dni-plaintext\"><pre>LocalizationKey</pre></div></td></tr><tr><td>DataType</td><td><div class=\"dni-plaintext\"><pre>varchar</pre></div></td></tr><tr><td>IsNullable</td><td><div class=\"dni-plaintext\"><pre>False</pre></div></td></tr><tr><td>Size</td><td><div class=\"dni-plaintext\"><pre>100</pre></div></td></tr></tbody></table></div></details></td></tr><tr><td>3</td><td><details class=\"dni-treeview\"><summary><span class=\"dni-code-hint\"><code>Submission#4+ColumnDefinition</code></span></summary><div><table><thead><tr></tr></thead><tbody><tr><td>ColumnName</td><td><div class=\"dni-plaintext\"><pre>TableName</pre></div></td></tr><tr><td>DataType</td><td><div class=\"dni-plaintext\"><pre>varchar</pre></div></td></tr><tr><td>IsNullable</td><td><div class=\"dni-plaintext\"><pre>False</pre></div></td></tr><tr><td>Size</td><td><div class=\"dni-plaintext\"><pre>100</pre></div></td></tr></tbody></table></div></details></td></tr><tr><td>4</td><td><details class=\"dni-treeview\"><summary><span class=\"dni-code-hint\"><code>Submission#4+ColumnDefinition</code></span></summary><div><table><thead><tr></tr></thead><tbody><tr><td>ColumnName</td><td><div class=\"dni-plaintext\"><pre>ColumnName</pre></div></td></tr><tr><td>DataType</td><td><div class=\"dni-plaintext\"><pre>varchar</pre></div></td></tr><tr><td>IsNullable</td><td><div class=\"dni-plaintext\"><pre>False</pre></div></td></tr><tr><td>Size</td><td><div class=\"dni-plaintext\"><pre>100</pre></div></td></tr></tbody></table></div></details></td></tr><tr><td>5</td><td><details class=\"dni-treeview\"><summary><span class=\"dni-code-hint\"><code>Submission#4+ColumnDefinition</code></span></summary><div><table><thead><tr></tr></thead><tbody><tr><td>ColumnName</td><td><div class=\"dni-plaintext\"><pre>CreatedDate</pre></div></td></tr><tr><td>DataType</td><td><div class=\"dni-plaintext\"><pre>datetime2</pre></div></td></tr><tr><td>IsNullable</td><td><div class=\"dni-plaintext\"><pre>False</pre></div></td></tr><tr><td>Size</td><td><div class=\"dni-plaintext\"><pre>0</pre></div></td></tr></tbody></table></div></details></td></tr><tr><td>6</td><td><details class=\"dni-treeview\"><summary><span class=\"dni-code-hint\"><code>Submission#4+ColumnDefinition</code></span></summary><div><table><thead><tr></tr></thead><tbody><tr><td>ColumnName</td><td><div class=\"dni-plaintext\"><pre>ModifiedDate</pre></div></td></tr><tr><td>DataType</td><td><div class=\"dni-plaintext\"><pre>datetime2</pre></div></td></tr><tr><td>IsNullable</td><td><div class=\"dni-plaintext\"><pre>True</pre></div></td></tr><tr><td>Size</td><td><div class=\"dni-plaintext\"><pre>0</pre></div></td></tr></tbody></table></div></details></td></tr></tbody></table></td></tr></tbody></table></div></details></td></tr><tr><td colspan=\"2\"><i>(44 more)</i></td></tr></tbody></table><style>\r\n",
       ".dni-code-hint {\r\n",
       "    font-style: italic;\r\n",
       "    overflow: hidden;\r\n",
       "    white-space: nowrap;\r\n",
       "}\r\n",
       ".dni-treeview {\r\n",
       "    white-space: nowrap;\r\n",
       "}\r\n",
       ".dni-treeview td {\r\n",
       "    vertical-align: top;\r\n",
       "    text-align: start;\r\n",
       "}\r\n",
       "details.dni-treeview {\r\n",
       "    padding-left: 1em;\r\n",
       "}\r\n",
       "table td {\r\n",
       "    text-align: start;\r\n",
       "}\r\n",
       "table tr { \r\n",
       "    vertical-align: top; \r\n",
       "    margin: 0em 0px;\r\n",
       "}\r\n",
       "table tr td pre \r\n",
       "{ \r\n",
       "    vertical-align: top !important; \r\n",
       "    margin: 0em 0px !important;\r\n",
       "} \r\n",
       "table th {\r\n",
       "    text-align: start;\r\n",
       "}\r\n",
       "</style>"
      ]
     },
     "metadata": {},
     "output_type": "display_data"
    }
   ],
   "source": [
    "tableDefinitions.Display();"
   ]
  },
  {
   "cell_type": "markdown",
   "metadata": {},
   "source": [
    "### Serialize the object to a json file\n",
    "\n",
    "Adjust the file path to suit."
   ]
  },
  {
   "cell_type": "code",
   "execution_count": 7,
   "metadata": {
    "dotnet_interactive": {
     "language": "csharp"
    },
    "polyglot_notebook": {
     "kernelName": "csharp"
    }
   },
   "outputs": [],
   "source": [
    "string path = @\".\\data\\Rpt-Schema-Definitions.json\";\n",
    "internal async Task WriteOutput()\n",
    "{ \n",
    "    await using FileStream output = File.Create(path);\n",
    "    await System.Text.Json.JsonSerializer.SerializeAsync(output, tableDefinitions);\n",
    "}\n",
    "await WriteOutput(); "
   ]
  },
  {
   "cell_type": "markdown",
   "metadata": {},
   "source": [
    "## Other approaches\n",
    "\n",
    "You can also use a predefined library installed locally from a private nuget package.\n"
   ]
  },
  {
   "cell_type": "markdown",
   "metadata": {},
   "source": [
    "## Razor Interactive\n",
    "\n",
    "[Github](https://github.com/plbonneville/RazorInteractive)\n",
    "\n",
    "This lets us rather nicely generate html from razor pages with embedded C#. The C# and F# Kernel variables are available trough the @Model property\n"
   ]
  },
  {
   "cell_type": "code",
   "execution_count": 8,
   "metadata": {
    "dotnet_interactive": {
     "language": "csharp"
    },
    "polyglot_notebook": {
     "kernelName": "csharp"
    }
   },
   "outputs": [
    {
     "data": {
      "text/html": [
       "<div><div></div><div></div><div><strong>Installed Packages</strong><ul><li><span>RazorInteractive, 1.2.0</span></li></ul></div></div>"
      ]
     },
     "metadata": {},
     "output_type": "display_data"
    },
    {
     "data": {
      "text/plain": [
       "Loading extensions from `C:\\Users\\NickMajor\\.nuget\\packages\\razorinteractive\\1.2.0\\lib\\net8.0\\RazorInteractive.dll`"
      ]
     },
     "metadata": {},
     "output_type": "display_data"
    },
    {
     "data": {
      "text/html": [
       "<details>\n",
       "    <summary>Renders the code block as Razor markup in dotnet-interactive notebooks.</summary>\n",
       "    <p>This extension adds a new kernel that can render Razor markdown.</p>\n",
       "    <p>All C# and F# variables are available in the <code>@Model</code> property.</p>\n",
       "</details>"
      ]
     },
     "metadata": {},
     "output_type": "display_data"
    }
   ],
   "source": [
    "#r \"nuget: RazorInteractive\""
   ]
  },
  {
   "cell_type": "code",
   "execution_count": 9,
   "metadata": {
    "dotnet_interactive": {
     "language": "csharp"
    },
    "polyglot_notebook": {
     "kernelName": "csharp"
    }
   },
   "outputs": [],
   "source": [
    "var csColors = new [] { \"red\", \"green\", \"blue\" };"
   ]
  },
  {
   "cell_type": "code",
   "execution_count": 10,
   "metadata": {
    "dotnet_interactive": {
     "language": "value"
    },
    "polyglot_notebook": {
     "kernelName": "value"
    }
   },
   "outputs": [
    {
     "data": {
      "text/html": [
       "<div id=\"razorExtension8d6cbd6503434d178b46b1a19019cc07\"><ol>\n",
       "    <li style=\"color: red;\">red</li>\n",
       "    <li style=\"color: green;\">green</li>\n",
       "    <li style=\"color: blue;\">blue</li>\n",
       "</ol></div>"
      ]
     },
     "metadata": {},
     "output_type": "display_data"
    }
   ],
   "source": [
    "#!razor\n",
    "\n",
    "<ol>\n",
    "@foreach(var color in @Model.csColors)\n",
    "{\n",
    "    <li style=\"color: @color;\">@color</li>\n",
    "}\n",
    "</ol>"
   ]
  }
 ],
 "metadata": {
  "kernelspec": {
   "display_name": ".NET (C#)",
   "language": "C#",
   "name": ".net-csharp"
  },
  "language_info": {
   "codemirror_mode": {
    "name": "ipython",
    "version": 3
   },
   "file_extension": ".py",
   "mimetype": "text/x-python",
   "name": "polyglot-notebook",
   "nbconvert_exporter": "python",
   "pygments_lexer": "ipython3",
   "version": "3.8.8"
  },
  "polyglot_notebook": {
   "kernelInfo": {
    "defaultKernelName": "csharp",
    "items": [
     {
      "aliases": [],
      "name": "csharp"
     },
     {
      "aliases": [],
      "languageName": "python",
      "name": "pythonkernel"
     },
     {
      "aliases": [],
      "name": "razor"
     }
    ]
   }
  }
 },
 "nbformat": 4,
 "nbformat_minor": 2
}
