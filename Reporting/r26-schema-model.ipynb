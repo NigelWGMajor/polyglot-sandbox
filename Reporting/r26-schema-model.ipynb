{
 "cells": [
  {
   "cell_type": "markdown",
   "metadata": {},
   "source": [
    "# Schema Model\n",
    "\n",
    "A model to allow development and evolution of database queries generated on the fly"
   ]
  },
  {
   "cell_type": "markdown",
   "metadata": {},
   "source": [
    "The first version of the JsonSqlClient simplifies the generation of json-producing nested queries using reflection. The critical information needed to perform this is the relationships between two tables, identifying two linked columns. \n",
    "\n",
    "If Primary and Foreign keys exist, these are sufficient to define the link, but in many cases foreign keys are implied, not explicit. Also, some fields may behave like keys although they are not defines as such. Expressing the link \"manually\" overcomes this limitation.\n",
    "\n",
    "Developing a model that can be used to generate queries in a multi-step process, and some of the steps may occur long after the early ones. This allows te interpretation of the model to be refined over time.\n",
    "\n",
    "- Initially, automated analysis can determine the schema, table and column names and Primary Keys.\n",
    "- Establishing the Foreign Keys provides an initial set of link definitions\n",
    "- At this stage, inspection is needed to add\n",
    "  - implied keys (candidates for links)\n",
    "  - columns eligible as global parameters (for example user keys, org ids that occur across multiple tables)\n",
    "  - columns suitable for filtering on \n",
    "  - columns which contain sensitive information\n",
    "  - columns which contain zipped, compressed, encrypted or otherwise formatted mixed information\n",
    "  - columns which are obsolete or redundant\n",
    "  - identity columns: these might need special handling\n",
    "  - columns which contain sensitive information but should be hashed to allow comparison\n",
    "  - columns suitable for ordering\n",
    "  \n",
    "The model should be serializable and unserializable at all times, because we need to be able to inject the last or revert to a former version without massive deployment overhead. in a utility, it might also be nice to be able to import a mod into the environment for pre-release testing.\n",
    "\n"
   ]
  },
  {
   "cell_type": "markdown",
   "metadata": {},
   "source": [
    "```mermaid\n",
    "  graph TD\n",
    "  r((reflection))\n",
    "  i((Inspection))\n",
    "  k[/PK & FK/]\n",
    "  c[/Column Map/]\n",
    "  f[/Filters/]\n",
    "  s[/Sorters/]\n",
    "  p[/global parameters/]\n",
    "  h[/special handling/]\n",
    "r --> k\n",
    "r --> c\n",
    "r --> |id*| s\n",
    "i --> f\n",
    "i --> s\n",
    "i --> p\n",
    "i --> h\n",
    "\n",
    "```\n",
    "\\* The query generator is able to limit the replies to the top number of results: it does this sequenced by id descending so as to include the most recently added rows."
   ]
  },
  {
   "cell_type": "markdown",
   "metadata": {},
   "source": [
    "## Chronological tactics\n",
    "\n",
    "- Start with automation to map the the Primary and Foreign key relationships (links), if these are largely implemented\n",
    "- Augment the automation-generated column map by identifying implied links\n",
    "- Identify well-known parameter candidates as parameters (perhaps treat as a pseudo-table?)\n",
    "- Overlay Filters and Sorters\n",
    "- Identify Special handling cases\n",
    "- Determine how to  handle the most critical Special Handling cases\n",
    "- Modify the generator progressively to use this information.\n",
    "\n",
    "\n"
   ]
  },
  {
   "cell_type": "markdown",
   "metadata": {},
   "source": [
    "## Structural tactics\n",
    "\n",
    "The Schema - Table - Column hierarchy is easily modeled and json-serializable.\n",
    "Most of the qualifications (identity, filter, sorter, special handling, parameter) occur at the column level\n",
    "The main exception to this is explicit and implied keys, which are directional links between two columns.\n",
    "\n",
    "We could consider indexed Schema, Column and Table lists, (arrays) with the ability to identify linked pairs in a fairly compact link table.\n",
    "\n",
    "Similarly, parameter candidates could identify 1-n occurrences with an index list ...\n",
    "\n",
    "Simplest structure would repeat schema/table names in a simple list of columns with attributes. A variation could use a lookup list for the schema and table names but hide the details... also, although fk -> pk relationships are n -> 1, the ns are each associated with single column, so if the traversable link ios stored at the site of the foreign reference it is effectively 1->1\n",
    "\n",
    "Traditionally, we think of Schema as being navigated like\n",
    "<pre>\n",
    "  Schema --> Table --> Column --> Properties ...\n",
    "</pre>\n",
    "A reversal of the navigation might be more efficient:\n",
    "<pre>\n",
    "  Property Value --> Column --> Table --> Schema --> Links  --> Link Columns --> Link Table --> Link Schema\n",
    "</pre>\n",
    "or equally, we might consider every table entry to be fully qualified \n",
    "<pre>\n",
    "  Property Value --> Schema.Column.Table -> Links --> Schema.Column.Table\n",
    "</pre>\n",
    "This is clearly more efficient and readily Json-serialized.\n",
    "\n",
    "The links would identify the PK and (implied or explicit) FK Schema.Column.Table. \n",
    "Seeing as the Column data is really just a long list, we could add the refs to the FK column, as each really points to one PK: this would require us to identify and have a PK reference for all such candidates... We might need to identify these as Parameters to simplify references...\n",
    "\n",
    "How we handle this depends on whether there is a meaningful behavioral difference between how we handle FKs that point to a PK (N --> 1) or implied references that might connect outside of the realm (e.g. user ids, org ids, external references to other scopes)\n",
    "\n",
    "Clearly outside references that do not exist as PKs in the system-under-analysis need to be parameters! So user keys, org ids etc.\n",
    "These would typically be injected by the user or perhaps a microservice call. So good.\n",
    "\n",
    "Other implied keys would be treated like foreign keys if they point to effective PKs, otherwise parameter references. ✅\n"
   ]
  },
  {
   "cell_type": "markdown",
   "metadata": {},
   "source": [
    "<pre>\n",
    "Schema.Table.Column.A !FK --> Schema.Column.Table.B  \n",
    "                      :: properties\n",
    "\n",
    "Schema.Table.Column.B !PK\n",
    "\n",
    "Schema.Table.Column.C !ImpliedFK --> Parameter.D IMPLIED LINK TO PARAMETER\n",
    "\n",
    "Parameter.ParameterUID :: properties\n",
    "</pre>\n",
    "We have to accommodate multiple-field pks. One way to do this is to use 0 to note NOT a PK, 1 to denote an identity/PK field, an2 to denote that this is part of a 2-field pk, etc."
   ]
  },
  {
   "cell_type": "markdown",
   "metadata": {},
   "source": [
    "## Possible implementation:\n",
    "\n",
    "[x] Parameters are fields without a column \n",
    "[x] Column are addressed via their enclosing Field\n",
    "[x] OutboundFieldLink is populated when implied or explicit FK: can access fields or columns, no problem.\n",
    "[x] Could easily use a dictionary for fast searching\n",
    "\n",
    "Better would be to make everything a file, and have columns as a nullable property. Thus partial databases would have some unreachable columns present as fields.\n",
    "\n",
    "```mermaid\n",
    "classDiagram\n",
    "\n",
    "Field o-- Column\n",
    "\n",
    "class Field{\n",
    "    +Unique_Identity\n",
    "    +DataType\n",
    "    +CanSort\n",
    "    +CanFilter\n",
    "    +HandleAs\n",
    "    +HandleWith\n",
    "    +Column\n",
    "}\n",
    "\n",
    "class Column{\n",
    "\n",
    "    +ColumnName\n",
    "    +TableName\n",
    "    +SchemaName\n",
    "    +PrimaryKey\n",
    "    +OutboundFieldLink\n",
    "}\n",
    "Field o-- HandleAs\n",
    "class HandleAs{\n",
    "   Visible,\n",
    "   Truncated,\n",
    "   Zipped,\n",
    "   Json,\n",
    "   Hashed,\n",
    "   Formatted,\n",
    "   Special\n",
    "}\n",
    "```\n"
   ]
  },
  {
   "cell_type": "markdown",
   "metadata": {},
   "source": [
    "Also possible to simplify:\n",
    "\n",
    "```mermaid\n",
    "classDiagram\n",
    "\n",
    "Field o-- Column\n",
    "\n",
    "class Field{\n",
    "    +UniqueName\n",
    "    +DataType\n",
    "    +CanSort\n",
    "    +CanFilter\n",
    "    +Action\n",
    "    +Data\n",
    "    +Column\n",
    "}\n",
    "class Column{\n",
    "\n",
    "    +ColumnName\n",
    "    +TableName\n",
    "    +SchemaName\n",
    "    +PrimaryKey\n",
    "    +OutboundFieldLink\n",
    "}\n",
    "Field o-- Action\n",
    "class Action{\n",
    "    <<enum>>\n",
    "   Show,\n",
    "   Hide,\n",
    "   Truncate,\n",
    "   Hash,\n",
    "   Format,\n",
    "   Process\n",
    "}\n",
    "```\n",
    "Process would cover decryption, unzipping, partial readaction, whatever is needed. The data for the action comes from the data property."
   ]
  },
  {
   "cell_type": "code",
   "execution_count": null,
   "metadata": {
    "dotnet_interactive": {
     "language": "csharp"
    },
    "polyglot_notebook": {
     "kernelName": "csharp"
    },
    "vscode": {
     "languageId": "polyglot-notebook"
    }
   },
   "outputs": [],
   "source": [
    "// A first  attempt at the model\n",
    "public enum ActionType\n",
    "{\n",
    "    Show,\n",
    "    Hide,\n",
    "    Truncate,\n",
    "    Hash,\n",
    "    Format,\n",
    "    Process\n",
    "}\n",
    "public class Field\n",
    "{\n",
    "   public string FieldIdentity { get; set; }\n",
    "   public string DataType { get; set; }\n",
    "   public bool CanSort { get; set; }\n",
    "   public bool CanFilter { get; set; }\n",
    "   public ActionType Action { get; set; }\n",
    "   public object[] Data {get; set; }\n",
    "   public Column Column {get; set; }\n",
    "   public static Field FromBool(string identity)\n",
    "   {\n",
    "      var field = new Field(identity);\n",
    "      field.DataType = \"bool\";\n",
    "      return field;\n",
    "   }\n",
    "   public static Field FromDate(string identity)\n",
    "   {\n",
    "      var field = new Field(identity);\n",
    "      field.DataType = \"datetime\";\n",
    "      return field;\n",
    "   }\n",
    "   public static Field FromNumber(string identity)\n",
    "   {\n",
    "      var field = new Field(identity);\n",
    "      field.DataType = \"int\";\n",
    "      return field;\n",
    "   }\n",
    "   public static Field FromText(string identity)\n",
    "   {\n",
    "      return new Field(identity);\n",
    "   }\n",
    "   public static Field FromFK(string identity, string reference, string dataType = \"long\")\n",
    "   { \n",
    "       var field = new Field(identity, dataType);\n",
    "       field.Column.OutboundFieldIdentity = reference;\n",
    "       return field;\n",
    "   }\n",
    "   public static Field FromPK(string identity, int inPrimary = 1, string dataType = \"long\")\n",
    "   {\n",
    "        var field = new Field(identity, dataType);\n",
    "        if (identity.Split('.').Length == 3)\n",
    "        {\n",
    "           field.Column.InPrimaryKey = inPrimary;\n",
    "        }\n",
    "        return field;\n",
    "   }\n",
    "   private Field(string identity, string dataType = \"string\", ActionType action = ActionType.Show)\n",
    "   {\n",
    "      FieldIdentity = identity;\n",
    "      DataType = dataType;\n",
    "      Action = action;\n",
    "      var x = identity.Split('.');\n",
    "      if (x.Length == 3)\n",
    "      {\n",
    "        Column = new Column(x);\n",
    "      }\n",
    "   }\n",
    "}\n",
    "public class Column\n",
    "{\n",
    "    public string ColumnName { get; set; } \n",
    "    public string TableName { get; set; }\n",
    "    public string SchemaName { get; set; }\n",
    "    public int InPrimaryKey { get; set; } // 0 if not, 1 if only, n if part of a n-field PK\n",
    "    public string OutboundFieldIdentity { get; set; }\n",
    "    public Column(string[] identity) : this (identity[0], identity[1], identity[2]){;}\n",
    "    public Column(string schemaName, string tableName, string columnName, int inPrimaryKey = 0, string outboundFieldIdentity = null)\n",
    "    {\n",
    "        SchemaName = schemaName;\n",
    "        TableName = tableName;\n",
    "        ColumnName = columnName;\n",
    "        InPrimaryKey = inPrimaryKey;\n",
    "        OutboundFieldIdentity = outboundFieldIdentity;\n",
    "    }\n",
    "}\n"
   ]
  },
  {
   "cell_type": "code",
   "execution_count": null,
   "metadata": {
    "dotnet_interactive": {
     "language": "csharp"
    },
    "polyglot_notebook": {
     "kernelName": "csharp"
    },
    "vscode": {
     "languageId": "polyglot-notebook"
    }
   },
   "outputs": [],
   "source": [
    "// let's set up a couple of examples\n",
    "List<Field> fields = new List<Field>();\n",
    "\n",
    "fields.AddRange( new List<Field>{\n",
    "     Field.FromPK(\"Global.OrganizationId\"),\n",
    "     Field.FromPK(\"rpt.Reports.ReportId\"),\n",
    "     Field.FromFK(\"rpt.Reports.ReportMethodId\", \"rpt.ReportMethods.ReportMethodId\"),\n",
    "     Field.FromFK(\"rpt.Reports.ReportInstanceId\", \"rpt.ReportInstancesReportInstanceId\"),\n",
    "     Field.FromFK(\"rpt.Reports.OrganizationId\",\"Global.OrganizationId\" ),\n",
    "     Field.FromBool(\"rpt.Reports.Enabled\"),\n",
    "     Field.FromBool(\"rpt.Reports.IsScheduledInApp\"),\n",
    "     Field.FromText(\"rpt.Reports.Format\"),\n",
    "     Field.FromText(\"rpt.Reports.ReportType\"),\n",
    "     Field.FromText(\"rpt.Reports.TextQualifier\"),\n",
    "     Field.FromText(\"rpt.Reports.ReportTitle\"),\n",
    "     Field.FromText(\"rpt.Reports.FileNameTemplate\"),\n",
    "     Field.FromText(\"rpt.Reports.Parameters\"),\n",
    "     Field.FromText(\"rpt.Reports.TransmitterConfiguration\"),\n",
    "     Field.FromDate(\"rpt.Reports.DateModified\"),\n",
    "});\n",
    "\n",
    "var Model = new SortedDictionary<string, Field>();\n",
    "foreach (var f in fields)\n",
    "{\n",
    "    Model.Add(f.FieldIdentity, f);\n",
    "}\n",
    "Model.Display();\n"
   ]
  },
  {
   "cell_type": "markdown",
   "metadata": {},
   "source": []
  },
  {
   "cell_type": "code",
   "execution_count": null,
   "metadata": {
    "dotnet_interactive": {
     "language": "csharp"
    },
    "polyglot_notebook": {
     "kernelName": "csharp"
    },
    "vscode": {
     "languageId": "polyglot-notebook"
    }
   },
   "outputs": [],
   "source": [
    "// modify an entry\n",
    "var x = Model[\"rpt.reports.OrganizationId\"];\n",
    "x.CanFilter = true;\n",
    "x.CanSort = true;\n",
    "x.Display();\n",
    "var y = Model[\"rpt.reports.OrganizationId\"];\n",
    "y.Display();"
   ]
  },
  {
   "cell_type": "code",
   "execution_count": null,
   "metadata": {
    "dotnet_interactive": {
     "language": "csharp"
    },
    "polyglot_notebook": {
     "kernelName": "csharp"
    },
    "vscode": {
     "languageId": "polyglot-notebook"
    }
   },
   "outputs": [],
   "source": [
    "\n",
    "using System.Text.Json;\n",
    "\n",
    "var json = JsonSerializer.Serialize(Model);\n",
    "json.Display()\n",
    "\n",
    "\n",
    "\n",
    "\n"
   ]
  },
  {
   "cell_type": "markdown",
   "metadata": {},
   "source": [
    "## Discovery?\n",
    "\n",
    "These classes look like they will allow the population of good data from data returning from reflection, and certainly will alow us to find and modify specific entries quickly, especially if we are using a dictionary (or a sorted dictionary).\n",
    "\n",
    "These classes have been added to the JsonSqlClient project and unit tests added for them.\n",
    "\n",
    "Next moves are:\n",
    "\n",
    "- Generate the base model from a sql query [ref](../Sql/Discovery-pk-fk.sql)\n",
    "- Add Ability to insert implied links\n",
    "- Add ability to add Parameters/External links\n",
    "- Make decisions about defaults for Sorters and Filters - and do these need to be bytes rather than bools?\n",
    "- Devise a good SOLID solution for Special Handling\n",
    "\n",
    "During this process, once initially created, the model should be serializable and backed up at all its levels of evolution.\n",
    "\n",
    "[The project continues here](.\\R30-database-model-serialization.ipynb)"
   ]
  }
 ],
 "metadata": {
  "language_info": {
   "name": "python"
  }
 },
 "nbformat": 4,
 "nbformat_minor": 2
}
