{
 "cells": [
  {
   "cell_type": "markdown",
   "metadata": {},
   "source": [
    "### ℹ️ A Quick demo of how to connect to the AW database\n",
    "\n",
    "**_This was updated on 3/29/24 to use nix-library-raw, 1.1.4_**\n",
    "\n"
   ]
  },
  {
   "cell_type": "markdown",
   "metadata": {},
   "source": [
    "## Connect to a sql database in a docker container\n",
    "\n",
    "This image is a sql server database with the AdventureWorks database. Good for testing generic sql access without dealing with PII.\n",
    "\n",
    "The next cell starts the container if needed. Also contains instructions on how to build it if necessary.\n"
   ]
  },
  {
   "cell_type": "code",
   "execution_count": null,
   "metadata": {
    "dotnet_interactive": {
     "language": "csharp"
    },
    "polyglot_notebook": {
     "kernelName": "csharp"
    },
    "vscode": {
     "languageId": "polyglot-notebook"
    }
   },
   "outputs": [],
   "source": [
    "// |> Start Docker Image\n",
    "\n",
    "#!powershell\n",
    "\n",
    "\n",
    "docker start awsql\n",
    "# If the container hase been deleted, you can use this:\n",
    "##//docker run -e \"ACCEPT_EULA=Y\" -e \"SA_PASSWORD=<password>\" -e \"SECONDS_TO_AWAIT_SQLSERVER=20\" -p 1433:1433 --name awsql -h awsql -d gimlichael/aw-mssql-server:2022-latest"
   ]
  },
  {
   "cell_type": "code",
   "execution_count": null,
   "metadata": {
    "dotnet_interactive": {
     "language": "csharp"
    },
    "polyglot_notebook": {
     "kernelName": "csharp"
    },
    "vscode": {
     "languageId": "polyglot-notebook"
    }
   },
   "outputs": [],
   "source": [
    "// |> Load libraries...\n",
    "#i \"file:///n:/nix-nuget\"\n",
    "#r \"nuget: nix-library-raw\"\n",
    "#r \"nuget: microsoft.data.sqlclient\"\n",
    "#r \"nuget: microsoft.sqlserver.types\""
   ]
  },
  {
   "cell_type": "code",
   "execution_count": null,
   "metadata": {
    "dotnet_interactive": {
     "language": "csharp"
    },
    "polyglot_notebook": {
     "kernelName": "csharp"
    },
    "vscode": {
     "languageId": "polyglot-notebook"
    }
   },
   "outputs": [],
   "source": [
    "// |> Test connection\n",
    "\n",
    "using Nix.Library.Raw;\n",
    "\n",
    "var credential = System.Environment.GetEnvironmentVariable(\"AW_DB_DOX\");\n",
    "var connectionString = $\"Server=127.0.0.1,2433; Database=AdventureWorks2022; User Id=sa; Password={credential}; TrustServerCertificate=true; MultipleActiveResultSets=True;\";\n",
    "var _jsq = new JsonSqlClient(connectionString);\n",
    "var x = _jsq.StringsUsingQuery(\"Select top(10) * from Person.Address\");\n",
    "\n",
    "x.DisplayTable();"
   ]
  }
 ],
 "metadata": {
  "language_info": {
   "name": "python"
  }
 },
 "nbformat": 4,
 "nbformat_minor": 2
}
