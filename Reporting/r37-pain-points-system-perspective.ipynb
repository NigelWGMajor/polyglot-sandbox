{
 "cells": [
  {
   "cell_type": "markdown",
   "metadata": {},
   "source": [
    "# Reporting Pain Points - from a System perspective\n",
    "\n",
    "### tl;dr\n",
    "\n",
    "System-related Challenges for maintaining and growing Reporting include:\n",
    "\n",
    "- Convoluted code\n",
    "- Processes follow multiple pathways\n",
    "- Poorly managed serialization-effort cycle\n",
    "- No flow management\n",
    "- Non-pessimistic design approach\n",
    "- Lack of virtualized work units\n",
    "- Embedded code base and dependent deployment schedule\n",
    "- Lack of realistic virtual environments for testing\n",
    "- Non-core technology limits build targets\n",
    "- Poor diagnostic, Health and Maintenance tooling\n",
    "- Lack of package isolation"
   ]
  }
 ],
 "metadata": {
  "language_info": {
   "name": "python"
  }
 },
 "nbformat": 4,
 "nbformat_minor": 2
}
