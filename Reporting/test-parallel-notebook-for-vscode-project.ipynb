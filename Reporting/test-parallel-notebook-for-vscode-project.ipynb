{
 "cells": [
  {
   "cell_type": "markdown",
   "metadata": {},
   "source": [
    "# Testing using a vscode project interactively in a notebook\n",
    "\n",
    "The idea is to be able to use a notebook to access classes under development in a VSCode project, the intent being to interactively test the code and also debug the code in VSCode.  The Notebook version can be used to document, demo and test the code, while the VS code environment can be used to edit the contributing files and make adjustments.\n",
    "\n",
    "Note that the cs files have namespaces, which the notebooks do not support. Accordingly, the project file should have an entry like\n",
    "`<RootNamespace>Nix.Library.JsonSql</RootNamespace>`. While checkinbg that, you can identify any packages tha need to be loaded too.\n",
    "\n",
    "Expected Steps are\n",
    "\n",
    "1. Open a project in VSCode\n",
    "2. Create a notebook page\n",
    "3. Import any dependant packages (refer to the (usings)\n",
    "4. Import the files needed to run from the notebook (see the notes in the discovery below)."
   ]
  },
  {
   "cell_type": "markdown",
   "metadata": {},
   "source": [
    "## Load the packages\n",
    "\n",
    "Refer to the project file contents to determine the package dependencies.\n",
    "these should be loaded in their own cell, because code that depends on these packages will not compile oytehrwsie,\n",
    "and cells pass or fail compilation as a whole."
   ]
  },
  {
   "cell_type": "code",
   "execution_count": 1,
   "metadata": {
    "vscode": {
     "languageId": "polyglot-notebook"
    }
   },
   "outputs": [
    {
     "data": {
      "text/html": [
       "<div><div></div><div></div><div><strong>Installed Packages</strong><ul><li><span>Microsoft.Data.SqlClient, 5.2.0</span></li><li><span>System.Text.Json, 8.0.3</span></li></ul></div></div>"
      ]
     },
     "metadata": {},
     "output_type": "display_data"
    }
   ],
   "source": [
    "// install packages\n",
    "#r \"nuget: Microsoft.Data.SqlClient\"\n",
    "#r \"nuget:System.Text.Json\""
   ]
  },
  {
   "cell_type": "markdown",
   "metadata": {},
   "source": [
    "### load the code\n",
    "\n",
    "Examine the proj file to see if there are project dependencies: if so, you will need to load those first!\n",
    "You will also need to add any packages that these use.\n",
    "When doing this, you need to be careful to load any dependencies ***before*** the other classes that use them. \n",
    "\n",
    "This is done using the `#!Import` magic command. \n",
    "\n",
    "💡We can also import a dll directly if preferred in the same way\n",
    "💡If browsing in the VSCode files view, you can copy the path with the context menu.\n",
    "💡If your project is not where your notebook folder is, you may need absolute paths.\n",
    "\n",
    "\n",
    "💡If you have nullable code you may need a `#nullable enable` statement to prevent big orange error messages:\n",
    "if you see an orange bar, hover on to reveal the contents."
   ]
  },
  {
   "cell_type": "markdown",
   "metadata": {},
   "source": []
  },
  {
   "cell_type": "code",
   "execution_count": 11,
   "metadata": {
    "vscode": {
     "languageId": "polyglot-notebook"
    }
   },
   "outputs": [],
   "source": [
    "// this is disabled, because it is consolidated below\n",
    "\n",
    "// load all the dependent code\n",
    "\n",
    "// #nullable enable\n",
    "// \n",
    "// #!import C:\\source\\Tooling.Private\\nix-data-helpers\\Imports\\Nix.Library.NestedData\\NestedData.cs\n",
    "// #!import C:\\source\\Tooling.Private\\nix-data-helpers\\Imports\\Nix.Library.FileData\\FileData.cs\n",
    "// #!import C:\\source\\Tooling.Private\\nix-data-helpers\\Imports\\Nix.Library.JsonSql\\Field.cs\n",
    "// #!import C:\\source\\Tooling.Private\\nix-data-helpers\\Imports\\Nix.Library.JsonSql\\Link.cs\n",
    "// #!import C:\\source\\Tooling.Private\\nix-data-helpers\\Imports\\Nix.Library.JsonSql\\JsonSqlClient.cs\n",
    "\n"
   ]
  },
  {
   "cell_type": "markdown",
   "metadata": {},
   "source": [
    "We can now use the classes we just loaded to save the definitions we just made above to a script file: \n",
    "this will allow us to initialize very conveniently."
   ]
  },
  {
   "cell_type": "code",
   "execution_count": 12,
   "metadata": {
    "vscode": {
     "languageId": "polyglot-notebook"
    }
   },
   "outputs": [],
   "source": [
    "// // exercise the code to test - disabled because it was just used to gebnerate the script below\n",
    "// \n",
    "// // Copy the import declarations to a file ...\n",
    "// var script = \n",
    "// \"#nullable enable\\n\"\n",
    "// +\"\\n\"\n",
    "// +\"#!import C:\\\\source\\\\Tooling.Private\\\\nix-data-helpers\\\\Imports\\\\Nix.Library.NestedData\\\\NestedData.cs\\n\"\n",
    "// +\"#!import C:\\\\source\\\\Tooling.Private\\\\nix-data-helpers\\\\Imports\\\\Nix.Library.FileData\\\\FileData.cs\\n\"\n",
    "// +\"#!import C:\\\\source\\\\Tooling.Private\\\\nix-data-helpers\\\\Imports\\\\Nix.Library.JsonSql\\\\Field.cs\\n\"\n",
    "// +\"#!import C:\\\\source\\\\Tooling.Private\\\\nix-data-helpers\\\\Imports\\\\Nix.Library.JsonSql\\\\Link.cs\\n\"\n",
    "// +\"#!import C:\\\\source\\\\Tooling.Private\\\\nix-data-helpers\\\\Imports\\\\Nix.Library.JsonSql\\\\JsonSqlClient.cs\\n\"\n",
    "// +\"var _credentials = \\\"Password1Maybe\\\";\\n\";\n",
    "// \n",
    "// FileData.ToFile(script, \"script.csx\");\n"
   ]
  },
  {
   "cell_type": "code",
   "execution_count": 16,
   "metadata": {
    "vscode": {
     "languageId": "polyglot-notebook"
    }
   },
   "outputs": [],
   "source": [
    "// simplified version, import using a single import file.\n",
    "#nullable enable\n",
    "\n",
    "#!import script.csx"
   ]
  },
  {
   "cell_type": "markdown",
   "metadata": {},
   "source": [
    "Other than making the initialization less obtrusive, consolidating the startup code into a script file allows\n",
    "- setting up different typical load scenarios to choose from\n",
    "- by saving the file to a folder that is excluded form the repos, you can also inject credentials securely.🔒"
   ]
  },
  {
   "cell_type": "code",
   "execution_count": 17,
   "metadata": {
    "vscode": {
     "languageId": "polyglot-notebook"
    }
   },
   "outputs": [
    {
     "data": {
      "text/plain": [
       "Password1Maybe"
      ]
     },
     "metadata": {},
     "output_type": "display_data"
    },
    {
     "data": {
      "text/plain": [
       "Hello"
      ]
     },
     "metadata": {},
     "output_type": "display_data"
    }
   ],
   "source": [
    "_credentials.Display();\n",
    "\n",
    "\"Hello\".Display();"
   ]
  },
  {
   "cell_type": "markdown",
   "metadata": {},
   "source": [
    "By convention, I like to exclude any folder that has a prefixed period from any repository.  This allows me to keep credentials and outputs that should be confidential in that area."
   ]
  }
 ],
 "metadata": {
  "language_info": {
   "name": "python"
  }
 },
 "nbformat": 4,
 "nbformat_minor": 2
}
