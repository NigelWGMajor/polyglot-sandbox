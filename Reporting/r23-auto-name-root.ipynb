{
 "cells": [
  {
   "cell_type": "code",
   "execution_count": 1,
   "metadata": {
    "dotnet_interactive": {
     "language": "csharp"
    },
    "polyglot_notebook": {
     "kernelName": "csharp"
    }
   },
   "outputs": [
    {
     "data": {
      "text/html": [
       "<div><div><strong>Restore sources</strong><ul><li><span>file:///n:/nix-nuget/</span></li></ul></div><div></div><div><strong>Installed Packages</strong><ul><li><span>Microsoft.Data.SqlClient, 5.1.5</span></li><li><span>nix-library-raw, 1.0.18</span></li><li><span>RazorInteractive, 1.2.0</span></li></ul></div></div>"
      ]
     },
     "metadata": {},
     "output_type": "display_data"
    },
    {
     "data": {
      "text/plain": [
       "Loading extensions from `C:\\Users\\NickMajor\\.nuget\\packages\\razorinteractive\\1.2.0\\lib\\net8.0\\RazorInteractive.dll`"
      ]
     },
     "metadata": {},
     "output_type": "display_data"
    },
    {
     "data": {
      "text/html": [
       "<details>\n",
       "    <summary>Renders the code block as Razor markup in dotnet-interactive notebooks.</summary>\n",
       "    <p>This extension adds a new kernel that can render Razor markdown.</p>\n",
       "    <p>All C# and F# variables are available in the <code>@Model</code> property.</p>\n",
       "</details>"
      ]
     },
     "metadata": {},
     "output_type": "display_data"
    }
   ],
   "source": [
    "// load packages - your local nuget folder may vary\n",
    "#i \"file:///n:/nix-nuget/\"\n",
    "#r \"nuget: nix-library-raw\"  \n",
    "#r \"nuget: Microsoft.Data.SqlClient, 5.1.5\"\n",
    "// you may want the razor interactive support too!\n",
    "#r \"nuget: RazorInteractive\"\n",
    "\n",
    "using Nix.Library.Raw;\n",
    "string connectionString  = System.Environment.GetEnvironmentVariable(\"NIX_DB_DG\");\n",
    "JsonSqlClient _sql = new JsonSqlClient(connectionString);"
   ]
  },
  {
   "cell_type": "code",
   "execution_count": 2,
   "metadata": {
    "dotnet_interactive": {
     "language": "csharp"
    },
    "polyglot_notebook": {
     "kernelName": "csharp"
    }
   },
   "outputs": [],
   "source": [
    "var json = _sql.JsonSingleUsingFile(\"../.data/definitions-raw-mod.sql\");\n",
    "Nest.ToFile(json, \"../.data/test-html.json\");\n",
    "var page = Nest.RenderPageStepping(json);\n",
    "Nest.ToFile(page, \"../.html/mod-page.html\");\n",
    "Nest.RunFile(\"../.html/mod-page.html\");"
   ]
  }
 ],
 "metadata": {
  "kernelspec": {
   "display_name": ".NET (C#)",
   "language": "C#",
   "name": ".net-csharp"
  },
  "language_info": {
   "name": "polyglot-notebook"
  },
  "polyglot_notebook": {
   "kernelInfo": {
    "defaultKernelName": "csharp",
    "items": [
     {
      "aliases": [],
      "name": "csharp"
     },
     {
      "aliases": [],
      "name": "razor"
     }
    ]
   }
  }
 },
 "nbformat": 4,
 "nbformat_minor": 2
}
