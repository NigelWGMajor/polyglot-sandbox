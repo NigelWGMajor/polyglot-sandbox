{
 "cells": [
  {
   "cell_type": "markdown",
   "metadata": {},
   "source": [
    "#### tl;dr\n",
    "This is a basic template for general discovery work"
   ]
  },
  {
   "cell_type": "markdown",
   "metadata": {},
   "source": [
    "# General Discovery - Reporting - Base\n",
    "\n",
    "This is a base configuration used to do general discovery work on the Reporting relational metadata.\n",
    "It can be used to spawn focused discoveries.\n",
    "\n",
    "This uses a small utility library for rendering json data, and System.Text.Json (which has replaced Newtonsoft.Json).\n",
    "\n",
    "When generating output, the Razor Interactive requires that the kernel be reset, so queries need to be idempotent.\n"
   ]
  },
  {
   "cell_type": "code",
   "execution_count": null,
   "metadata": {
    "dotnet_interactive": {
     "language": "csharp"
    },
    "polyglot_notebook": {
     "kernelName": "csharp"
    }
   },
   "outputs": [],
   "source": [
    "// load packages\n",
    "\n",
    "#i \"file:///n:/nix-nuget/\"\n",
    "// // Library implementing the Nest class.\n",
    "#r \"nuget:nix-library-raw\"  \n",
    "// // can be Used to generate random data for testing\n",
    "// #r \"nuget:bogus\"            \n",
    "// // Needed by the library and/or jsoin serialization\n",
    "#r \"nuget:System.Text.Json\" \n",
    "// // This allows you to use Razor Pages directly (see later example)\n",
    "#r \"nuget:RazorInteractive\" \n"
   ]
  },
  {
   "cell_type": "code",
   "execution_count": null,
   "metadata": {
    "dotnet_interactive": {
     "language": "csharp"
    },
    "polyglot_notebook": {
     "kernelName": "csharp"
    }
   },
   "outputs": [],
   "source": [
    "// simple sql is supported in the raw library.\n",
    "using Nix.Library.Raw;\n",
    "string connectionString = System.Environment.GetEnvironmentVariable(\"Nix_DB_DG\");\n",
    "//connectionString = connectionString.Replace(\"TrustServerCertificate=False;\", \"\");\n",
    "JsonSqlClient _sql = new JsonSqlClient(connectionString);"
   ]
  }
 ],
 "metadata": {
  "kernelspec": {
   "display_name": ".NET (C#)",
   "language": "C#",
   "name": ".net-csharp"
  },
  "language_info": {
   "name": "polyglot-notebook"
  },
  "polyglot_notebook": {
   "kernelInfo": {
    "defaultKernelName": "csharp",
    "items": [
     {
      "aliases": [],
      "name": "csharp"
     },
     {
      "aliases": [],
      "name": "razor"
     }
    ]
   }
  }
 },
 "nbformat": 4,
 "nbformat_minor": 2
}
