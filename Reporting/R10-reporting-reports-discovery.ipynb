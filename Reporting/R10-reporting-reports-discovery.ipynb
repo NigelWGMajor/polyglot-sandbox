{
 "cells": [
  {
   "cell_type": "markdown",
   "metadata": {},
   "source": [
    "# Discovery - shallow dive\n",
    "\n",
    "This notebook examines the relationships between the different tables used by the Reporting metadata, two at a time.\n",
    "\n",
    "We start with collections that allow us to explore the cardinality of references.\n"
   ]
  },
  {
   "cell_type": "markdown",
   "metadata": {},
   "source": [
    "\n",
    "## This shows the main inter-table links\n",
    "These were determined by inspecting the schema Primary Keys and Foreign keys or implied keys.\n",
    "\n",
    "![Overview](../.media/Overview02.svg)\n",
    "\n",
    "The detailed view, including all column types were also dumped from the Information_Schema and although not directly used here, links are included for reference:\n",
    "\n",
    "(links to [Gropu A](../.media/GroupA.pdf) and [Group B](../.media/GroupB.pdf) for detailed reference)"
   ]
  },
  {
   "cell_type": "markdown",
   "metadata": {},
   "source": [
    "\n",
    "Examining the overview gives us a list of tables that reference one another:\n",
    "\n",
    "| a | b | c |d |e |f | g |\n",
    "|-- | -- | -- | -- | -- | -- | --\n",
    "|    |ReportFileLog  13->         |     ReportLogs | | | |\n",
    "| |ReportActivityLog 12->         |     ReportLogs | \n",
    "|                  |            |     ReportLogs | 14->                  ReportTransmissionLogs\n",
    "|ReportSchedule 9-> |Reports <-8  |     ReportLogs|\n",
    "|                 |Reports 10->  |     ReportTransmitterConfigLinks  | 19-> ReportTransmitterConfigs|\n",
    "|                 |Reports 15->  |     ReportMethods | |||\n",
    "|                 |            |     ReportInstances  18->          |    ReportTimeRanges\n",
    "|                 |Reports 11->  |     ReportInstances  7->          |    ReportDefinitions 20->        |  ReportTypes 1->         ReportCategory\n",
    "|                 |            |ReportDefinitionCustomAttributes  | 21-> ReportDefinitions           | |\n",
    "|                 |            |     ReportDefinitionColumns  6->  |    ReportDefinitions           | |\n",
    "|                 |            |     ReportDefinitionColumns  0->  |    ReportAggregateTypes        ||\n",
    "|                 |            |     ReportDefinitionColumns  2->  |    ReportColumns 3->            |   ReportDataTypes    | \n",
    "|                 |            |                                  |    ReportDataTypeOperators 4->  |   ReportDataTypes|\n",
    "|                 |            |                                  |    ReportDataTypeOperators 16->  |   ReportOperatorTypes|\n",
    "|                 |            |     ReportDefinitionColumns  5->  |    ReportDataTypeOverride      |                        |               \n",
    "|                 |            |     ReportDefinitionColumns  -17>  |    ReportSearchableTermTypeId  ||"
   ]
  },
  {
   "cell_type": "markdown",
   "metadata": {},
   "source": [
    "## Navigability\n",
    "\n",
    "Based on the above, we can plat the navigable paths (arrows) and establish the hierarchy\n",
    "\n",
    "<pre>\n",
    "                                               /-(05)->R.DataTypes--(04)->R.DataTypeOperators--(16)->R.OperatorTypes\n",
    "                                              /  /-(02)->R.Columns\n",
    "                                             /  /  /-(00)->R.AggregateTypes\n",
    "                         /<-(06)--R.DefinitionColumns--(17)->R.SearchableTermTypes               \n",
    "                        /  /<-(21)--R.DefinitionCustomAttributes     \n",
    "        /--(07)->R.Definitions--(20)->R.Types--(01)->R.Categories\n",
    "R.Instances--(18)->R.TimeRanges\n",
    "        \\<-(11)-Reports<-(10)--R.TransmitterConfigLinks--(19)->R.TransmitterConfigs\n",
    "              \\  \\  \\<-(09)--R.Schedule\n",
    "               \\  \\--(15)-> R.Methods    \n",
    "                \\<-(08)--R.Logs <-(12)-R.ActivityLog                 \n",
    "                          \\  \\<-(13)-R.FileLog\n",
    "                           \\<-(14)-R.TransmissionLogs\n",
    "</pre>   \n",
    "\n",
    "Clearly the upper half contains the **structural** information and the lower half the **run-time** data."
   ]
  },
  {
   "cell_type": "markdown",
   "metadata": {},
   "source": [
    "## Static and Live sequences\n",
    "\n",
    "These hierarchies can be grouped for processing \n",
    "\n",
    "> 18+11 < (10 < 19)+09+15+(8 < 12+13+14)\n",
    "> \n",
    "> 07 < (20 < 01)+21+(06 <17+00+02+(05 < 04 < 16))\n",
    "\n",
    "or to put it another way,\n",
    "\n",
    "> =18/10/19\n",
    "> +11+09\n",
    ">    +15\n",
    ">    +08/12\n",
    ">       +13\n",
    ">       +14\n",
    "> \n",
    "> =07/20/01\n",
    ">    +21\n",
    ">    +06/17\n",
    ">       +08\n",
    ">       +02\n",
    ">       +05/04/16\n"
   ]
  },
  {
   "cell_type": "markdown",
   "metadata": {},
   "source": [
    "# The Raw library contains some code to allow us to reflect these relationships.\n",
    "\n",
    "We first load the libraries. If displaying results with Razor, we will need to restart to overcome the dictionary limitations, but when we have meaningful output we can instead write the output to html files which can then be launched using #!pwsh."
   ]
  },
  {
   "cell_type": "markdown",
   "metadata": {},
   "source": [
    "### Set up the library code using Nuget\n",
    "\n",
    "> Set up the local nuget path and any needed packages here."
   ]
  },
  {
   "cell_type": "code",
   "execution_count": 1,
   "metadata": {
    "dotnet_interactive": {
     "language": "csharp"
    },
    "polyglot_notebook": {
     "kernelName": "csharp"
    }
   },
   "outputs": [
    {
     "data": {
      "text/html": [
       "<div><div><strong>Restore sources</strong><ul><li><span>file:///n:/nix-nuget/</span></li></ul></div><div></div><div><strong>Installed Packages</strong><ul><li><span>Microsoft.Data.SqlClient, 5.1.5</span></li><li><span>nix-library-raw, 1.0.18</span></li><li><span>RazorInteractive, 1.2.0</span></li></ul></div></div>"
      ]
     },
     "metadata": {},
     "output_type": "display_data"
    },
    {
     "data": {
      "text/plain": [
       "Loading extensions from `C:\\Users\\NickMajor\\.nuget\\packages\\razorinteractive\\1.2.0\\lib\\net8.0\\RazorInteractive.dll`"
      ]
     },
     "metadata": {},
     "output_type": "display_data"
    },
    {
     "data": {
      "text/html": [
       "<details>\n",
       "    <summary>Renders the code block as Razor markup in dotnet-interactive notebooks.</summary>\n",
       "    <p>This extension adds a new kernel that can render Razor markdown.</p>\n",
       "    <p>All C# and F# variables are available in the <code>@Model</code> property.</p>\n",
       "</details>"
      ]
     },
     "metadata": {},
     "output_type": "display_data"
    }
   ],
   "source": [
    "// load packages - your local nuget folder may vary\n",
    "#i \"file:///n:/nix-nuget/\"\n",
    "#r \"nuget: nix-library-raw\"  \n",
    "#r \"nuget: Microsoft.Data.SqlClient, 5.1.5\"\n",
    "// you may want the razor interactive support too!\n",
    "#r \"nuget: RazorInteractive\""
   ]
  },
  {
   "cell_type": "markdown",
   "metadata": {},
   "source": [
    "### Json Sql Client\n",
    "\n",
    "> This part of the library allows us to generate and/or execute Sql queries and return json with divergent (1:many) relationships. \n",
    "> \n",
    "> We typically only want a sample of a few records, so the `top` syntax is included in the generated queries.\n",
    "> \n",
    "> First set up the JsonSqlClient"
   ]
  },
  {
   "cell_type": "code",
   "execution_count": 2,
   "metadata": {
    "dotnet_interactive": {
     "language": "csharp"
    },
    "polyglot_notebook": {
     "kernelName": "csharp"
    }
   },
   "outputs": [],
   "source": [
    "// some housekeeping needed to set up the library\n",
    "using Nix.Library.Raw;\n",
    "string connectionString  = System.Environment.GetEnvironmentVariable(\"NIX_DB_DG\");\n",
    "JsonSqlClient sql = new JsonSqlClient(connectionString);\n"
   ]
  },
  {
   "cell_type": "markdown",
   "metadata": {},
   "source": [
    "### Sql generation\n",
    "\n",
    "> Every link between two tables is fully defined by knowing the fully qualified names of the linked columns.\n",
    "> \n",
    "> When linking these in a single query, each row of the outer (primary key) table will contain 0 or more instances of the inner (foreign key) table.\n",
    "> \n",
    "> The `GenerateNestedQuery` method requires the fully qualified names of the two tables (schema.table.column) from which it can generate query which returns all columns with `for json path` nesting to accommodate the divergent cardinality.\n",
    ">\n",
    "> The column names are determined through reflection, using the `Information_schema`."
   ]
  },
  {
   "cell_type": "code",
   "execution_count": 3,
   "metadata": {
    "dotnet_interactive": {
     "language": "csharp"
    },
    "polyglot_notebook": {
     "kernelName": "csharp"
    }
   },
   "outputs": [
    {
     "data": {
      "text/plain": [
       "22 queries were generated. First example:\n",
       " select top (10) [ReportAggregateTypeId],[ConditionName],[Operator],[CreatedDate],[ModifiedDate], (select [ReportDefinitionColumnId],[ReportDefinitionId],[ReportColumnId],[Order],[IsDefault],[IsFilterable],[CreatedDate],[ModifiedDate],[ReportAggregateTypeId],[IsForDateRange],[IsRequired],[LocalizationKeyOverride],[IsVisible],[ReportSearchableTermTypeId],[ReportDataTypeIdOverride],[IsForSegmentJoin] from rpt.ReportDefinitionColumns where rpt.ReportAggregateTypes.ReportAggregateTypeId=rpt.ReportDefinitionColumns.ReportAggregateTypeId for json path, root('ReportAggregateTypes'), INCLUDE_NULL_VALUES) as ReportDefinitionColumns from rpt.ReportAggregateTypes order by rpt.ReportAggregateTypes.ReportAggregateTypeId desc  for json path, INCLUDE_NULL_VALUES"
      ]
     },
     "metadata": {},
     "output_type": "display_data"
    }
   ],
   "source": [
    "// To feed the generator, we will use an array of string[]s\n",
    "var data = new string[][] {\n",
    "new string[] {\"rpt.ReportAggregateTypes.ReportAggregateTypeId\", \"rpt.ReportDefinitionColumns.ReportAggregateTypeId\" }, //0\n",
    "new string[] {\"rpt.ReportCategories.ReportCategoryId\", \"rpt.ReportTypes.ReportCategoryId\" }, //1\n",
    "new string[] {\"rpt.ReportColumns.ReportColumnId\", \"rpt.ReportDefinitionColumns.ReportColumnId\" }, //2\n",
    "new string[] {\"rpt.ReportDataTypes.ReportDataTypeId\", \"rpt.ReportColumns.ReportDataTypeId\" }, //3\n",
    "new string[] {\"rpt.ReportDataTypes.ReportDataTypeId\", \"rpt.ReportDataTypeOperators.ReportDataTypeId\" }, //4\n",
    "new string[] {\"rpt.ReportDataTypes.ReportDataTypeId\", \"rpt.ReportDefinitionColumns.ReportDataTypeIdOverride\" }, //5\n",
    "new string[] {\"rpt.ReportDefinitions.ReportDefinitionId\", \"rpt.ReportDefinitionColumns.ReportDefinitionId\" }, //6\n",
    "new string[] {\"rpt.ReportDefinitions.ReportDefinitionId\", \"rpt.ReportInstances.ReportDefinitionId\" }, //7\n",
    "new string[] {\"rpt.Reports.ReportId\", \"rpt.ReportLogs.ReportId\" }, //8\n",
    "new string[] {\"rpt.Reports.ReportId\", \"rpt.ReportSchedule.ReportId\"  }, //9\n",
    "new string[] {\"rpt.Reports.ReportId\", \"rpt.ReportTransmitterConfigLinks.ReportId\" }, //10\n",
    "new string[] {\"rpt.ReportInstances.ReportInstanceId\", \"rpt.Reports.ReportInstanceId\" }, //11\n",
    "new string[] {\"rpt.ReportLogs.ReportLogId\", \"rpt.ReportActivityLog.ReportLogId\" }, //12\n",
    "new string[] {\"rpt.ReportLogs.ReportLogId\", \"rpt.ReportFileLog.ReportLogId\" }, //13\n",
    "new string[] {\"rpt.ReportLogs.ReportLogId\", \"rpt.ReportTransmissionLogs.ReportLogId\" }, //14\n",
    "new string[] {\"rpt.ReportMethods.Id\", \"rpt.Reports.ReportMethodId\" }, //15\n",
    "new string[] {\"rpt.ReportOperatorTypes.ReportoperatorTypeId\", \"rpt.ReportDataTypeOperators.ReportOperatorTypeId\" }, //16\n",
    "new string[] {\"rpt.ReportSearchableTermTypes.ReportSearchableTermTypeId\", \"rpt.ReportDefinitionColumns.ReportSearchableTermTypeId\" }, //17\n",
    "new string[] {\"rpt.ReportTimeRanges.ReportTimeRangeId\", \"rpt.ReportInstances.TimePeriod\" }, //18\n",
    "new string[] {\"rpt.ReportTransmitterConfigs.ReportTransmitterConfigId\", \"rpt.ReportTransmitterConfigLinks.ReportTransmitterConfigId\"}, //19\n",
    "new string[] {\"rpt.ReportTypes.ReportTypeId\", \"rpt.ReportDefinitions.ReportTypeId\" }, //20\n",
    "new string[] {\"rpt.ReportDefinitions.ReportDefinitionId\", \"rpt.ReportDefinitionCustomAttributes.ReportDefinitionId\"} //21\n",
    "};\n",
    "\n",
    "var queries = new List<string>();\n",
    "\n",
    "foreach(var line in data)\n",
    "{\n",
    "    var s = sql.GenerateNestedQuery(line[0], line [1]);\n",
    "    queries.Add(s);\n",
    "}\n",
    "// remedial:\n",
    "\n",
    "$\"{queries.Count()} queries were generated. First example:\\n{queries[0]}\".Display();"
   ]
  },
  {
   "cell_type": "code",
   "execution_count": null,
   "metadata": {
    "dotnet_interactive": {
     "language": "csharp"
    },
    "polyglot_notebook": {
     "kernelName": "csharp"
    }
   },
   "outputs": [],
   "source": [
    "/*\n",
    " // to examine the sql\n",
    "int ix = 0;\n",
    "foreach (var q in queries)\n",
    "($\"{ix++}: {q}\").Display();\n",
    "*/"
   ]
  },
  {
   "cell_type": "markdown",
   "metadata": {},
   "source": [
    "### Json Pages\n",
    "\n",
    "> Running the sql queries using the `JsonSingleUsingQuery` method returns a json object representing the data.\n",
    "> \n",
    "> Other functions are available to \n",
    "> \n",
    "> - return multiple result sets, \n",
    "> - query using stored procedures,\n",
    "> - return data as strings not json.\n",
    "> \n",
    "> These provide flexibility, depending on the data needed. \n",
    ">\n",
    "> For our purposes we only need a single data set per query, and need json to feed to the next step."
   ]
  },
  {
   "cell_type": "code",
   "execution_count": 4,
   "metadata": {
    "dotnet_interactive": {
     "language": "csharp"
    },
    "polyglot_notebook": {
     "kernelName": "csharp"
    }
   },
   "outputs": [
    {
     "data": {
      "text/plain": [
       "22 json pages were generated. First example:\n",
       "[{\"ReportAggregateTypeId\":5,\"ConditionName\":\"Sum\",\"Operator\":\"SUM('%')\",\"CreatedDate\":\"2021-07-16T22:34:53.2027056\",\"ModifiedDate\":null,\"ReportDefinitionColumns\":{\"ReportAggregateTypes\":[{\"ReportDefinitionColumnId\":8,\"ReportDefinitionId\":1,\"ReportColumnId\":8,\"Order\":8,\"IsDefault\":true,\"IsFilterable\":false,\"CreatedDate\":\"2021-07-16T22:34:53.2027056\",\"ModifiedDate\":null,\"ReportAggregateTypeId\":5,\"IsForDateRange\":false,\"IsRequired\":false,\"LocalizationKeyOverride\":null,\"IsVisible\":true,\"ReportSearchableTermTypeId\":null,\"ReportDataTypeIdOverride\":null,\"IsForSegmentJoin\":false},{\"ReportDefinitionColumnId\":21,\"ReportDefinitionId\":3,\"ReportColumnId\":21,\"Order\":11,\"IsDefault\":true,\"IsFilterable\":false,\"CreatedDate\":\"2021-07-16T22:34:53.2027056\",\"ModifiedDate\":null,\"ReportAggregateTypeId\":5,\"IsForDateRange\":false,\"IsRequired\":false,\"LocalizationKeyOverride\":\"AssignmentsCompleted\",\"IsVisible\":true,\"ReportSearchableTermTypeId\":null,\"ReportDataTypeIdOverride\":null,\"IsForSegmentJoin\":false},{\"ReportDefinitionColumnId\":26,\"ReportDefinitionId\":5,\"ReportColumnId\":24,\"Order\":4,\"IsDefault\":true,\"IsFilterable\":false,\"CreatedDate\":\"2021-07-16T22:34:53.2027056\",\"ModifiedDate\":null,\"ReportAggregateTypeId\":5,\"IsForDateRange\":false,\"IsRequired\":false,\"LocalizationKeyOverride\":\"TotalSkillsFocused\",\"IsVisible\":true,\"ReportSearchableTermTypeId\":null,\"ReportDataTypeIdOverride\":null,\"IsForSegmentJoin\":false},{\"ReportDefinitionColumnId\":106,\"ReportDefinitionId\":10,\"ReportColumnId\":82,\"Order\":8,\"IsDefault\":true,\"IsFilterable\":false,\"CreatedDate\":\"2021-10-29T22:53:30.1040840\",\"ModifiedDate\":null,\"ReportAggregateTypeId\":5,\"IsForDateRange\":false,\"IsRequired\":false,\"LocalizationKeyOverride\":\"ViewCountIOSBrowser\",\"IsVisible\":true,\"ReportSearchableTermTypeId\":null,\"ReportDataTypeIdOverride\":null,\"IsForSegmentJoin\":false},{\"ReportDefinitionColumnId\":108,\"ReportDefinitionId\":10,\"ReportColumnId\":83,\"Order\":10,\"IsDefault\":true,\"IsFilterable\":false,\"CreatedDate\":\"2021-10-29T22:53:30.1040840\",\"ModifiedDate\":null,\"ReportAggregateTypeId\":5,\"IsForDateRange\":false,\"IsRequired\":false,\"LocalizationKeyOverride\":\"ViewCountIOSApp\",\"IsVisible\":true,\"ReportSearchableTermTypeId\":null,\"ReportDataTypeIdOverride\":null,\"IsForSegmentJoin\":false},{\"ReportDefinitionColumnId\":110,\"ReportDefinitionId\":10,\"ReportColumnId\":84,\"Order\":7,\"IsDefault\":true,\"IsFilterable\":false,\"CreatedDate\":\"2021-10-29T22:53:30.1040840\",\"ModifiedDate\":null,\"ReportAggregateTypeId\":5,\"IsForDateRange\":false,\"IsRequired\":false,\"LocalizationKeyOverride\":\"ViewCountDesktop\",\"IsVisible\":true,\"ReportSearchableTermTypeId\":null,\"ReportDataTypeIdOverride\":null,\"IsForSegmentJoin\":false},{\"ReportDefinitionColumnId\":113,\"ReportDefinitionId\":10,\"ReportColumnId\":80,\"Order\":9,\"IsDefault\":true,\"IsFilterable\":false,\"CreatedDate\":\"2021-10-29T22:53:30.1040840\",\"ModifiedDate\":null,\"ReportAggregateTypeId\":5,\"IsForDateRange\":false,\"IsRequired\":false,\"LocalizationKeyOverride\":\"ViewCountAndroidBrowser\",\"IsVisible\":true,\"ReportSearchableTermTypeId\":null,\"ReportDataTypeIdOverride\":null,\"IsForSegmentJoin\":false},{\"ReportDefinitionColumnId\":115,\"ReportDefinitionId\":10,\"ReportColumnId\":81,\"Order\":11,\"IsDefault\":true,\"IsFilterable\":false,\"CreatedDate\":\"2021-10-29T22:53:30.1040840\",\"ModifiedDate\":null,\"ReportAggregateTypeId\":5,\"IsForDateRange\":false,\"IsRequired\":false,\"LocalizationKeyOverride\":\"ViewCountAndroidApp\",\"IsVisible\":true,\"ReportSearchableTermTypeId\":null,\"ReportDataTypeIdOverride\":null,\"IsForSegmentJoin\":false},{\"ReportDefinitionColumnId\":212,\"ReportDefinitionId\":1,\"ReportColumnId\":179,\"Order\":10,\"IsDefault\":true,\"IsFilterable\":false,\"CreatedDate\":\"2022-12-15T00:25:30.3187547\",\"ModifiedDate\":null,\"ReportAggregateTypeId\":5,\"IsForDateRange\":false,\"IsRequired\":false,\"LocalizationKeyOverride\":null,\"IsVisible\":true,\"ReportSearchableTermTypeId\":null,\"ReportDataTypeIdOverride\":null,\"IsForSegmentJoin\":false},{\"ReportDefinitionColumnId\":305,\"ReportDefinitionId\":23,\"ReportColumnId\":277,\"Order\":9,\"IsDefault\":true,\"IsFilterable\":false,\"CreatedDate\":\"2023-06-09T15:12:18.3766123\",\"ModifiedDate\":null,\"ReportAggregateTypeId\":5,\"IsForDateRange\":false,\"IsRequired\":false,\"LocalizationKeyOverride\":null,\"IsVisible\":true,\"ReportSearchableTermTypeId\":null,\"ReportDataTypeIdOverride\":null,\"IsForSegmentJoin\":false},{\"ReportDefinitionColumnId\":307,\"ReportDefinitionId\":23,\"ReportColumnId\":276,\"Order\":7,\"IsDefault\":true,\"IsFilterable\":false,\"CreatedDate\":\"2023-06-09T15:12:18.3766123\",\"ModifiedDate\":null,\"ReportAggregateTypeId\":5,\"IsForDateRange\":false,\"IsRequired\":false,\"LocalizationKeyOverride\":null,\"IsVisible\":true,\"ReportSearchableTermTypeId\":null,\"ReportDataTypeIdOverride\":null,\"IsForSegmentJoin\":false},{\"ReportDefinitionColumnId\":308,\"ReportDefinitionId\":23,\"ReportColumnId\":278,\"Order\":6,\"IsDefault\":true,\"IsFilterable\":false,\"CreatedDate\":\"2023-06-09T15:12:18.3766123\",\"ModifiedDate\":null,\"ReportAggregateTypeId\":5,\"IsForDateRange\":false,\"IsRequired\":false,\"LocalizationKeyOverride\":null,\"IsVisible\":true,\"ReportSearchableTermTypeId\":null,\"ReportDataTypeIdOverride\":null,\"IsForSegmentJoin\":false},{\"ReportDefinitionColumnId\":311,\"ReportDefinitionId\":23,\"ReportColumnId\":274,\"Order\":8,\"IsDefault\":true,\"IsFilterable\":false,\"CreatedDate\":\"2023-06-09T15:12:18.3766123\",\"ModifiedDate\":null,\"ReportAggregateTypeId\":5,\"IsForDateRange\":false,\"IsRequired\":false,\"LocalizationKeyOverride\":null,\"IsVisible\":true,\"ReportSearchableTermTypeId\":null,\"ReportDataTypeIdOverride\":null,\"IsForSegmentJoin\":false},{\"ReportDefinitionColumnId\":314,\"ReportDefinitionId\":23,\"ReportColumnId\":275,\"Order\":10,\"IsDefault\":true,\"IsFilterable\":false,\"CreatedDate\":\"2023-06-09T15:12:18.3766123\",\"ModifiedDate\":null,\"ReportAggregateTypeId\":5,\"IsForDateRange\":false,\"IsRequired\":false,\"LocalizationKeyOverride\":null,\"IsVisible\":true,\"ReportSearchableTermTypeId\":null,\"ReportDataTypeIdOverride\":null,\"IsForSegmentJoin\":false},{\"ReportDefinitionColumnId\":401,\"ReportDefinitionId\":5,\"ReportColumnId\":365,\"Order\":8,\"IsDefault\":true,\"IsFilterable\":false,\"CreatedDate\":\"2023-06-14T19:11:46.4657302\",\"ModifiedDate\":null,\"ReportAggregateTypeId\":5,\"IsForDateRange\":false,\"IsRequired\":false,\"LocalizationKeyOverride\":\"TotalPeerRatings\",\"IsVisible\":true,\"ReportSearchableTermTypeId\":null,\"ReportDataTypeIdOverride\":null,\"IsForSegmentJoin\":false}]}},{\"ReportAggregateTypeId\":4,\"ConditionName\":\"Average\",\"Operator\":\"cast(AVG('%') as decimal(5,2))\",\"CreatedDate\":\"2021-07-16T22:34:53.2027056\",\"ModifiedDate\":null,\"ReportDefinitionColumns\":{\"ReportAggregateTypes\":[{\"ReportDefinitionColumnId\":30,\"ReportDefinitionId\":5,\"ReportColumnId\":25,\"Order\":9,\"IsDefault\":true,\"IsFilterable\":false,\"CreatedDate\":\"2021-07-16T22:34:53.2027056\",\"ModifiedDate\":null,\"ReportAggregateTypeId\":4,\"IsForDateRange\":false,\"IsRequired\":false,\"LocalizationKeyOverride\":\"SelfRatingAverage\",\"IsVisible\":true,\"ReportSearchableTermTypeId\":null,\"ReportDataTypeIdOverride\":null,\"IsForSegmentJoin\":false},{\"ReportDefinitionColumnId\":31,\"ReportDefinitionId\":5,\"ReportColumnId\":26,\"Order\":10,\"IsDefault\":true,\"IsFilterable\":false,\"CreatedDate\":\"2021-07-16T22:34:53.2027056\",\"ModifiedDate\":null,\"ReportAggregateTypeId\":4,\"IsForDateRange\":false,\"IsRequired\":false,\"LocalizationKeyOverride\":\"ManagerRatingAverage\",\"IsVisible\":true,\"ReportSearchableTermTypeId\":null,\"ReportDataTypeIdOverride\":null,\"IsForSegmentJoin\":false},{\"ReportDefinitionColumnId\":32,\"ReportDefinitionId\":5,\"ReportColumnId\":27,\"Order\":11,\"IsDefault\":true,\"IsFilterable\":false,\"CreatedDate\":\"2021-07-16T22:34:53.2027056\",\"ModifiedDate\":null,\"ReportAggregateTypeId\":4,\"IsForDateRange\":false,\"IsRequired\":false,\"LocalizationKeyOverride\":\"SkillReviewAverage\",\"IsVisible\":true,\"ReportSearchableTermTypeId\":null,\"ReportDataTypeIdOverride\":null,\"IsForSegmentJoin\":false},{\"ReportDefinitionColumnId\":400,\"ReportDefinitionId\":5,\"ReportColumnId\":365,\"Order\":12,\"IsDefault\":true,\"IsFilterable\":false,\"CreatedDate\":\"2023-06-14T19:11:46.4657302\",\"ModifiedDate\":null,\"ReportAggregateTypeId\":4,\"IsForDateRange\":false,\"IsRequired\":false,\"LocalizationKeyOverride\":\"AveragePeerRatings\",\"IsVisible\":true,\"ReportSearchableTermTypeId\":null,\"ReportDataTypeIdOverride\":null,\"IsForSegmentJoin\":false}]}},{\"ReportAggregateTypeId\":3,\"ConditionName\":\"Count\",\"Operator\":\"COUNT('%')\",\"CreatedDate\":\"2021-07-16T22:34:53.2027056\",\"ModifiedDate\":null,\"ReportDefinitionColumns\":{\"ReportAggregateTypes\":[{\"ReportDefinitionColumnId\":7,\"ReportDefinitionId\":1,\"ReportColumnId\":7,\"Order\":7,\"IsDefault\":true,\"IsFilterable\":false,\"CreatedDate\":\"2021-07-16T22:34:53.2027056\",\"ModifiedDate\":null,\"ReportAggregateTypeId\":3,\"IsForDateRange\":false,\"IsRequired\":false,\"LocalizationKeyOverride\":\"ContentCompleted\",\"IsVisible\":true,\"ReportSearchableTermTypeId\":null,\"ReportDataTypeIdOverride\":null,\"IsForSegmentJoin\":false},{\"ReportDefinitionColumnId\":20,\"ReportDefinitionId\":3,\"ReportColumnId\":20,\"Order\":10,\"IsDefault\":true,\"IsFilterable\":false,\"CreatedDate\":\"2021-07-16T22:34:53.2027056\",\"ModifiedDate\":null,\"ReportAggregateTypeId\":3,\"IsForDateRange\":false,\"IsRequired\":false,\"LocalizationKeyOverride\":\"TotalAssignments\",\"IsVisible\":true,\"ReportSearchableTermTypeId\":null,\"ReportDataTypeIdOverride\":1,\"IsForSegmentJoin\":false},{\"ReportDefinitionColumnId\":25,\"ReportDefinitionId\":5,\"ReportColumnId\":23,\"Order\":3,\"IsDefault\":true,\"IsFilterable\":false,\"CreatedDate\":\"2021-07-16T22:34:53.2027056\",\"ModifiedDate\":null,\"ReportAggregateTypeId\":3,\"IsForDateRange\":false,\"IsRequired\":false,\"LocalizationKeyOverride\":\"TotalSkillsFollowed\",\"IsVisible\":true,\"ReportSearchableTermTypeId\":null,\"ReportDataTypeIdOverride\":1,\"IsForSegmentJoin\":false},{\"ReportDefinitionColumnId\":27,\"ReportDefinitionId\":5,\"ReportColumnId\":25,\"Order\":5,\"IsDefault\":true,\"IsFilterable\":false,\"CreatedDate\":\"2021-07-16T22:34:53.2027056\",\"ModifiedDate\":null,\"ReportAggregateTypeId\":3,\"IsForDateRange\":false,\"IsRequired\":false,\"LocalizationKeyOverride\":\"TotalSelfRatings\",\"IsVisible\":true,\"ReportSearchableTermTypeId\":null,\"ReportDataTypeIdOverride\":null,\"IsForSegmentJoin\":false},{\"ReportDefinitionColumnId\":28,\"ReportDefinitionId\":5,\"ReportColumnId\":26,\"Order\":6,\"IsDefault\":true,\"IsFilterable\":false,\"CreatedDate\":\"2021-07-16T22:34:53.2027056\",\"ModifiedDate\":null,\"ReportAggregateTypeId\":3,\"IsForDateRange\":false,\"IsRequired\":false,\"LocalizationKeyOverride\":\"TotalManagerRatings\",\"IsVisible\":true,\"ReportSearchableTermTypeId\":null,\"ReportDataTypeIdOverride\":null,\"IsForSegmentJoin\":false},{\"ReportDefinitionColumnId\":29,\"ReportDefinitionId\":5,\"ReportColumnId\":27,\"Order\":7,\"IsDefault\":true,\"IsFilterable\":false,\"CreatedDate\":\"2021-07-16T22:34:53.2027056\",\"ModifiedDate\":null,\"ReportAggregateTypeId\":3,\"IsForDateRange\":false,\"IsRequired\":false,\"LocalizationKeyOverride\":\"TotalSkillReviews\",\"IsVisible\":true,\"ReportSearchableTermTypeId\":null,\"ReportDataTypeIdOverride\":null,\"IsForSegmentJoin\":false},{\"ReportDefinitionColumnId\":104,\"ReportDefinitionId\":9,\"ReportColumnId\":74,\"Order\":3,\"IsDefault\":true,\"IsFilterable\":false,\"CreatedDate\":\"2021-10-29T22:53:29.8227795\",\"ModifiedDate\":null,\"ReportAggregateTypeId\":3,\"IsForDateRange\":false,\"IsRequired\":false,\"LocalizationKeyOverride\":\"SearchCount\",\"IsVisible\":true,\"ReportSearchableTermTypeId\":null,\"ReportDataTypeIdOverride\":1,\"IsForSegmentJoin\":false}]}},{\"ReportAggregateTypeId\":2,\"ConditionName\":\"Max\",\"Operator\":\"MAX('%')\",\"CreatedDate\":\"2021-07-16T22:34:53.1870708\",\"ModifiedDate\":null,\"ReportDefinitionColumns\":{\"ReportAggregateTypes\":[{\"ReportDefinitionColumnId\":6,\"ReportDefinitionId\":1,\"ReportColumnId\":31,\"Order\":1,\"IsDefault\":true,\"IsFilterable\":false,\"CreatedDate\":\"2021-07-16T22:34:53.2027056\",\"ModifiedDate\":null,\"ReportAggregateTypeId\":2,\"IsForDateRange\":false,\"IsRequired\":false,\"LocalizationKeyOverride\":\"LatestCompletionDate\",\"IsVisible\":true,\"ReportSearchableTermTypeId\":null,\"ReportDataTypeIdOverride\":null,\"IsForSegmentJoin\":false}]}},{\"ReportAggregateTypeId\":1,\"ConditionName\":\"Min\",\"Operator\":\"MIN('%')\",\"CreatedDate\":\"2021-07-16T22:34:53.1870708\",\"ModifiedDate\":null,\"ReportDefinitionColumns\":null}]"
      ]
     },
     "metadata": {},
     "output_type": "display_data"
    }
   ],
   "source": [
    "var jsonPages = new List<string>();\n",
    "\n",
    "foreach (var query in queries)\n",
    "{\n",
    "    //Console.Write($\" {index++}\");\n",
    "    string j = sql.JsonSingleUsingQuery(query, false);\n",
    "    jsonPages.Add(j);\n",
    "}\n",
    "$\"{jsonPages.Count()} json pages were generated. First example:\\n{jsonPages[0]}\".Display();\n"
   ]
  },
  {
   "cell_type": "markdown",
   "metadata": {},
   "source": [
    "### Saving\n",
    "\n",
    "> To preserve the data, useful for snapshots and offline working, the `Nest` class that provides the ability to handle nested objects includes static methods to save and retrieve files.\n",
    "> \n",
    "> Typically we also save the sql files so that we can edit, adding filters or commenting out fields as needed."
   ]
  },
  {
   "cell_type": "code",
   "execution_count": 5,
   "metadata": {
    "dotnet_interactive": {
     "language": "csharp"
    },
    "polyglot_notebook": {
     "kernelName": "csharp"
    }
   },
   "outputs": [],
   "source": [
    "int ix = 0;\n",
    "foreach (var q in jsonPages)\n",
    "{\n",
    "    Nest.ToFile(q, $\"../.data/json{ix++:00}.json\");\n",
    "}"
   ]
  },
  {
   "cell_type": "markdown",
   "metadata": {},
   "source": [
    "### Rendering\n",
    "\n",
    "> The choice of json as an output and storage format makes it simple to use html / css able to display the data in a variety of forms.\n",
    ">\n",
    "> The Nest class contains some rendering code which takes the "
   ]
  },
  {
   "cell_type": "code",
   "execution_count": 6,
   "metadata": {
    "dotnet_interactive": {
     "language": "csharp"
    },
    "polyglot_notebook": {
     "kernelName": "csharp"
    }
   },
   "outputs": [],
   "source": [
    "int index = 0;\n",
    "var output = new List<string>();\n",
    "foreach (var jsonPage in jsonPages)\n",
    "{\n",
    "    var title = $\"{data[index][0]} -> {data[index][1]}\";\n",
    "    var path = $\"../.Html/page{index++:00}.html\";\n",
    "    Nest.ToFile(Nest.RenderPageStepping(jsonPage, \" \", 10, title), path);\n",
    "    output.Add(path); \n",
    "}"
   ]
  },
  {
   "cell_type": "markdown",
   "metadata": {},
   "source": [
    "### Show the data\n",
    "\n",
    "> This example used the `RenderPageStepping`  method to produce stand-alone html with embedded css and javascript.\n",
    "> The display allows you to step through multiple values resulting from the nesting."
   ]
  },
  {
   "cell_type": "code",
   "execution_count": 7,
   "metadata": {
    "dotnet_interactive": {
     "language": "csharp"
    },
    "polyglot_notebook": {
     "kernelName": "csharp"
    }
   },
   "outputs": [],
   "source": [
    "// Launch all in the browser\n",
    "using System.Diagnostics;\n",
    "foreach (string s in output)\n",
    "{   \n",
    "    Nest.RunFile(s); \n",
    "}"
   ]
  }
 ],
 "metadata": {
  "kernelspec": {
   "display_name": ".NET (C#)",
   "language": "C#",
   "name": ".net-csharp"
  },
  "language_info": {
   "name": "polyglot-notebook"
  },
  "polyglot_notebook": {
   "kernelInfo": {
    "defaultKernelName": "csharp",
    "items": [
     {
      "aliases": [],
      "name": "csharp"
     },
     {
      "aliases": [],
      "name": "razor"
     }
    ]
   }
  }
 },
 "nbformat": 4,
 "nbformat_minor": 2
}
