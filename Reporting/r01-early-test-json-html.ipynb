{
 "cells": [
  {
   "cell_type": "markdown",
   "metadata": {},
   "source": [
    "# Test for the Raw library.\n",
    "\n",
    "This is a simple library helping with display of data in Json form.\n",
    "\n",
    "Two classes: Nest supports hierarchical iteration needed by json, JsonSqlClient has simple sql read operations supporting Json and multiple rowsets.\n",
    "\n"
   ]
  },
  {
   "cell_type": "markdown",
   "metadata": {},
   "source": [
    "#### tl;dr\n",
    "\n",
    "a simple block of code to test rendering of a razor page with styles from a set of database queries."
   ]
  },
  {
   "cell_type": "code",
   "execution_count": 1,
   "metadata": {
    "dotnet_interactive": {
     "language": "csharp"
    },
    "polyglot_notebook": {
     "kernelName": "csharp"
    }
   },
   "outputs": [
    {
     "data": {
      "text/html": [
       "<div><div><strong>Restore sources</strong><ul><li><span>file:///n:/nix-nuget/</span></li></ul></div><div></div><div><strong>Installed Packages</strong><ul><li><span>Microsoft.Data.SqlClient, 5.1.5</span></li><li><span>nix-library-raw, 1.0.17</span></li><li><span>RazorInteractive, 1.2.0</span></li></ul></div></div>"
      ]
     },
     "metadata": {},
     "output_type": "display_data"
    },
    {
     "data": {
      "text/plain": [
       "Loading extensions from `C:\\Users\\NickMajor\\.nuget\\packages\\razorinteractive\\1.2.0\\lib\\net8.0\\RazorInteractive.dll`"
      ]
     },
     "metadata": {},
     "output_type": "display_data"
    },
    {
     "data": {
      "text/html": [
       "<details>\n",
       "    <summary>Renders the code block as Razor markup in dotnet-interactive notebooks.</summary>\n",
       "    <p>This extension adds a new kernel that can render Razor markdown.</p>\n",
       "    <p>All C# and F# variables are available in the <code>@Model</code> property.</p>\n",
       "</details>"
      ]
     },
     "metadata": {},
     "output_type": "display_data"
    }
   ],
   "source": [
    "// load packages - your local nuget folder may vary\n",
    "#i \"file:///n:/nix-nuget/\"\n",
    "#r \"nuget:nix-library-raw\"  \n",
    "#r \"nuget: Microsoft.Data.SqlClient, 5.1.5\"\n",
    "// you may want the razor clinteractive support too!\n",
    "#r \"nuget: RazorInteractive\""
   ]
  },
  {
   "cell_type": "code",
   "execution_count": 2,
   "metadata": {
    "dotnet_interactive": {
     "language": "csharp"
    },
    "polyglot_notebook": {
     "kernelName": "csharp"
    }
   },
   "outputs": [],
   "source": [
    "using Nix.Library.Raw;\n",
    "string connectionString = System.Environment.GetEnvironmentVariable(\"Nix_DB_DG\");\n",
    "JsonSqlClient _sql = new JsonSqlClient(connectionString);"
   ]
  },
  {
   "cell_type": "code",
   "execution_count": 3,
   "metadata": {
    "dotnet_interactive": {
     "language": "csharp"
    },
    "polyglot_notebook": {
     "kernelName": "csharp"
    }
   },
   "outputs": [
    {
     "data": {
      "text/html": [
       "<div class=\"dni-plaintext\"><pre>[ [{&quot;Id&quot;:&quot;7&quot;, &quot;Name&quot;:&quot;Custom&quot;, &quot;StoredProcedureName&quot;:&quot;client.ReportGeneration_Degreed&quot;, &quot;Category&quot;:&quot;Scheduled&quot;, &quot;OrganizationId&quot;:&quot;1&quot;, &quot;Version&quot;:&quot;&quot;, &quot;IsStandard&quot;:&quot;False&quot;},{&quot;Id&quot;:&quot;47&quot;, &quot;Name&quot;:&quot;Skill Report&quot;, &quot;StoredProcedureName&quot;:&quot;rpt.ReportGeneration_Standard_SkillPlans_2020Q01&quot;, &quot;Category&quot;:&quot;Scheduled&quot;, &quot;OrganizationId&quot;:&quot;&quot;, &quot;Version&quot;:&quot;2020 Q1&quot;, &quot;IsStandard&quot;:&quot;True&quot;},{&quot;Id&quot;:&quot;50&quot;, &quot;Name&quot;:&quot;Standard Report&quot;, &quot;StoredProcedureName&quot;:&quot;rpt.ReportGeneration_Standard_EmployeeId_2020Q02&quot;, &quot;Category&quot;:&quot;Scheduled&quot;, &quot;OrganizationId&quot;:&quot;&quot;, &quot;Version&quot;:&quot;2020 Q2&quot;, &quot;IsStandard&quot;:&quot;True&quot;},{&quot;Id&quot;:&quot;54&quot;, &quot;Name&quot;:&quot;Skill Analytics Skill Report&quot;, &quot;StoredProcedureName&quot;:&quot;rpt.ReportGeneration_SkillAnalyticsSkillReport_2020Q3&quot;, &quot;Category&quot;:&quot;Scheduled&quot;, &quot;OrganizationId&quot;:&quot;&quot;, &quot;Version&quot;:&quot;2020 Q3&quot;, &quot;IsStandard&quot;:&quot;True&quot;},{&quot;Id&quot;:&quot;61&quot;, &quot;Name&quot;:&quot;MockedData&quot;, &quot;StoredProcedureName&quot;:&quot;MockedData&quot;, &quot;Category&quot;:&quot;MockedData&quot;, &quot;OrganizationId&quot;:&quot;1&quot;, &quot;Version&quot;:&quot;&quot;, &quot;IsStandard&quot;:&quot;False&quot;},{&quot;Id&quot;:&quot;1&quot;, &quot;Name&quot;:&quot;Finra Data&quot;, &quot;StoredProcedureName&quot;:&quot;FinraData&quot;, &quot;Category&quot;:&quot;ScheduledES&quot;, &quot;OrganizationId&quot;:&quot;&quot;, &quot;Version&quot;:&quot;&quot;, &quot;IsStandard&quot;:&quot;True&quot;},{&quot;Id&quot;:&quot;51&quot;, &quot;Name&quot;:&quot;Career Mobility Report&quot;, &quot;StoredProcedureName&quot;:&quot;rpt.ReportGeneration_Standard_Opportunities_2020Q02&quot;, &quot;Category&quot;:&quot;Scheduled&quot;, &quot;OrganizationId&quot;:&quot;&quot;, &quot;Version&quot;:&quot;2020 Q2&quot;, &quot;IsStandard&quot;:&quot;True&quot;}] ]</pre></div><style>\r\n",
       ".dni-code-hint {\r\n",
       "    font-style: italic;\r\n",
       "    overflow: hidden;\r\n",
       "    white-space: nowrap;\r\n",
       "}\r\n",
       ".dni-treeview {\r\n",
       "    white-space: nowrap;\r\n",
       "}\r\n",
       ".dni-treeview td {\r\n",
       "    vertical-align: top;\r\n",
       "    text-align: start;\r\n",
       "}\r\n",
       "details.dni-treeview {\r\n",
       "    padding-left: 1em;\r\n",
       "}\r\n",
       "table td {\r\n",
       "    text-align: start;\r\n",
       "}\r\n",
       "table tr { \r\n",
       "    vertical-align: top; \r\n",
       "    margin: 0em 0px;\r\n",
       "}\r\n",
       "table tr td pre \r\n",
       "{ \r\n",
       "    vertical-align: top !important; \r\n",
       "    margin: 0em 0px !important;\r\n",
       "} \r\n",
       "table th {\r\n",
       "    text-align: start;\r\n",
       "}\r\n",
       "</style>"
      ]
     },
     "metadata": {},
     "output_type": "display_data"
    },
    {
     "data": {
      "text/plain": [
       "[{\"Logins\":\"497\"}]"
      ]
     },
     "metadata": {},
     "output_type": "display_data"
    },
    {
     "data": {
      "text/plain": [
       "[\r\n",
       "  {\r\n",
       "    \"Logins\": \"497\"\r\n",
       "  }\r\n",
       "]"
      ]
     },
     "metadata": {},
     "output_type": "display_data"
    },
    {
     "data": {
      "text/plain": [
       "[{\"Views\":\"12684\"}]"
      ]
     },
     "metadata": {},
     "output_type": "display_data"
    },
    {
     "data": {
      "text/plain": [
       "[\r\n",
       "  {\r\n",
       "    \"Views\": \"12684\"\r\n",
       "  }\r\n",
       "]"
      ]
     },
     "metadata": {},
     "output_type": "display_data"
    },
    {
     "data": {
      "text/plain": [
       "[{\"Recommendations\":\"5605\"}]"
      ]
     },
     "metadata": {},
     "output_type": "display_data"
    },
    {
     "data": {
      "text/plain": [
       "[\r\n",
       "  {\r\n",
       "    \"Recommendations\": \"5605\"\r\n",
       "  }\r\n",
       "]"
      ]
     },
     "metadata": {},
     "output_type": "display_data"
    },
    {
     "data": {
      "text/html": [
       "<table><thead><tr><th><i>index</i></th><th>value</th></tr></thead><tbody><tr><td>0</td><td><div class=\"dni-plaintext\"><pre>[ Logins ]</pre></div></td></tr><tr><td>1</td><td><div class=\"dni-plaintext\"><pre>[ 497 ]</pre></div></td></tr><tr><td>2</td><td><div class=\"dni-plaintext\"><pre>[ Views ]</pre></div></td></tr><tr><td>3</td><td><div class=\"dni-plaintext\"><pre>[ 12684 ]</pre></div></td></tr><tr><td>4</td><td><div class=\"dni-plaintext\"><pre>[ Recommendations ]</pre></div></td></tr><tr><td>5</td><td><div class=\"dni-plaintext\"><pre>[ 5605 ]</pre></div></td></tr></tbody></table><style>\r\n",
       ".dni-code-hint {\r\n",
       "    font-style: italic;\r\n",
       "    overflow: hidden;\r\n",
       "    white-space: nowrap;\r\n",
       "}\r\n",
       ".dni-treeview {\r\n",
       "    white-space: nowrap;\r\n",
       "}\r\n",
       ".dni-treeview td {\r\n",
       "    vertical-align: top;\r\n",
       "    text-align: start;\r\n",
       "}\r\n",
       "details.dni-treeview {\r\n",
       "    padding-left: 1em;\r\n",
       "}\r\n",
       "table td {\r\n",
       "    text-align: start;\r\n",
       "}\r\n",
       "table tr { \r\n",
       "    vertical-align: top; \r\n",
       "    margin: 0em 0px;\r\n",
       "}\r\n",
       "table tr td pre \r\n",
       "{ \r\n",
       "    vertical-align: top !important; \r\n",
       "    margin: 0em 0px !important;\r\n",
       "} \r\n",
       "table th {\r\n",
       "    text-align: start;\r\n",
       "}\r\n",
       "</style>"
      ]
     },
     "metadata": {},
     "output_type": "display_data"
    }
   ],
   "source": [
    "// samples using stored procedures\n",
    "var x = _sql.JsonUsingStoredProcedure(\"[rpt].[ReportMethods_SelectByOrganization]\", (\"@OrganizationId\", 1));\n",
    "x.ToArray().Display();\n",
    "var y = _sql.JsonUsingStoredProcedure(\"[rpt].[InsightKPIs]\", (\"@StartDate\", \"2022-02-22\"), (\"@EndDate\", \"2024-02-26\"), (\"@OrganizationId\", 1));\n",
    "foreach (var yy in y)\n",
    "{\n",
    "    yy.Display();\n",
    "    Nest.Prettify(yy).Display();\n",
    "}  \n",
    "// a non-json instance...\n",
    "var z = _sql.StringsUsingStoredProcedure(\"[rpt].[InsightKPIs]\", true, (\"@StartDate\", \"2022-02-22\"), (\"@EndDate\", \"2024-02-26\"), (\"@OrganizationId\", 1));\n",
    "z.ToArray().Display();\n",
    "\n"
   ]
  },
  {
   "cell_type": "code",
   "execution_count": 4,
   "metadata": {
    "dotnet_interactive": {
     "language": "csharp"
    },
    "polyglot_notebook": {
     "kernelName": "csharp"
    }
   },
   "outputs": [],
   "source": [
    "_sql.Dispose();"
   ]
  },
  {
   "cell_type": "markdown",
   "metadata": {},
   "source": [
    "# Build a display: \n",
    "\n",
    "We can prepare all the pieces we need using C#, these will be available to the in-line Razor page in the @Model.\n",
    "\n",
    "An alternative is to write the html to a file and use ps to launch it in the browser."
   ]
  },
  {
   "cell_type": "code",
   "execution_count": 5,
   "metadata": {
    "dotnet_interactive": {
     "language": "csharp"
    },
    "polyglot_notebook": {
     "kernelName": "csharp"
    }
   },
   "outputs": [],
   "source": [
    "#!csharp\n",
    "var output = new List<string>();\n",
    "// this actually only needs to happen once...\n",
    "Nest.ToFile(Nest.GetCss(new Nest.NestOptions { MaximumPixelWidth = 500, DarkMode=false}), \"../.data/local-test.css\");\n",
    "output.Add(Nest.RenderHtmlScrolling(x[0])); // because we know there is only one result set.\n",
    "// multiple result sets:\n",
    "foreach (var dd in y)\n",
    "{\n",
    "    output.Add(Nest.RenderHtmlScrolling(dd));\n",
    "}\n"
   ]
  },
  {
   "cell_type": "code",
   "execution_count": 6,
   "metadata": {
    "dotnet_interactive": {
     "language": "csharp"
    },
    "polyglot_notebook": {
     "kernelName": "csharp"
    }
   },
   "outputs": [
    {
     "data": {
      "text/html": [
       "<div id=\"razorExtension17b589c4213245e4b3be714e9bdaf5c3\"><html>\n",
       "  <head>\n",
       "    <link rel=\"stylesheet\" href=\"./local-test.css\">\n",
       "  </head>\n",
       "  <body>\n",
       "<table id=\"Nest-1\" class=\"outer containerx\"><thead><tr class=\"trx\"><th class=\"lh edge\" onclick=\"showNextColumn('Nest-1')\" >Nest</th>\r\n",
       "<th class=\"th\">1/7</th><th class=\"th\">2/7</th><th class=\"th\">3/7</th><th class=\"th\">4/7</th><th class=\"th\">5/7</th><th class=\"th\">6/7</th><th class=\"th\">7/7</th></tr></thead><tbody><tr class=\"trx\"><td class=\"lh\" onclick=\"showNextColumn('Nest-1')\">Id</td><td class=\"lj\">7</td><td class=\"lj\">47</td><td class=\"lj\">50</td><td class=\"lj\">54</td><td class=\"lj\">61</td><td class=\"lj\">1</td><td class=\"lj\">51</td></tr><tr class=\"trx\"><td class=\"lh\" onclick=\"showNextColumn('Nest-1')\">Name</td><td class=\"lj\">Custom</td><td class=\"lj\">Skill Report</td><td class=\"lj\">Standard Report</td><td class=\"lj\">Skill Analytics Skill Report</td><td class=\"lj\">MockedData</td><td class=\"lj\">Finra Data</td><td class=\"lj\">Career Mobility Report</td></tr><tr class=\"trx\"><td class=\"lh\" onclick=\"showNextColumn('Nest-1')\">StoredProcedureName</td><td class=\"lj\">client.ReportGeneration_Degreed</td><td class=\"lj\">rpt.ReportGeneration_Standard_SkillPlans_2020Q01</td><td class=\"lj\">rpt.ReportGeneration_Standard_EmployeeId_2020Q02</td><td class=\"lj\">rpt.ReportGeneration_SkillAnalyticsSkillReport_2020Q3</td><td class=\"lj\">MockedData</td><td class=\"lj\">FinraData</td><td class=\"lj\">rpt.ReportGeneration_Standard_Opportunities_2020Q02</td></tr><tr class=\"trx\"><td class=\"lh\" onclick=\"showNextColumn('Nest-1')\">Category</td><td class=\"lj\">Scheduled</td><td class=\"lj\">Scheduled</td><td class=\"lj\">Scheduled</td><td class=\"lj\">Scheduled</td><td class=\"lj\">MockedData</td><td class=\"lj\">ScheduledES</td><td class=\"lj\">Scheduled</td></tr><tr class=\"trx\"><td class=\"lh\" onclick=\"showNextColumn('Nest-1')\">OrganizationId</td><td class=\"lj\">1</td><td class=\"lj\"></td><td class=\"lj\"></td><td class=\"lj\"></td><td class=\"lj\">1</td><td class=\"lj\"></td><td class=\"lj\"></td></tr><tr class=\"trx\"><td class=\"lh\" onclick=\"showNextColumn('Nest-1')\">Version</td><td class=\"lj\"></td><td class=\"lj\">2020 Q1</td><td class=\"lj\">2020 Q2</td><td class=\"lj\">2020 Q3</td><td class=\"lj\"></td><td class=\"lj\"></td><td class=\"lj\">2020 Q2</td></tr><tr class=\"trx\"><td class=\"lh\" onclick=\"showNextColumn('Nest-1')\">IsStandard</td><td class=\"lj\">False</td><td class=\"lj\">True</td><td class=\"lj\">True</td><td class=\"lj\">True</td><td class=\"lj\">False</td><td class=\"lj\">True</td><td class=\"lj\">True</td></tr></tbody></table>        <hr>\n",
       "<table id=\"Nest-1\" class=\"outer containerx\"><thead><tr class=\"trx\"><th class=\"lh edge\">Nest</th>\r\n",
       "<th class=\"th\">1/1</th></tr></thead><tbody><tr class=\"trx\"><td class=\"lh\">Logins</td><td class=\"lj\">497</td></tr></tbody></table>        <hr>\n",
       "<table id=\"Nest-1\" class=\"outer containerx\"><thead><tr class=\"trx\"><th class=\"lh edge\">Nest</th>\r\n",
       "<th class=\"th\">1/1</th></tr></thead><tbody><tr class=\"trx\"><td class=\"lh\">Views</td><td class=\"lj\">12684</td></tr></tbody></table>        <hr>\n",
       "<table id=\"Nest-1\" class=\"outer containerx\"><thead><tr class=\"trx\"><th class=\"lh edge\">Nest</th>\r\n",
       "<th class=\"th\">1/1</th></tr></thead><tbody><tr class=\"trx\"><td class=\"lh\">Recommendations</td><td class=\"lj\">5605</td></tr></tbody></table>        <hr>\n",
       "      Done\n",
       "      <hr>\n",
       "  </body>\n",
       "</html>\n",
       "\n",
       "\n",
       "</div>"
      ]
     },
     "metadata": {},
     "output_type": "display_data"
    }
   ],
   "source": [
    "\n",
    "#!razor\n",
    "<html>\n",
    "  <head>\n",
    "    <link rel=\"stylesheet\" href=\"./local-test.css\">\n",
    "  </head>\n",
    "  <body>\n",
    "      @foreach(var xx in @Model.output)\n",
    "      {\n",
    "        @Raw(xx)\n",
    "        <hr>\n",
    "      }\n",
    "      Done\n",
    "      <hr>\n",
    "  </body>\n",
    "</html>\n",
    "\n",
    "\n"
   ]
  }
 ],
 "metadata": {
  "kernelspec": {
   "display_name": ".NET (C#)",
   "language": "C#",
   "name": ".net-csharp"
  },
  "language_info": {
   "name": "polyglot-notebook"
  },
  "polyglot_notebook": {
   "kernelInfo": {
    "defaultKernelName": "csharp",
    "items": [
     {
      "aliases": [],
      "name": "csharp"
     },
     {
      "aliases": [],
      "name": "razor"
     }
    ]
   }
  }
 },
 "nbformat": 4,
 "nbformat_minor": 2
}
