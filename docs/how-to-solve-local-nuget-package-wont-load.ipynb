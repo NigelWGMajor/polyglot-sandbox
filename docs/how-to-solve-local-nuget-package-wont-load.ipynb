{
 "cells": [
  {
   "cell_type": "markdown",
   "metadata": {},
   "source": [
    "## Fixing broken local packages\n",
    "\n",
    "When packages that were working no longer load, that's a deep rabbit hole.\n",
    "There is however a simple fix.\n",
    "\n",
    "### Symptoms:\n",
    "\n",
    "- using library from local nuget store\n",
    "- an interim build of the library had some issues\n",
    "- Now the unchanged polyglot notebooks are unable to load the library\n",
    "- Even supplying a specific version number fails\n"
   ]
  },
  {
   "cell_type": "markdown",
   "metadata": {},
   "source": [
    "```cs\n",
    "// Example:\n",
    "\n",
    "#i \"file:///n:/nix-nuget\"\n",
    "#r \"nuget: nix-library-raw\"\n",
    "```"
   ]
  },
  {
   "cell_type": "markdown",
   "metadata": {},
   "source": [
    "The underlying cause seemed to be that the interim version is cached somewhere and is being optimistically loading, then either it or one of its dependencies has an issue.\n",
    "\n",
    "💡the solution was to clear the nuget cache in Visual Studio, which erased the cached files from <user>/AppData/Local/nuget/v3cache\n"
   ]
  }
 ],
 "metadata": {
  "language_info": {
   "name": "python"
  }
 },
 "nbformat": 4,
 "nbformat_minor": 2
}
