{
 "cells": [
  {
   "cell_type": "markdown",
   "metadata": {},
   "source": [
    "### **_This was updated on 3/29/24 to use nix-library-raw, 1.1.4_**\n",
    "the library is being split into 3 component libraries for future use."
   ]
  },
  {
   "cell_type": "markdown",
   "metadata": {},
   "source": [
    "#### tl;dr\n",
    "\n",
    "A simple test of a library providing json->html data viewing, with browser or inline Razor page, using mocked data.\n",
    "\n",
    "Solves: effective storage and viewing of divergent (1:n) data sets."
   ]
  },
  {
   "cell_type": "markdown",
   "metadata": {},
   "source": [
    "# Json support (Nix-Library-Raw)\n",
    "\n",
    "This set of code was used to develop a support library to simplify data exploration.\n",
    "\n",
    "It focuses on **json** data, specifically json Arrays or Objects such as would be expected from a database query using `for json path`. It wraps the conversion of the json string to an html string suitable for presentation.\n",
    "\n",
    "Because in discovery we are frequently trying to understand relationships and cardinality, it is not usually necessary to retrieve vast quantities of data, rather this allows the display of \"several\" samples. Nested relationships are enclosed and can be limited to arbitrarily small samples.\n",
    "\n",
    "A css style sheet provides the underlying styling: this can be altered for different purposes.\n",
    "Some variables are used, which also allows their modification through Javascript.\n"
   ]
  },
  {
   "cell_type": "markdown",
   "metadata": {},
   "source": [
    "## Summary of library functionality\n",
    "\n",
    "The code is dependent on System.Text.Json (which replaces the older Newtonsoft.Json)\n",
    "\n",
    "Functionality is wrapped mainly in the `Nest` class. This is a simple class with a `Name`, `Value`, `Nesting` and Children which ate themselves `Nest`s.\n",
    "\n",
    "### Constructors\n",
    "\n",
    "For general use, the Nest class is not needed, the static methods handle this for you. However if you need to use your own hierarchical structure, have at it:\n",
    "\n",
    "`Nest(string Name, string json)` Creates a Nest from a json string representing an array or object.\n",
    "`Nest(string Name, JsonNode node, int depth = 0)` Is used internally and recursively by the simpler constructor, but can be used to process a JsonObject directly.\n",
    "\n",
    "The `Nest` class is a simpler and more compact representation than a JsonObject, so can be used to digest and store hierarchial objects for multiple uses.\n",
    "\n",
    "For one-off rendering, the static methods below are more effective.\n",
    "\n",
    "### Class Methods\n",
    "\n",
    "- `string AsHtml(NestOptions options)` returns Html for displaying the object directly.\n",
    "- `IEnumerable<string>Elements()` returns an enumerable series of strings describing the structure of the data (typically for understanding structure).\n",
    "- `string AllElements(bool withLineBreaks = false)` returns all the elements with or without line feeds.\n",
    "\n",
    "### Static methods\n",
    "\n",
    "- `string Prettify(string json)` formats a json string as indented, fo human consumption.\n",
    "\n",
    "- `string RenderHtml(string json)` return html suitable for embedding in a page using external css.\n",
    "- `string RenderPage(string json, NestOptions options)` returns html with css suitable for display as a single page.\n",
    "\n",
    "- `string GetCss(NestOptions options)` returns the css code for the specified options.\n",
    "\n",
    "and for convenience:\n",
    "\n",
    "- `void ToFile(string data, string path)` pushes a string to a local file.\n",
    "- `string FromFile(string path)` reads a string from a local file.\n",
    "\n",
    "\n",
    "### Nest Options\n",
    "\n",
    "To fine-tune the behavior, it is possible to tweak several settings.- \n",
    "\n",
    "- `MaximumPixelWidth` sets the width of the enclosing container, to force horizontal scrolling, default 800.\n",
    "- `TitleColumnWidth` sets the width of the leading column used to label elements, default 120;\n",
    "- `SpecifyFont` defaults to true, which sets the font to consolas, monospace.\n",
    "- `SmallerTitles` defaults to true, which reduces the size of titles.\n",
    "- `ItalicTitles` defaults to true which makes titles italic.\n",
    "- `ItemLimit` limits the number of items shown in lists, default 10.\n",
    "- `DarkMode` uses a dark theme, which is the default.\n",
    "\n"
   ]
  },
  {
   "cell_type": "markdown",
   "metadata": {},
   "source": []
  },
  {
   "cell_type": "markdown",
   "metadata": {},
   "source": [
    "## How about a serious test?\n",
    "\n",
    "We will use Bogus to generate a slew of information, which we will reduce to json then use to test variations of options."
   ]
  },
  {
   "cell_type": "code",
   "execution_count": 1,
   "metadata": {
    "dotnet_interactive": {
     "language": "csharp"
    },
    "polyglot_notebook": {
     "kernelName": "csharp"
    }
   },
   "outputs": [
    {
     "data": {
      "text/html": [
       "<div><div><strong>Restore sources</strong><ul><li><span>file:///n:/nix-nuget/</span></li></ul></div><div></div><div><strong>Installed Packages</strong><ul><li><span>bogus, 35.5.0</span></li><li><span>nix-library-raw, 1.1.4</span></li><li><span>RazorInteractive, 1.2.0</span></li><li><span>System.Text.Json, 8.0.3</span></li></ul></div></div>"
      ]
     },
     "metadata": {},
     "output_type": "display_data"
    },
    {
     "data": {
      "text/plain": [
       "Loading extensions from `C:\\Users\\NickMajor\\.nuget\\packages\\razorinteractive\\1.2.0\\lib\\net8.0\\RazorInteractive.dll`"
      ]
     },
     "metadata": {},
     "output_type": "display_data"
    },
    {
     "data": {
      "text/html": [
       "<details>\n",
       "    <summary>Renders the code block as Razor markup in dotnet-interactive notebooks.</summary>\n",
       "    <p>This extension adds a new kernel that can render Razor markdown.</p>\n",
       "    <p>All C# and F# variables are available in the <code>@Model</code> property.</p>\n",
       "</details>"
      ]
     },
     "metadata": {},
     "output_type": "display_data"
    }
   ],
   "source": [
    "// load packages\n",
    "#i \"file:///n:/nix-nuget/\"\n",
    "// Library implementing the Nest class.\n",
    "#r \"nuget:nix-library-raw\"  \n",
    "// Used to generate random data for testing\n",
    "#r \"nuget:bogus\"            \n",
    "// Needed by the library and/or jsoin serialization\n",
    "#r \"nuget:System.Text.Json\" \n",
    "// This allows you to use Razor Pages directly (see later example)\n",
    "#r \"nuget:RazorInteractive\" "
   ]
  },
  {
   "cell_type": "code",
   "execution_count": 2,
   "metadata": {
    "dotnet_interactive": {
     "language": "csharp"
    },
    "polyglot_notebook": {
     "kernelName": "csharp"
    }
   },
   "outputs": [],
   "source": [
    "// make some bogus data\n",
    "// // This will make a string \"json\" that has a hierarchial object.\n",
    "using Bogus;\n",
    "// Some ranf-ges\n",
    "int lo = 15;\n",
    "int hi = 25;\n",
    "\n",
    "// Let's start with a hierarchial object with some nested arrays.\n",
    "public class DataSet\n",
    "{\n",
    "    public string Client { get; set; }\n",
    "    public int Size { get; set; }\n",
    "    public int LocationCount => Locations.Count(); \n",
    "    public IEnumerable<Location> Locations { get; set; } = new List<Location>();\n",
    "}\n",
    "public class Location\n",
    "{\n",
    "    public string LocationName { get; set; }\n",
    "    public IEnumerable<string> TelephoneNumbers { get; set; } = new List<string>();\n",
    "    public IEnumerable<string> AddressRows { get; set; } = new List<string>();\n",
    "        public int EmployeeCount => Employees.Count();\n",
    "        public IEnumerable<Employee> Employees { get; set; } = new List<Employee>();\n",
    "}\n",
    "public class Employee\n",
    "{\n",
    "    public int Id { get; set; }\n",
    "    public string Name { get; set; }\n",
    "    public string Title { get; set; }\n",
    "    public string Email { get; set; }\n",
    "    public string Telephone { get; set; }\n",
    "}\n",
    "\n",
    "var count = new Faker().Random.Number(lo, hi);\n",
    "int identity = 1000;\n",
    "var dataFaker = new Faker<DataSet>()\n",
    "    .RuleFor(d => d.Client, f => f.Company.CompanyName())\n",
    "    .RuleFor(d => d.Size, count)\n",
    "    .RuleFor(d => d.Locations, f => f.Make(count, () => new Location\n",
    "    {\n",
    "        LocationName = f.Address.City(),\n",
    "        TelephoneNumbers = f.Make(lo, () => f.Phone.PhoneNumber()),\n",
    "        AddressRows = f.Make(lo, () => f.Address.StreetAddress()),\n",
    "        Employees = f.Make(f.Random.Number(lo, hi), () => new Employee\n",
    "        {\n",
    "            Id = identity++,\n",
    "            Name = f.Name.FullName(),\n",
    "            Title = f.Name.JobTitle(),\n",
    "            Email = f.Internet.Email(),\n",
    "            Telephone = f.Phone.PhoneNumber()\n",
    "        })\n",
    "    }));\n",
    "\n",
    "    // we make some data...\n",
    "    var objectData = dataFaker.Generate();\n",
    "    var arrayData = objectData.Locations;\n",
    "    // convert the data to a displayable json string\n",
    "    var objectJson = System.Text.Json.JsonSerializer.Serialize(objectData);\n",
    "    var arrayJson = System.Text.Json.JsonSerializer.Serialize(arrayData);\n",
    "    \n",
    "   // Console.WriteLine(\"*** JSON OBJECT ***\");\n",
    "   // Nest.Prettify(objectJson).Display();\n",
    "   // Console.WriteLine(\"*** JSON ARRAY ***\");\n",
    "   // Nest.Prettify(arrayJson).Display();"
   ]
  },
  {
   "cell_type": "markdown",
   "metadata": {},
   "source": [
    "## Now the raw library has been added as a Nuget package.\n",
    "\n",
    "Let's test against that!\n"
   ]
  },
  {
   "cell_type": "markdown",
   "metadata": {},
   "source": []
  },
  {
   "cell_type": "code",
   "execution_count": 3,
   "metadata": {
    "dotnet_interactive": {
     "language": "csharp"
    },
    "polyglot_notebook": {
     "kernelName": "csharp"
    }
   },
   "outputs": [],
   "source": [
    "using Nix.Library.Raw;\n",
    "// some options:\n",
    "var options = new Nest.NestOptions() { DarkMode = true, MaximumListPixelWidth = 1000 };\n",
    "// generate a page to display the object:\n",
    "Nest.ToFile(Nest.RenderPageScrolling(objectJson, 5, \"A\", options) , \"./.html/Test-objectX.html\");\n",
    "// generate a page to generate the array:\n",
    "Nest.ToFile(Nest.RenderPageScrolling(arrayJson, 5, \"B\", options ) , \"./.html/Test-arrayX.html\");"
   ]
  },
  {
   "cell_type": "code",
   "execution_count": 4,
   "metadata": {
    "dotnet_interactive": {
     "language": "csharp"
    },
    "polyglot_notebook": {
     "kernelName": "csharp"
    }
   },
   "outputs": [],
   "source": [
    "#!pwsh\n",
    "# The two created html files can be launched in the browser dircetly in a powershell script:\n",
    "./.html/Test-objectX.html\n",
    "./.html/Test-arrayX.html"
   ]
  },
  {
   "cell_type": "code",
   "execution_count": 5,
   "metadata": {
    "dotnet_interactive": {
     "language": "csharp"
    },
    "polyglot_notebook": {
     "kernelName": "csharp"
    }
   },
   "outputs": [
    {
     "data": {
      "text/html": [
       "<div id=\"razorExtension67aadf8efe2c45eaa72b58c240d2da93\"><html>\r\n",
       "  <head>\r\n",
       "    <link rel=\"stylesheet\" href=\"./local-test.css\">\r\n",
       "  </head>\r\n",
       "  <body>\r\n",
       "    <h3>Object rendered raw in-line</h3>\r\n",
       "    <div class=\"containerx\"><table class=\"outer containerx\"><thead></thead><tbody><tr class=\"trx\"><td class=\"lh\">Client</td><td class=\"lj\">Lynch - Altenwerth</td></tr>\r\n",
       "<tr class=\"trx\"><td class=\"lh\">Size</td><td class=\"lj\">22</td></tr>\r\n",
       "<tr class=\"trx\"><td class=\"lh\">LocationCount</td><td class=\"lj\">22</td></tr>\r\n",
       "<table id=\"-1-4\" class=\"outer containerx\"><thead><tr class=\"trx\"><th class=\"lh edge\" onclick=\"showNextColumn('-1-4')\" >Locations</th>\r\n",
       "<th class=\"th\">1/5</th><th class=\"th\">2/5</th><th class=\"th\">3/5</th><th class=\"th\">4/5</th><th class=\"th\">5/5</th></tr></thead><tbody><tr class=\"trx\"><td class=\"lh\" onclick=\"showNextColumn('Locations-1-4-1-1')\">LocationName</td><td class=\"lj\">Champlinville</td><td class=\"lj\">New Bernadettemouth</td><td class=\"lj\">West Randallfort</td><td class=\"lj\">New Montetown</td><td class=\"lj\">New Macie</td></tr><tr class=\"trx\"><td class=\"lh\" onclick=\"showNextColumn('Locations-1-4-1-2')\">TelephoneNumbers</td><td class=\"lj\"><div class=\"narrow array\"><table class=\"tablex sub neg\"><tr class=\"trx tall\">\r\n",
       "<td class=\"lj item\">777.433.4105</td><td class=\"lj item\">362.291.0745</td><td class=\"lj item\">1-649-577-0681</td><td class=\"lj item\">233-651-0735</td><td class=\"lj item\">698-492-8776 x96552</td><td class=\"lj item\">320-691-2265</td><td class=\"lj item\">(744) 944-4122 x345</td><td class=\"lj item\">1-615-818-6954 x2101</td><td class=\"lj item\">1-405-466-8258 x8935</td><td class=\"lj item\">1-714-880-5597</td><td class=\"lj item\">(222) 862-3383 x37668</td><td class=\"lj item\">(620) 458-9058 x345</td><td class=\"lj item\">(492) 674-4980 x94724</td><td class=\"lj item\">644.314.7533 x444</td><td class=\"lj item\">1-315-792-0441 x838</td></tr></table></div></td><td class=\"lj\"><div class=\"narrow array\"><table class=\"tablex sub neg\"><tr class=\"trx tall\">\r\n",
       "<td class=\"lj item\">713-609-1221</td><td class=\"lj item\">843-530-0629 x0379</td><td class=\"lj item\">300.398.9856</td><td class=\"lj item\">(219) 799-6469 x4611</td><td class=\"lj item\">1-974-633-5886 x421</td><td class=\"lj item\">(592) 618-2647 x77463</td><td class=\"lj item\">1-356-297-7748 x1684</td><td class=\"lj item\">882-937-0290</td><td class=\"lj item\">719-711-7382 x8312</td><td class=\"lj item\">1-849-292-6738</td><td class=\"lj item\">1-947-500-5759 x46315</td><td class=\"lj item\">(711) 492-2868</td><td class=\"lj item\">1-587-631-3274 x2526</td><td class=\"lj item\">1-852-240-8205 x060</td><td class=\"lj item\">360.942.8199 x6677</td></tr></table></div></td><td class=\"lj\"><div class=\"narrow array\"><table class=\"tablex sub neg\"><tr class=\"trx tall\">\r\n",
       "<td class=\"lj item\">1-708-342-0933 x1129</td><td class=\"lj item\">(733) 724-6907</td><td class=\"lj item\">(756) 797-8144 x5264</td><td class=\"lj item\">(293) 674-3075 x9344</td><td class=\"lj item\">(941) 284-8291</td><td class=\"lj item\">1-937-674-1980 x970</td><td class=\"lj item\">(233) 692-4358</td><td class=\"lj item\">801.891.1711 x34294</td><td class=\"lj item\">(739) 448-0208 x05980</td><td class=\"lj item\">884.387.5957 x3988</td><td class=\"lj item\">548-913-7718 x3578</td><td class=\"lj item\">1-354-627-0149</td><td class=\"lj item\">1-542-648-5721 x5377</td><td class=\"lj item\">(201) 936-2365 x77371</td><td class=\"lj item\">1-374-685-4614 x16701</td></tr></table></div></td><td class=\"lj\"><div class=\"narrow array\"><table class=\"tablex sub neg\"><tr class=\"trx tall\">\r\n",
       "<td class=\"lj item\">698-559-4879 x8283</td><td class=\"lj item\">967-205-9369 x004</td><td class=\"lj item\">1-395-800-6227 x744</td><td class=\"lj item\">1-553-647-1085</td><td class=\"lj item\">1-252-875-4180</td><td class=\"lj item\">444-465-2649</td><td class=\"lj item\">460.587.8477 x9978</td><td class=\"lj item\">569-509-9121 x550</td><td class=\"lj item\">1-902-275-4877</td><td class=\"lj item\">590.426.5394</td><td class=\"lj item\">855.623.8442 x9674</td><td class=\"lj item\">418-752-4179</td><td class=\"lj item\">731-384-7323</td><td class=\"lj item\">1-529-562-1049</td><td class=\"lj item\">642-513-0877 x059</td></tr></table></div></td><td class=\"lj\"><div class=\"narrow array\"><table class=\"tablex sub neg\"><tr class=\"trx tall\">\r\n",
       "<td class=\"lj item\">435-518-6993 x89438</td><td class=\"lj item\">517.406.0291</td><td class=\"lj item\">(830) 860-6287</td><td class=\"lj item\">1-818-446-4359 x806</td><td class=\"lj item\">877-803-8196 x5196</td><td class=\"lj item\">1-626-689-9003</td><td class=\"lj item\">846.562.4103 x4837</td><td class=\"lj item\">(649) 936-7985 x394</td><td class=\"lj item\">788.425.1848 x875</td><td class=\"lj item\">(339) 979-0978 x39622</td><td class=\"lj item\">320-605-3408</td><td class=\"lj item\">961-745-2612 x2230</td><td class=\"lj item\">1-617-533-4224 x1796</td><td class=\"lj item\">1-597-276-6848</td><td class=\"lj item\">(459) 210-4668 x92076</td></tr></table></div></td></tr><tr class=\"trx\"><td class=\"lh\" onclick=\"showNextColumn('Locations-1-4-1-3')\">AddressRows</td><td class=\"lj\"><div class=\"narrow array\"><table class=\"tablex sub neg\"><tr class=\"trx tall\">\r\n",
       "<td class=\"lj item\">93902 Nikolaus Shoals</td><td class=\"lj item\">5938 Adela Causeway</td><td class=\"lj item\">006 Boris Circles</td><td class=\"lj item\">360 Fay Plains</td><td class=\"lj item\">9276 Kameron Causeway</td><td class=\"lj item\">3346 McLaughlin Center</td><td class=\"lj item\">5555 Karolann Plaza</td><td class=\"lj item\">5766 Daugherty Dam</td><td class=\"lj item\">557 Emard Estate</td><td class=\"lj item\">24159 Schowalter Forges</td><td class=\"lj item\">4564 Haleigh Port</td><td class=\"lj item\">099 Dee Landing</td><td class=\"lj item\">423 Gregoria Pike</td><td class=\"lj item\">539 Keeling Junction</td><td class=\"lj item\">69767 Fritsch Crossing</td></tr></table></div></td><td class=\"lj\"><div class=\"narrow array\"><table class=\"tablex sub neg\"><tr class=\"trx tall\">\r\n",
       "<td class=\"lj item\">714 Murray Square</td><td class=\"lj item\">99869 Hintz Street</td><td class=\"lj item\">9807 Kuhic Mission</td><td class=\"lj item\">67939 Palma Estates</td><td class=\"lj item\">61475 Einar Drives</td><td class=\"lj item\">838 Becker Pines</td><td class=\"lj item\">7798 Klocko Drive</td><td class=\"lj item\">463 Bahringer Station</td><td class=\"lj item\">9915 Abshire Terrace</td><td class=\"lj item\">403 Albertha Station</td><td class=\"lj item\">4790 Daren Spurs</td><td class=\"lj item\">970 Predovic Brooks</td><td class=\"lj item\">35111 D'Amore Tunnel</td><td class=\"lj item\">5643 Hahn Brooks</td><td class=\"lj item\">21744 Schinner Rapid</td></tr></table></div></td><td class=\"lj\"><div class=\"narrow array\"><table class=\"tablex sub neg\"><tr class=\"trx tall\">\r\n",
       "<td class=\"lj item\">682 Johnston Mission</td><td class=\"lj item\">7305 Alberto Ports</td><td class=\"lj item\">62605 Gracie Gateway</td><td class=\"lj item\">31029 Olin Burgs</td><td class=\"lj item\">85259 Jaron Fall</td><td class=\"lj item\">41437 Gerson Spring</td><td class=\"lj item\">8899 Nitzsche Ways</td><td class=\"lj item\">7457 Grimes Summit</td><td class=\"lj item\">8847 Flatley Lodge</td><td class=\"lj item\">994 Leda Course</td><td class=\"lj item\">0920 Jonathan Roads</td><td class=\"lj item\">5958 McGlynn Parkway</td><td class=\"lj item\">655 Colleen Brook</td><td class=\"lj item\">3568 Lehner Glens</td><td class=\"lj item\">5804 Stamm Avenue</td></tr></table></div></td><td class=\"lj\"><div class=\"narrow array\"><table class=\"tablex sub neg\"><tr class=\"trx tall\">\r\n",
       "<td class=\"lj item\">032 Rutherford Ford</td><td class=\"lj item\">45815 Amalia Hills</td><td class=\"lj item\">71657 Erdman Glen</td><td class=\"lj item\">982 Ruthie Falls</td><td class=\"lj item\">548 Ebert Crest</td><td class=\"lj item\">500 Monty Plains</td><td class=\"lj item\">6699 Leffler Mews</td><td class=\"lj item\">469 Casper Radial</td><td class=\"lj item\">072 Faustino Extensions</td><td class=\"lj item\">46383 Hermiston Manors</td><td class=\"lj item\">042 Balistreri Fall</td><td class=\"lj item\">2148 Hansen Square</td><td class=\"lj item\">3071 Torp Drive</td><td class=\"lj item\">43812 Newell Field</td><td class=\"lj item\">7309 Grant Rapid</td></tr></table></div></td><td class=\"lj\"><div class=\"narrow array\"><table class=\"tablex sub neg\"><tr class=\"trx tall\">\r\n",
       "<td class=\"lj item\">62009 Major Terrace</td><td class=\"lj item\">06041 Emmerich Cape</td><td class=\"lj item\">28062 Raynor Cape</td><td class=\"lj item\">485 Williamson Ridges</td><td class=\"lj item\">33366 Rippin Trafficway</td><td class=\"lj item\">83539 Caleb Stream</td><td class=\"lj item\">7965 Pollich Spurs</td><td class=\"lj item\">371 Ashton Square</td><td class=\"lj item\">2248 Aimee Tunnel</td><td class=\"lj item\">079 Zemlak Circles</td><td class=\"lj item\">706 Mikayla Plains</td><td class=\"lj item\">606 Lyla Track</td><td class=\"lj item\">73689 Laron Orchard</td><td class=\"lj item\">84201 Shayne Summit</td><td class=\"lj item\">4874 Cartwright Union</td></tr></table></div></td></tr><tr class=\"trx\"><td class=\"lh\" onclick=\"showNextColumn('Locations-1-4-1-4')\">EmployeeCount</td><td class=\"lj\">22</td><td class=\"lj\">18</td><td class=\"lj\">21</td><td class=\"lj\">16</td><td class=\"lj\">16</td></tr><tr class=\"trx\"><td class=\"lh\" onclick=\"showNextColumn('Locations-1-4-1-5')\">Employees</td><td class=\"lj\"><table id=\"Locations-1-4-1-5\" class=\"outer containerx\"><thead><tr class=\"trx\"><th class=\"lh edge\" onclick=\"showNextColumn('Locations-1-4-1-5')\" >Employees</th>\r\n",
       "<th class=\"th\">1/5</th><th class=\"th\">2/5</th><th class=\"th\">3/5</th><th class=\"th\">4/5</th><th class=\"th\">5/5</th></tr></thead><tbody><tr class=\"trx\"><td class=\"lh\" onclick=\"showNextColumn('Employees-1-4-1-5-1-1')\">Id</td><td class=\"lj\">1000</td><td class=\"lj\">1001</td><td class=\"lj\">1002</td><td class=\"lj\">1003</td><td class=\"lj\">1004</td></tr><tr class=\"trx\"><td class=\"lh\" onclick=\"showNextColumn('Employees-1-4-1-5-1-2')\">Name</td><td class=\"lj\">Randal Reynolds</td><td class=\"lj\">Torey Thompson</td><td class=\"lj\">Rae Nicolas</td><td class=\"lj\">Amos Flatley</td><td class=\"lj\">Constance Price</td></tr><tr class=\"trx\"><td class=\"lh\" onclick=\"showNextColumn('Employees-1-4-1-5-1-3')\">Title</td><td class=\"lj\">National Infrastructure Architect</td><td class=\"lj\">Customer Implementation Liaison</td><td class=\"lj\">Future Division Administrator</td><td class=\"lj\">Lead Configuration Administrator</td><td class=\"lj\">Chief Functionality Analyst</td></tr><tr class=\"trx\"><td class=\"lh\" onclick=\"showNextColumn('Employees-1-4-1-5-1-4')\">Email</td><td class=\"lj\">Elna.Schmidt@hotmail.com</td><td class=\"lj\">Kristoffer_Prosacco@hotmail.com</td><td class=\"lj\">Ernestine_Runolfsdottir58@gmail.com</td><td class=\"lj\">Coralie.Sipes@yahoo.com</td><td class=\"lj\">Aryanna15@hotmail.com</td></tr><tr class=\"trx\"><td class=\"lh\" onclick=\"showNextColumn('Employees-1-4-1-5-1-5')\">Telephone</td><td class=\"lj\">1-986-593-4596 x6178</td><td class=\"lj\">(450) 225-2563</td><td class=\"lj\">509-750-8320</td><td class=\"lj\">338.694.1351</td><td class=\"lj\">696-782-5861 x5483</td></tr></tbody></table></td><td class=\"lj\"><table id=\"Locations-1-4-2-5\" class=\"outer containerx\"><thead><tr class=\"trx\"><th class=\"lh edge\" onclick=\"showNextColumn('Locations-1-4-2-5')\" >Employees</th>\r\n",
       "<th class=\"th\">1/5</th><th class=\"th\">2/5</th><th class=\"th\">3/5</th><th class=\"th\">4/5</th><th class=\"th\">5/5</th></tr></thead><tbody><tr class=\"trx\"><td class=\"lh\" onclick=\"showNextColumn('Employees-1-4-2-5-1-1')\">Id</td><td class=\"lj\">1022</td><td class=\"lj\">1023</td><td class=\"lj\">1024</td><td class=\"lj\">1025</td><td class=\"lj\">1026</td></tr><tr class=\"trx\"><td class=\"lh\" onclick=\"showNextColumn('Employees-1-4-2-5-1-2')\">Name</td><td class=\"lj\">Maximillia Kuhlman</td><td class=\"lj\">Reyes Runolfsdottir</td><td class=\"lj\">Evan Ryan</td><td class=\"lj\">Maxie Spencer</td><td class=\"lj\">Cheyenne Abernathy</td></tr><tr class=\"trx\"><td class=\"lh\" onclick=\"showNextColumn('Employees-1-4-2-5-1-3')\">Title</td><td class=\"lj\">Direct Optimization Architect</td><td class=\"lj\">Future Brand Liaison</td><td class=\"lj\">Forward Applications Strategist</td><td class=\"lj\">Investor Security Assistant</td><td class=\"lj\">Internal Response Engineer</td></tr><tr class=\"trx\"><td class=\"lh\" onclick=\"showNextColumn('Employees-1-4-2-5-1-4')\">Email</td><td class=\"lj\">Flo.Wisozk44@gmail.com</td><td class=\"lj\">Jazmyn_Zboncak27@hotmail.com</td><td class=\"lj\">Eliane.Crona@yahoo.com</td><td class=\"lj\">Lee.Fadel60@hotmail.com</td><td class=\"lj\">Raymundo41@hotmail.com</td></tr><tr class=\"trx\"><td class=\"lh\" onclick=\"showNextColumn('Employees-1-4-2-5-1-5')\">Telephone</td><td class=\"lj\">1-452-988-4712</td><td class=\"lj\">1-239-986-1927 x911</td><td class=\"lj\">1-430-858-6195</td><td class=\"lj\">287-725-0774</td><td class=\"lj\">277.480.8246 x58940</td></tr></tbody></table></td><td class=\"lj\"><table id=\"Locations-1-4-3-5\" class=\"outer containerx\"><thead><tr class=\"trx\"><th class=\"lh edge\" onclick=\"showNextColumn('Locations-1-4-3-5')\" >Employees</th>\r\n",
       "<th class=\"th\">1/5</th><th class=\"th\">2/5</th><th class=\"th\">3/5</th><th class=\"th\">4/5</th><th class=\"th\">5/5</th></tr></thead><tbody><tr class=\"trx\"><td class=\"lh\" onclick=\"showNextColumn('Employees-1-4-3-5-1-1')\">Id</td><td class=\"lj\">1040</td><td class=\"lj\">1041</td><td class=\"lj\">1042</td><td class=\"lj\">1043</td><td class=\"lj\">1044</td></tr><tr class=\"trx\"><td class=\"lh\" onclick=\"showNextColumn('Employees-1-4-3-5-1-2')\">Name</td><td class=\"lj\">Curtis O'Kon</td><td class=\"lj\">Enid McCullough</td><td class=\"lj\">Ayana Kilback</td><td class=\"lj\">Baby Buckridge</td><td class=\"lj\">Neil Schaefer</td></tr><tr class=\"trx\"><td class=\"lh\" onclick=\"showNextColumn('Employees-1-4-3-5-1-3')\">Title</td><td class=\"lj\">Senior Interactions Supervisor</td><td class=\"lj\">Lead Functionality Facilitator</td><td class=\"lj\">Dynamic Web Supervisor</td><td class=\"lj\">Customer Brand Developer</td><td class=\"lj\">Forward Infrastructure Planner</td></tr><tr class=\"trx\"><td class=\"lh\" onclick=\"showNextColumn('Employees-1-4-3-5-1-4')\">Email</td><td class=\"lj\">Erin.Emmerich@yahoo.com</td><td class=\"lj\">Mortimer12@gmail.com</td><td class=\"lj\">Evie5@yahoo.com</td><td class=\"lj\">Rahsaan_Cormier66@hotmail.com</td><td class=\"lj\">Aric.Pouros@yahoo.com</td></tr><tr class=\"trx\"><td class=\"lh\" onclick=\"showNextColumn('Employees-1-4-3-5-1-5')\">Telephone</td><td class=\"lj\">1-439-984-2725 x637</td><td class=\"lj\">259.821.9595</td><td class=\"lj\">1-920-723-4297 x2936</td><td class=\"lj\">(836) 680-5680</td><td class=\"lj\">1-437-385-5419 x571</td></tr></tbody></table></td><td class=\"lj\"><table id=\"Locations-1-4-4-5\" class=\"outer containerx\"><thead><tr class=\"trx\"><th class=\"lh edge\" onclick=\"showNextColumn('Locations-1-4-4-5')\" >Employees</th>\r\n",
       "<th class=\"th\">1/5</th><th class=\"th\">2/5</th><th class=\"th\">3/5</th><th class=\"th\">4/5</th><th class=\"th\">5/5</th></tr></thead><tbody><tr class=\"trx\"><td class=\"lh\" onclick=\"showNextColumn('Employees-1-4-4-5-1-1')\">Id</td><td class=\"lj\">1061</td><td class=\"lj\">1062</td><td class=\"lj\">1063</td><td class=\"lj\">1064</td><td class=\"lj\">1065</td></tr><tr class=\"trx\"><td class=\"lh\" onclick=\"showNextColumn('Employees-1-4-4-5-1-2')\">Name</td><td class=\"lj\">Branson Wisoky</td><td class=\"lj\">Nyah Spinka</td><td class=\"lj\">Cortney Moore</td><td class=\"lj\">Ford Schulist</td><td class=\"lj\">Scarlett Wisoky</td></tr><tr class=\"trx\"><td class=\"lh\" onclick=\"showNextColumn('Employees-1-4-4-5-1-3')\">Title</td><td class=\"lj\">Central Interactions Producer</td><td class=\"lj\">International Solutions Administrator</td><td class=\"lj\">Central Configuration Specialist</td><td class=\"lj\">Chief Functionality Administrator</td><td class=\"lj\">Forward Accounts Technician</td></tr><tr class=\"trx\"><td class=\"lh\" onclick=\"showNextColumn('Employees-1-4-4-5-1-4')\">Email</td><td class=\"lj\">Cordie69@yahoo.com</td><td class=\"lj\">Shany.Beer@gmail.com</td><td class=\"lj\">Margret_Senger92@gmail.com</td><td class=\"lj\">Jaqueline_Kuvalis45@gmail.com</td><td class=\"lj\">Carlie_Hegmann91@yahoo.com</td></tr><tr class=\"trx\"><td class=\"lh\" onclick=\"showNextColumn('Employees-1-4-4-5-1-5')\">Telephone</td><td class=\"lj\">(386) 476-2694 x4793</td><td class=\"lj\">905.416.9218</td><td class=\"lj\">1-450-447-2425 x57675</td><td class=\"lj\">338-656-7361 x4018</td><td class=\"lj\">(211) 879-8674</td></tr></tbody></table></td><td class=\"lj\"><table id=\"Locations-1-4-5-5\" class=\"outer containerx\"><thead><tr class=\"trx\"><th class=\"lh edge\" onclick=\"showNextColumn('Locations-1-4-5-5')\" >Employees</th>\r\n",
       "<th class=\"th\">1/5</th><th class=\"th\">2/5</th><th class=\"th\">3/5</th><th class=\"th\">4/5</th><th class=\"th\">5/5</th></tr></thead><tbody><tr class=\"trx\"><td class=\"lh\" onclick=\"showNextColumn('Employees-1-4-5-5-1-1')\">Id</td><td class=\"lj\">1077</td><td class=\"lj\">1078</td><td class=\"lj\">1079</td><td class=\"lj\">1080</td><td class=\"lj\">1081</td></tr><tr class=\"trx\"><td class=\"lh\" onclick=\"showNextColumn('Employees-1-4-5-5-1-2')\">Name</td><td class=\"lj\">Tyrel Cormier</td><td class=\"lj\">Hettie Ziemann</td><td class=\"lj\">Melody Greenfelder</td><td class=\"lj\">Jonatan Heidenreich</td><td class=\"lj\">Rodolfo Weber</td></tr><tr class=\"trx\"><td class=\"lh\" onclick=\"showNextColumn('Employees-1-4-5-5-1-3')\">Title</td><td class=\"lj\">Direct Security Planner</td><td class=\"lj\">Chief Accountability Coordinator</td><td class=\"lj\">Lead Marketing Technician</td><td class=\"lj\">Corporate Intranet Liaison</td><td class=\"lj\">Corporate Brand Administrator</td></tr><tr class=\"trx\"><td class=\"lh\" onclick=\"showNextColumn('Employees-1-4-5-5-1-4')\">Email</td><td class=\"lj\">Destinee_Brekke55@yahoo.com</td><td class=\"lj\">Bryon.Kreiger@hotmail.com</td><td class=\"lj\">Asa_Koch44@hotmail.com</td><td class=\"lj\">Judd62@gmail.com</td><td class=\"lj\">Jonas_Prohaska@yahoo.com</td></tr><tr class=\"trx\"><td class=\"lh\" onclick=\"showNextColumn('Employees-1-4-5-5-1-5')\">Telephone</td><td class=\"lj\">463-869-8296 x568</td><td class=\"lj\">1-736-956-4892 x117</td><td class=\"lj\">737.276.3270</td><td class=\"lj\">461.645.7934 x77966</td><td class=\"lj\">982.652.0577 x8146</td></tr></tbody></table></td></tr></tbody></table>\r\n",
       "</tbody></table></div>\r\n",
       "    <h3>Array rendered raw in-line</h3>\r\n",
       "    <table id=\"-1\" class=\"outer containerx\"><thead><tr class=\"trx\"><th class=\"lh edge\" onclick=\"showNextColumn('-1')\" ></th>\r\n",
       "<th class=\"th\">1/5</th><th class=\"th\">2/5</th><th class=\"th\">3/5</th><th class=\"th\">4/5</th><th class=\"th\">5/5</th></tr></thead><tbody><tr class=\"trx\"><td class=\"lh\" onclick=\"showNextColumn('-1-1-1')\">LocationName</td><td class=\"lj\">Champlinville</td><td class=\"lj\">New Bernadettemouth</td><td class=\"lj\">West Randallfort</td><td class=\"lj\">New Montetown</td><td class=\"lj\">New Macie</td></tr><tr class=\"trx\"><td class=\"lh\" onclick=\"showNextColumn('-1-1-2')\">TelephoneNumbers</td><td class=\"lj\"><div class=\"narrow array\"><table class=\"tablex sub neg\"><tr class=\"trx tall\">\r\n",
       "<td class=\"lj item\">777.433.4105</td><td class=\"lj item\">362.291.0745</td><td class=\"lj item\">1-649-577-0681</td><td class=\"lj item\">233-651-0735</td><td class=\"lj item\">698-492-8776 x96552</td><td class=\"lj item\">320-691-2265</td><td class=\"lj item\">(744) 944-4122 x345</td><td class=\"lj item\">1-615-818-6954 x2101</td><td class=\"lj item\">1-405-466-8258 x8935</td><td class=\"lj item\">1-714-880-5597</td><td class=\"lj item\">(222) 862-3383 x37668</td><td class=\"lj item\">(620) 458-9058 x345</td><td class=\"lj item\">(492) 674-4980 x94724</td><td class=\"lj item\">644.314.7533 x444</td><td class=\"lj item\">1-315-792-0441 x838</td></tr></table></div></td><td class=\"lj\"><div class=\"narrow array\"><table class=\"tablex sub neg\"><tr class=\"trx tall\">\r\n",
       "<td class=\"lj item\">713-609-1221</td><td class=\"lj item\">843-530-0629 x0379</td><td class=\"lj item\">300.398.9856</td><td class=\"lj item\">(219) 799-6469 x4611</td><td class=\"lj item\">1-974-633-5886 x421</td><td class=\"lj item\">(592) 618-2647 x77463</td><td class=\"lj item\">1-356-297-7748 x1684</td><td class=\"lj item\">882-937-0290</td><td class=\"lj item\">719-711-7382 x8312</td><td class=\"lj item\">1-849-292-6738</td><td class=\"lj item\">1-947-500-5759 x46315</td><td class=\"lj item\">(711) 492-2868</td><td class=\"lj item\">1-587-631-3274 x2526</td><td class=\"lj item\">1-852-240-8205 x060</td><td class=\"lj item\">360.942.8199 x6677</td></tr></table></div></td><td class=\"lj\"><div class=\"narrow array\"><table class=\"tablex sub neg\"><tr class=\"trx tall\">\r\n",
       "<td class=\"lj item\">1-708-342-0933 x1129</td><td class=\"lj item\">(733) 724-6907</td><td class=\"lj item\">(756) 797-8144 x5264</td><td class=\"lj item\">(293) 674-3075 x9344</td><td class=\"lj item\">(941) 284-8291</td><td class=\"lj item\">1-937-674-1980 x970</td><td class=\"lj item\">(233) 692-4358</td><td class=\"lj item\">801.891.1711 x34294</td><td class=\"lj item\">(739) 448-0208 x05980</td><td class=\"lj item\">884.387.5957 x3988</td><td class=\"lj item\">548-913-7718 x3578</td><td class=\"lj item\">1-354-627-0149</td><td class=\"lj item\">1-542-648-5721 x5377</td><td class=\"lj item\">(201) 936-2365 x77371</td><td class=\"lj item\">1-374-685-4614 x16701</td></tr></table></div></td><td class=\"lj\"><div class=\"narrow array\"><table class=\"tablex sub neg\"><tr class=\"trx tall\">\r\n",
       "<td class=\"lj item\">698-559-4879 x8283</td><td class=\"lj item\">967-205-9369 x004</td><td class=\"lj item\">1-395-800-6227 x744</td><td class=\"lj item\">1-553-647-1085</td><td class=\"lj item\">1-252-875-4180</td><td class=\"lj item\">444-465-2649</td><td class=\"lj item\">460.587.8477 x9978</td><td class=\"lj item\">569-509-9121 x550</td><td class=\"lj item\">1-902-275-4877</td><td class=\"lj item\">590.426.5394</td><td class=\"lj item\">855.623.8442 x9674</td><td class=\"lj item\">418-752-4179</td><td class=\"lj item\">731-384-7323</td><td class=\"lj item\">1-529-562-1049</td><td class=\"lj item\">642-513-0877 x059</td></tr></table></div></td><td class=\"lj\"><div class=\"narrow array\"><table class=\"tablex sub neg\"><tr class=\"trx tall\">\r\n",
       "<td class=\"lj item\">435-518-6993 x89438</td><td class=\"lj item\">517.406.0291</td><td class=\"lj item\">(830) 860-6287</td><td class=\"lj item\">1-818-446-4359 x806</td><td class=\"lj item\">877-803-8196 x5196</td><td class=\"lj item\">1-626-689-9003</td><td class=\"lj item\">846.562.4103 x4837</td><td class=\"lj item\">(649) 936-7985 x394</td><td class=\"lj item\">788.425.1848 x875</td><td class=\"lj item\">(339) 979-0978 x39622</td><td class=\"lj item\">320-605-3408</td><td class=\"lj item\">961-745-2612 x2230</td><td class=\"lj item\">1-617-533-4224 x1796</td><td class=\"lj item\">1-597-276-6848</td><td class=\"lj item\">(459) 210-4668 x92076</td></tr></table></div></td></tr><tr class=\"trx\"><td class=\"lh\" onclick=\"showNextColumn('-1-1-3')\">AddressRows</td><td class=\"lj\"><div class=\"narrow array\"><table class=\"tablex sub neg\"><tr class=\"trx tall\">\r\n",
       "<td class=\"lj item\">93902 Nikolaus Shoals</td><td class=\"lj item\">5938 Adela Causeway</td><td class=\"lj item\">006 Boris Circles</td><td class=\"lj item\">360 Fay Plains</td><td class=\"lj item\">9276 Kameron Causeway</td><td class=\"lj item\">3346 McLaughlin Center</td><td class=\"lj item\">5555 Karolann Plaza</td><td class=\"lj item\">5766 Daugherty Dam</td><td class=\"lj item\">557 Emard Estate</td><td class=\"lj item\">24159 Schowalter Forges</td><td class=\"lj item\">4564 Haleigh Port</td><td class=\"lj item\">099 Dee Landing</td><td class=\"lj item\">423 Gregoria Pike</td><td class=\"lj item\">539 Keeling Junction</td><td class=\"lj item\">69767 Fritsch Crossing</td></tr></table></div></td><td class=\"lj\"><div class=\"narrow array\"><table class=\"tablex sub neg\"><tr class=\"trx tall\">\r\n",
       "<td class=\"lj item\">714 Murray Square</td><td class=\"lj item\">99869 Hintz Street</td><td class=\"lj item\">9807 Kuhic Mission</td><td class=\"lj item\">67939 Palma Estates</td><td class=\"lj item\">61475 Einar Drives</td><td class=\"lj item\">838 Becker Pines</td><td class=\"lj item\">7798 Klocko Drive</td><td class=\"lj item\">463 Bahringer Station</td><td class=\"lj item\">9915 Abshire Terrace</td><td class=\"lj item\">403 Albertha Station</td><td class=\"lj item\">4790 Daren Spurs</td><td class=\"lj item\">970 Predovic Brooks</td><td class=\"lj item\">35111 D'Amore Tunnel</td><td class=\"lj item\">5643 Hahn Brooks</td><td class=\"lj item\">21744 Schinner Rapid</td></tr></table></div></td><td class=\"lj\"><div class=\"narrow array\"><table class=\"tablex sub neg\"><tr class=\"trx tall\">\r\n",
       "<td class=\"lj item\">682 Johnston Mission</td><td class=\"lj item\">7305 Alberto Ports</td><td class=\"lj item\">62605 Gracie Gateway</td><td class=\"lj item\">31029 Olin Burgs</td><td class=\"lj item\">85259 Jaron Fall</td><td class=\"lj item\">41437 Gerson Spring</td><td class=\"lj item\">8899 Nitzsche Ways</td><td class=\"lj item\">7457 Grimes Summit</td><td class=\"lj item\">8847 Flatley Lodge</td><td class=\"lj item\">994 Leda Course</td><td class=\"lj item\">0920 Jonathan Roads</td><td class=\"lj item\">5958 McGlynn Parkway</td><td class=\"lj item\">655 Colleen Brook</td><td class=\"lj item\">3568 Lehner Glens</td><td class=\"lj item\">5804 Stamm Avenue</td></tr></table></div></td><td class=\"lj\"><div class=\"narrow array\"><table class=\"tablex sub neg\"><tr class=\"trx tall\">\r\n",
       "<td class=\"lj item\">032 Rutherford Ford</td><td class=\"lj item\">45815 Amalia Hills</td><td class=\"lj item\">71657 Erdman Glen</td><td class=\"lj item\">982 Ruthie Falls</td><td class=\"lj item\">548 Ebert Crest</td><td class=\"lj item\">500 Monty Plains</td><td class=\"lj item\">6699 Leffler Mews</td><td class=\"lj item\">469 Casper Radial</td><td class=\"lj item\">072 Faustino Extensions</td><td class=\"lj item\">46383 Hermiston Manors</td><td class=\"lj item\">042 Balistreri Fall</td><td class=\"lj item\">2148 Hansen Square</td><td class=\"lj item\">3071 Torp Drive</td><td class=\"lj item\">43812 Newell Field</td><td class=\"lj item\">7309 Grant Rapid</td></tr></table></div></td><td class=\"lj\"><div class=\"narrow array\"><table class=\"tablex sub neg\"><tr class=\"trx tall\">\r\n",
       "<td class=\"lj item\">62009 Major Terrace</td><td class=\"lj item\">06041 Emmerich Cape</td><td class=\"lj item\">28062 Raynor Cape</td><td class=\"lj item\">485 Williamson Ridges</td><td class=\"lj item\">33366 Rippin Trafficway</td><td class=\"lj item\">83539 Caleb Stream</td><td class=\"lj item\">7965 Pollich Spurs</td><td class=\"lj item\">371 Ashton Square</td><td class=\"lj item\">2248 Aimee Tunnel</td><td class=\"lj item\">079 Zemlak Circles</td><td class=\"lj item\">706 Mikayla Plains</td><td class=\"lj item\">606 Lyla Track</td><td class=\"lj item\">73689 Laron Orchard</td><td class=\"lj item\">84201 Shayne Summit</td><td class=\"lj item\">4874 Cartwright Union</td></tr></table></div></td></tr><tr class=\"trx\"><td class=\"lh\" onclick=\"showNextColumn('-1-1-4')\">EmployeeCount</td><td class=\"lj\">22</td><td class=\"lj\">18</td><td class=\"lj\">21</td><td class=\"lj\">16</td><td class=\"lj\">16</td></tr><tr class=\"trx\"><td class=\"lh\" onclick=\"showNextColumn('-1-1-5')\">Employees</td><td class=\"lj\"><table id=\"-1-1-5\" class=\"outer containerx\"><thead><tr class=\"trx\"><th class=\"lh edge\" onclick=\"showNextColumn('-1-1-5')\" >Employees</th>\r\n",
       "<th class=\"th\">1/5</th><th class=\"th\">2/5</th><th class=\"th\">3/5</th><th class=\"th\">4/5</th><th class=\"th\">5/5</th></tr></thead><tbody><tr class=\"trx\"><td class=\"lh\" onclick=\"showNextColumn('Employees-1-1-5-1-1')\">Id</td><td class=\"lj\">1000</td><td class=\"lj\">1001</td><td class=\"lj\">1002</td><td class=\"lj\">1003</td><td class=\"lj\">1004</td></tr><tr class=\"trx\"><td class=\"lh\" onclick=\"showNextColumn('Employees-1-1-5-1-2')\">Name</td><td class=\"lj\">Randal Reynolds</td><td class=\"lj\">Torey Thompson</td><td class=\"lj\">Rae Nicolas</td><td class=\"lj\">Amos Flatley</td><td class=\"lj\">Constance Price</td></tr><tr class=\"trx\"><td class=\"lh\" onclick=\"showNextColumn('Employees-1-1-5-1-3')\">Title</td><td class=\"lj\">National Infrastructure Architect</td><td class=\"lj\">Customer Implementation Liaison</td><td class=\"lj\">Future Division Administrator</td><td class=\"lj\">Lead Configuration Administrator</td><td class=\"lj\">Chief Functionality Analyst</td></tr><tr class=\"trx\"><td class=\"lh\" onclick=\"showNextColumn('Employees-1-1-5-1-4')\">Email</td><td class=\"lj\">Elna.Schmidt@hotmail.com</td><td class=\"lj\">Kristoffer_Prosacco@hotmail.com</td><td class=\"lj\">Ernestine_Runolfsdottir58@gmail.com</td><td class=\"lj\">Coralie.Sipes@yahoo.com</td><td class=\"lj\">Aryanna15@hotmail.com</td></tr><tr class=\"trx\"><td class=\"lh\" onclick=\"showNextColumn('Employees-1-1-5-1-5')\">Telephone</td><td class=\"lj\">1-986-593-4596 x6178</td><td class=\"lj\">(450) 225-2563</td><td class=\"lj\">509-750-8320</td><td class=\"lj\">338.694.1351</td><td class=\"lj\">696-782-5861 x5483</td></tr></tbody></table></td><td class=\"lj\"><table id=\"-1-2-5\" class=\"outer containerx\"><thead><tr class=\"trx\"><th class=\"lh edge\" onclick=\"showNextColumn('-1-2-5')\" >Employees</th>\r\n",
       "<th class=\"th\">1/5</th><th class=\"th\">2/5</th><th class=\"th\">3/5</th><th class=\"th\">4/5</th><th class=\"th\">5/5</th></tr></thead><tbody><tr class=\"trx\"><td class=\"lh\" onclick=\"showNextColumn('Employees-1-2-5-1-1')\">Id</td><td class=\"lj\">1022</td><td class=\"lj\">1023</td><td class=\"lj\">1024</td><td class=\"lj\">1025</td><td class=\"lj\">1026</td></tr><tr class=\"trx\"><td class=\"lh\" onclick=\"showNextColumn('Employees-1-2-5-1-2')\">Name</td><td class=\"lj\">Maximillia Kuhlman</td><td class=\"lj\">Reyes Runolfsdottir</td><td class=\"lj\">Evan Ryan</td><td class=\"lj\">Maxie Spencer</td><td class=\"lj\">Cheyenne Abernathy</td></tr><tr class=\"trx\"><td class=\"lh\" onclick=\"showNextColumn('Employees-1-2-5-1-3')\">Title</td><td class=\"lj\">Direct Optimization Architect</td><td class=\"lj\">Future Brand Liaison</td><td class=\"lj\">Forward Applications Strategist</td><td class=\"lj\">Investor Security Assistant</td><td class=\"lj\">Internal Response Engineer</td></tr><tr class=\"trx\"><td class=\"lh\" onclick=\"showNextColumn('Employees-1-2-5-1-4')\">Email</td><td class=\"lj\">Flo.Wisozk44@gmail.com</td><td class=\"lj\">Jazmyn_Zboncak27@hotmail.com</td><td class=\"lj\">Eliane.Crona@yahoo.com</td><td class=\"lj\">Lee.Fadel60@hotmail.com</td><td class=\"lj\">Raymundo41@hotmail.com</td></tr><tr class=\"trx\"><td class=\"lh\" onclick=\"showNextColumn('Employees-1-2-5-1-5')\">Telephone</td><td class=\"lj\">1-452-988-4712</td><td class=\"lj\">1-239-986-1927 x911</td><td class=\"lj\">1-430-858-6195</td><td class=\"lj\">287-725-0774</td><td class=\"lj\">277.480.8246 x58940</td></tr></tbody></table></td><td class=\"lj\"><table id=\"-1-3-5\" class=\"outer containerx\"><thead><tr class=\"trx\"><th class=\"lh edge\" onclick=\"showNextColumn('-1-3-5')\" >Employees</th>\r\n",
       "<th class=\"th\">1/5</th><th class=\"th\">2/5</th><th class=\"th\">3/5</th><th class=\"th\">4/5</th><th class=\"th\">5/5</th></tr></thead><tbody><tr class=\"trx\"><td class=\"lh\" onclick=\"showNextColumn('Employees-1-3-5-1-1')\">Id</td><td class=\"lj\">1040</td><td class=\"lj\">1041</td><td class=\"lj\">1042</td><td class=\"lj\">1043</td><td class=\"lj\">1044</td></tr><tr class=\"trx\"><td class=\"lh\" onclick=\"showNextColumn('Employees-1-3-5-1-2')\">Name</td><td class=\"lj\">Curtis O'Kon</td><td class=\"lj\">Enid McCullough</td><td class=\"lj\">Ayana Kilback</td><td class=\"lj\">Baby Buckridge</td><td class=\"lj\">Neil Schaefer</td></tr><tr class=\"trx\"><td class=\"lh\" onclick=\"showNextColumn('Employees-1-3-5-1-3')\">Title</td><td class=\"lj\">Senior Interactions Supervisor</td><td class=\"lj\">Lead Functionality Facilitator</td><td class=\"lj\">Dynamic Web Supervisor</td><td class=\"lj\">Customer Brand Developer</td><td class=\"lj\">Forward Infrastructure Planner</td></tr><tr class=\"trx\"><td class=\"lh\" onclick=\"showNextColumn('Employees-1-3-5-1-4')\">Email</td><td class=\"lj\">Erin.Emmerich@yahoo.com</td><td class=\"lj\">Mortimer12@gmail.com</td><td class=\"lj\">Evie5@yahoo.com</td><td class=\"lj\">Rahsaan_Cormier66@hotmail.com</td><td class=\"lj\">Aric.Pouros@yahoo.com</td></tr><tr class=\"trx\"><td class=\"lh\" onclick=\"showNextColumn('Employees-1-3-5-1-5')\">Telephone</td><td class=\"lj\">1-439-984-2725 x637</td><td class=\"lj\">259.821.9595</td><td class=\"lj\">1-920-723-4297 x2936</td><td class=\"lj\">(836) 680-5680</td><td class=\"lj\">1-437-385-5419 x571</td></tr></tbody></table></td><td class=\"lj\"><table id=\"-1-4-5\" class=\"outer containerx\"><thead><tr class=\"trx\"><th class=\"lh edge\" onclick=\"showNextColumn('-1-4-5')\" >Employees</th>\r\n",
       "<th class=\"th\">1/5</th><th class=\"th\">2/5</th><th class=\"th\">3/5</th><th class=\"th\">4/5</th><th class=\"th\">5/5</th></tr></thead><tbody><tr class=\"trx\"><td class=\"lh\" onclick=\"showNextColumn('Employees-1-4-5-1-1')\">Id</td><td class=\"lj\">1061</td><td class=\"lj\">1062</td><td class=\"lj\">1063</td><td class=\"lj\">1064</td><td class=\"lj\">1065</td></tr><tr class=\"trx\"><td class=\"lh\" onclick=\"showNextColumn('Employees-1-4-5-1-2')\">Name</td><td class=\"lj\">Branson Wisoky</td><td class=\"lj\">Nyah Spinka</td><td class=\"lj\">Cortney Moore</td><td class=\"lj\">Ford Schulist</td><td class=\"lj\">Scarlett Wisoky</td></tr><tr class=\"trx\"><td class=\"lh\" onclick=\"showNextColumn('Employees-1-4-5-1-3')\">Title</td><td class=\"lj\">Central Interactions Producer</td><td class=\"lj\">International Solutions Administrator</td><td class=\"lj\">Central Configuration Specialist</td><td class=\"lj\">Chief Functionality Administrator</td><td class=\"lj\">Forward Accounts Technician</td></tr><tr class=\"trx\"><td class=\"lh\" onclick=\"showNextColumn('Employees-1-4-5-1-4')\">Email</td><td class=\"lj\">Cordie69@yahoo.com</td><td class=\"lj\">Shany.Beer@gmail.com</td><td class=\"lj\">Margret_Senger92@gmail.com</td><td class=\"lj\">Jaqueline_Kuvalis45@gmail.com</td><td class=\"lj\">Carlie_Hegmann91@yahoo.com</td></tr><tr class=\"trx\"><td class=\"lh\" onclick=\"showNextColumn('Employees-1-4-5-1-5')\">Telephone</td><td class=\"lj\">(386) 476-2694 x4793</td><td class=\"lj\">905.416.9218</td><td class=\"lj\">1-450-447-2425 x57675</td><td class=\"lj\">338-656-7361 x4018</td><td class=\"lj\">(211) 879-8674</td></tr></tbody></table></td><td class=\"lj\"><table id=\"-1-5-5\" class=\"outer containerx\"><thead><tr class=\"trx\"><th class=\"lh edge\" onclick=\"showNextColumn('-1-5-5')\" >Employees</th>\r\n",
       "<th class=\"th\">1/5</th><th class=\"th\">2/5</th><th class=\"th\">3/5</th><th class=\"th\">4/5</th><th class=\"th\">5/5</th></tr></thead><tbody><tr class=\"trx\"><td class=\"lh\" onclick=\"showNextColumn('Employees-1-5-5-1-1')\">Id</td><td class=\"lj\">1077</td><td class=\"lj\">1078</td><td class=\"lj\">1079</td><td class=\"lj\">1080</td><td class=\"lj\">1081</td></tr><tr class=\"trx\"><td class=\"lh\" onclick=\"showNextColumn('Employees-1-5-5-1-2')\">Name</td><td class=\"lj\">Tyrel Cormier</td><td class=\"lj\">Hettie Ziemann</td><td class=\"lj\">Melody Greenfelder</td><td class=\"lj\">Jonatan Heidenreich</td><td class=\"lj\">Rodolfo Weber</td></tr><tr class=\"trx\"><td class=\"lh\" onclick=\"showNextColumn('Employees-1-5-5-1-3')\">Title</td><td class=\"lj\">Direct Security Planner</td><td class=\"lj\">Chief Accountability Coordinator</td><td class=\"lj\">Lead Marketing Technician</td><td class=\"lj\">Corporate Intranet Liaison</td><td class=\"lj\">Corporate Brand Administrator</td></tr><tr class=\"trx\"><td class=\"lh\" onclick=\"showNextColumn('Employees-1-5-5-1-4')\">Email</td><td class=\"lj\">Destinee_Brekke55@yahoo.com</td><td class=\"lj\">Bryon.Kreiger@hotmail.com</td><td class=\"lj\">Asa_Koch44@hotmail.com</td><td class=\"lj\">Judd62@gmail.com</td><td class=\"lj\">Jonas_Prohaska@yahoo.com</td></tr><tr class=\"trx\"><td class=\"lh\" onclick=\"showNextColumn('Employees-1-5-5-1-5')\">Telephone</td><td class=\"lj\">463-869-8296 x568</td><td class=\"lj\">1-736-956-4892 x117</td><td class=\"lj\">737.276.3270</td><td class=\"lj\">461.645.7934 x77966</td><td class=\"lj\">982.652.0577 x8146</td></tr></tbody></table></td></tr></tbody></table>\r\n",
       "    <hr>\r\n",
       "  </body>\r\n",
       "</html></div>"
      ]
     },
     "metadata": {},
     "output_type": "display_data"
    }
   ],
   "source": [
    "// Or we could use Razor:\n",
    "#!csharp\n",
    "\n",
    "// Write a local css file to sytle things:\n",
    "Nest.ToFile(Nest.GetCss(options), \"./local-test.css\");\n",
    "// generate a couple of json strings, one for the object, one for the array:\n",
    "var A = Nest.RenderHtmlScrolling(objectJson, 5);\n",
    "var B = Nest.RenderHtmlScrolling(arrayJson, 5);\n",
    "\n",
    "// display both in a razor page directly: (the @Model exposes any variables form NetInteractive)\n",
    "#!razor\n",
    "<html>\n",
    "  <head>\n",
    "    <link rel=\"stylesheet\" href=\"./local-test.css\">\n",
    "  </head>\n",
    "  <body>\n",
    "    <h3>Object rendered raw in-line</h3>\n",
    "    @Raw(@Model.A)\n",
    "    <h3>Array rendered raw in-line</h3>\n",
    "    @Raw(@Model.B)\n",
    "    <hr>\n",
    "  </body>\n",
    "</html>"
   ]
  }
 ],
 "metadata": {
  "kernelspec": {
   "display_name": ".NET (C#)",
   "language": "C#",
   "name": ".net-csharp"
  },
  "language_info": {
   "name": "polyglot-notebook"
  },
  "polyglot_notebook": {
   "kernelInfo": {
    "defaultKernelName": "csharp",
    "items": [
     {
      "aliases": [],
      "name": "csharp"
     },
     {
      "aliases": [],
      "name": "razor"
     }
    ]
   }
  }
 },
 "nbformat": 4,
 "nbformat_minor": 2
}
