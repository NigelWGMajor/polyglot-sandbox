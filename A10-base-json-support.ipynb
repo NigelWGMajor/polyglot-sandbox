{
 "cells": [
  {
   "cell_type": "markdown",
   "metadata": {},
   "source": [
    "#### tl;dr\n",
    "\n",
    "A simple test of a library providing json->html data viewing, with browser or inline Razor page, using mocked data.\n",
    "\n",
    "Solves: effective storage and viewing of divergent (1:n) data sets."
   ]
  },
  {
   "cell_type": "markdown",
   "metadata": {},
   "source": [
    "# Json support (Nix-Library-Raw)\n",
    "\n",
    "This set of code was used to develop a support library to simplify data exploration.\n",
    "\n",
    "It focuses on **json** data, specifically json Arrays or Objects such as would be expected from a database query using `for json path`. It wraps the conversion of the json string to an html string suitable for presentation.\n",
    "\n",
    "Because in discovery we are frequently trying to understand relationships and cardinality, it is not usually necessary to retrieve vast quantities of data, rather this allows the display of \"several\" samples. Nested relationships are enclosed and can be limited to arbitrarily small samples.\n",
    "\n",
    "A css style sheet provides the underlying styling: this can be altered for different purposes.\n",
    "Some variables are used, which also allows their modification through Javascript.\n"
   ]
  },
  {
   "cell_type": "markdown",
   "metadata": {},
   "source": [
    "## Summary of library functionality\n",
    "\n",
    "The code is dependent on System.Text.Json (which replaces the older Newtonsoft.Json)\n",
    "\n",
    "Functionality is wrapped mainly in the `Nest` class. This is a simple class with a `Name`, `Value`, `Nesting` and Children which ate themselves `Nest`s.\n",
    "\n",
    "### Constructors\n",
    "\n",
    "For general use, the Nest class is not needed, the static methods handle this for you. However if you need to use your own hierarchical structure, have at it:\n",
    "\n",
    "`Nest(string Name, string json)` Creates a Nest from a json string representing an array or object.\n",
    "`Nest(string Name, JsonNode node, int depth = 0)` Is used internally and recursively by the simpler constructor, but can be used to process a JsonObject directly.\n",
    "\n",
    "The `Nest` class is a simpler and more compact representation than a JsonObject, so can be used to digest and store hierarchial objects for multiple uses.\n",
    "\n",
    "For one-off rendering, the static methods below are more effective.\n",
    "\n",
    "### Class Methods\n",
    "\n",
    "- `string AsHtml(NestOptions options)` returns Html for displaying the object directly.\n",
    "- `IEnumerable<string>Elements()` returns an enumerable series of strings describing the structure of the data (typically for understanding structure).\n",
    "- `string AllElements(bool withLineBreaks = false)` returns all the elements with or without line feeds.\n",
    "\n",
    "### Static methods\n",
    "\n",
    "- `string Prettify(string json)` formats a json string as indented, fo human consumption.\n",
    "\n",
    "- `string RenderHtml(string json)` return html suitable for embedding in a page using external css.\n",
    "- `string RenderPage(string json, NestOptions options)` returns html with css suitable for display as a single page.\n",
    "\n",
    "- `string GetCss(NestOptions options)` returns the css code for the specified options.\n",
    "\n",
    "and for convenience:\n",
    "\n",
    "- `void ToFile(string data, string path)` pushes a string to a local file.\n",
    "- `string FromFile(string path)` reads a string from a local file.\n",
    "\n",
    "\n",
    "### Nest Options\n",
    "\n",
    "To fine-tune the behavior, it is possible to tweak several settings.- \n",
    "\n",
    "- `MaximumPixelWidth` sets the width of the enclosing container, to force horizontal scrolling, default 800.\n",
    "- `TitleColumnWidth` sets the width of the leading column used to label elements, default 120;\n",
    "- `SpecifyFont` defaults to true, which sets the font to consolas, monospace.\n",
    "- `SmallerTitles` defaults to true, which reduces the size of titles.\n",
    "- `ItalicTitles` defaults to true which makes titles italic.\n",
    "- `ItemLimit` limits the number of items shown in lists, default 10.\n",
    "- `DarkMode` uses a dark theme, which is the default.\n",
    "\n"
   ]
  },
  {
   "cell_type": "markdown",
   "metadata": {},
   "source": []
  },
  {
   "cell_type": "markdown",
   "metadata": {},
   "source": [
    "## How about a serious test?\n",
    "\n",
    "We will use Bogus to generate a slew of information, which we will reduce to json then use to test variations of options."
   ]
  },
  {
   "cell_type": "code",
   "execution_count": 1,
   "metadata": {
    "dotnet_interactive": {
     "language": "csharp"
    },
    "polyglot_notebook": {
     "kernelName": "csharp"
    }
   },
   "outputs": [
    {
     "data": {
      "text/html": [
       "<div><div><strong>Restore sources</strong><ul><li><span>file:///n:/nix-nuget/</span></li></ul></div><div></div><div><strong>Installed Packages</strong><ul><li><span>bogus, 35.5.0</span></li><li><span>nix-library-raw, 1.0.17</span></li><li><span>RazorInteractive, 1.2.0</span></li><li><span>System.Text.Json, 8.0.3</span></li></ul></div></div>"
      ]
     },
     "metadata": {},
     "output_type": "display_data"
    },
    {
     "data": {
      "text/plain": [
       "Loading extensions from `C:\\Users\\NickMajor\\.nuget\\packages\\razorinteractive\\1.2.0\\lib\\net8.0\\RazorInteractive.dll`"
      ]
     },
     "metadata": {},
     "output_type": "display_data"
    },
    {
     "data": {
      "text/html": [
       "<details>\n",
       "    <summary>Renders the code block as Razor markup in dotnet-interactive notebooks.</summary>\n",
       "    <p>This extension adds a new kernel that can render Razor markdown.</p>\n",
       "    <p>All C# and F# variables are available in the <code>@Model</code> property.</p>\n",
       "</details>"
      ]
     },
     "metadata": {},
     "output_type": "display_data"
    }
   ],
   "source": [
    "// load packages\n",
    "#i \"file:///n:/nix-nuget/\"\n",
    "// Library implementing the Nest class.\n",
    "#r \"nuget:nix-library-raw\"  \n",
    "// Used to generate random data for testing\n",
    "#r \"nuget:bogus\"            \n",
    "// Needed by the library and/or jsoin serialization\n",
    "#r \"nuget:System.Text.Json\" \n",
    "// This allows you to use Razor Pages directly (see later example)\n",
    "#r \"nuget:RazorInteractive\" "
   ]
  },
  {
   "cell_type": "code",
   "execution_count": 2,
   "metadata": {
    "dotnet_interactive": {
     "language": "csharp"
    },
    "polyglot_notebook": {
     "kernelName": "csharp"
    }
   },
   "outputs": [],
   "source": [
    "// make some bogus data\n",
    "// // This will make a string \"json\" that has a hierarchial object.\n",
    "using Bogus;\n",
    "// Some ranf-ges\n",
    "int lo = 15;\n",
    "int hi = 25;\n",
    "\n",
    "// Let's start with a hierarchial object with some nested arrays.\n",
    "public class DataSet\n",
    "{\n",
    "    public string Client { get; set; }\n",
    "    public int Size { get; set; }\n",
    "    public int LocationCount => Locations.Count(); \n",
    "    public IEnumerable<Location> Locations { get; set; } = new List<Location>();\n",
    "}\n",
    "public class Location\n",
    "{\n",
    "    public string LocationName { get; set; }\n",
    "    public IEnumerable<string> TelephoneNumbers { get; set; } = new List<string>();\n",
    "    public IEnumerable<string> AddressRows { get; set; } = new List<string>();\n",
    "        public int EmployeeCount => Employees.Count();\n",
    "        public IEnumerable<Employee> Employees { get; set; } = new List<Employee>();\n",
    "}\n",
    "public class Employee\n",
    "{\n",
    "    public int Id { get; set; }\n",
    "    public string Name { get; set; }\n",
    "    public string Title { get; set; }\n",
    "    public string Email { get; set; }\n",
    "    public string Telephone { get; set; }\n",
    "}\n",
    "\n",
    "var count = new Faker().Random.Number(lo, hi);\n",
    "int identity = 1000;\n",
    "var dataFaker = new Faker<DataSet>()\n",
    "    .RuleFor(d => d.Client, f => f.Company.CompanyName())\n",
    "    .RuleFor(d => d.Size, count)\n",
    "    .RuleFor(d => d.Locations, f => f.Make(count, () => new Location\n",
    "    {\n",
    "        LocationName = f.Address.City(),\n",
    "        TelephoneNumbers = f.Make(lo, () => f.Phone.PhoneNumber()),\n",
    "        AddressRows = f.Make(lo, () => f.Address.StreetAddress()),\n",
    "        Employees = f.Make(f.Random.Number(lo, hi), () => new Employee\n",
    "        {\n",
    "            Id = identity++,\n",
    "            Name = f.Name.FullName(),\n",
    "            Title = f.Name.JobTitle(),\n",
    "            Email = f.Internet.Email(),\n",
    "            Telephone = f.Phone.PhoneNumber()\n",
    "        })\n",
    "    }));\n",
    "\n",
    "    // we make some data...\n",
    "    var objectData = dataFaker.Generate();\n",
    "    var arrayData = objectData.Locations;\n",
    "    // convert the data to a displayable json string\n",
    "    var objectJson = System.Text.Json.JsonSerializer.Serialize(objectData);\n",
    "    var arrayJson = System.Text.Json.JsonSerializer.Serialize(arrayData);\n",
    "    \n",
    "   // Console.WriteLine(\"*** JSON OBJECT ***\");\n",
    "   // Nest.Prettify(objectJson).Display();\n",
    "   // Console.WriteLine(\"*** JSON ARRAY ***\");\n",
    "   // Nest.Prettify(arrayJson).Display();"
   ]
  },
  {
   "cell_type": "markdown",
   "metadata": {},
   "source": [
    "## Now the raw library has been added as a Nuget package.\n",
    "\n",
    "Let's test against that!\n"
   ]
  },
  {
   "cell_type": "markdown",
   "metadata": {},
   "source": []
  },
  {
   "cell_type": "code",
   "execution_count": 3,
   "metadata": {
    "dotnet_interactive": {
     "language": "csharp"
    },
    "polyglot_notebook": {
     "kernelName": "csharp"
    }
   },
   "outputs": [],
   "source": [
    "using Nix.Library.Raw;\n",
    "// some options:\n",
    "var options = new Nest.NestOptions() { DarkMode = true, MaximumListPixelWidth = 1000 };\n",
    "// generate a page to display the object:\n",
    "Nest.ToFile(Nest.RenderPageScrolling(objectJson, \"Object\", 5, \"A\", options) , \"./.html_test/Test-objectX.html\");\n",
    "// generate a page to generate the array:\n",
    "Nest.ToFile(Nest.RenderPageScrolling(arrayJson, \"Array\", 5, \"B\", options ) , \"./.html_test/Test-arrayX.html\");"
   ]
  },
  {
   "cell_type": "code",
   "execution_count": 4,
   "metadata": {
    "dotnet_interactive": {
     "language": "csharp"
    },
    "polyglot_notebook": {
     "kernelName": "csharp"
    }
   },
   "outputs": [],
   "source": [
    "#!pwsh\n",
    "# The two created html files can be launched in the browser dircetly in a powershell script:\n",
    "./.html_test/Test-objectX.html\n",
    "./.html_test/Test-arrayX.html"
   ]
  },
  {
   "cell_type": "code",
   "execution_count": 5,
   "metadata": {
    "dotnet_interactive": {
     "language": "csharp"
    },
    "polyglot_notebook": {
     "kernelName": "csharp"
    }
   },
   "outputs": [
    {
     "data": {
      "text/html": [
       "<div id=\"razorExtensiona192c66b1cfd486bb8a7dd8541368dd9\"><html>\n",
       "  <head>\n",
       "    <link rel=\"stylesheet\" href=\"./local-test.css\">\n",
       "  </head>\n",
       "  <body>\n",
       "    <h3>Object rendered raw in-line</h3>\n",
       "    <div class=\"containerx\"><table class=\"outer containerx\"><thead><tr class=\"trx\"><th class=\"lh\">Object</th><th class=\"th\">4 elements</th></tr></thead><tbody><tr class=\"trx\"><td class=\"lh\">Client</td><td class=\"lj\">Turcotte, Mayer and Herman</td></tr>\r\n",
       "<tr class=\"trx\"><td class=\"lh\">Size</td><td class=\"lj\">20</td></tr>\r\n",
       "<tr class=\"trx\"><td class=\"lh\">LocationCount</td><td class=\"lj\">20</td></tr>\r\n",
       "<table id=\"Locations-1\" class=\"outer containerx\"><thead><tr class=\"trx\"><th class=\"lh edge\" onclick=\"showNextColumn('Locations-1')\" >Locations</th>\r\n",
       "<th class=\"th\">1/5</th><th class=\"th\">2/5</th><th class=\"th\">3/5</th><th class=\"th\">4/5</th><th class=\"th\">5/5</th></tr></thead><tbody><tr class=\"trx\"><td class=\"lh\" onclick=\"showNextColumn('Locations-1')\">LocationName</td><td class=\"lj\">South Elenor</td><td class=\"lj\">Huelsshire</td><td class=\"lj\">Hudsonchester</td><td class=\"lj\">Uptonchester</td><td class=\"lj\">Nicolettebury</td></tr><tr class=\"trx\"><td class=\"lh\" onclick=\"showNextColumn('Locations-1')\">TelephoneNumbers</td><td class=\"lj\"><div class=\"narrow array\"><table class=\"tablex sub neg\"><tr class=\"trx tall\">\r\n",
       "<td class=\"lj item\">631-997-8075</td><td class=\"lj item\">(527) 582-3900 x321</td><td class=\"lj item\">1-383-933-0896 x463</td><td class=\"lj item\">557.385.7083 x72451</td><td class=\"lj item\">(442) 223-4666 x112</td><td class=\"lj item\">(724) 262-6533 x87105</td><td class=\"lj item\">1-282-598-1237</td><td class=\"lj item\">(528) 720-4793 x6805</td><td class=\"lj item\">1-768-205-3415</td><td class=\"lj item\">(600) 263-4689 x828</td><td class=\"lj item\">586.340.4724 x903</td><td class=\"lj item\">1-580-441-7527 x67372</td><td class=\"lj item\">556-211-2732 x48278</td><td class=\"lj item\">(856) 464-6875</td><td class=\"lj item\">1-316-244-4070</td></tr></table></div></td><td class=\"lj\"><div class=\"narrow array\"><table class=\"tablex sub neg\"><tr class=\"trx tall\">\r\n",
       "<td class=\"lj item\">302.704.8336 x3489</td><td class=\"lj item\">901.471.7444 x7442</td><td class=\"lj item\">605-627-6164</td><td class=\"lj item\">309-673-6156 x978</td><td class=\"lj item\">(664) 485-5866</td><td class=\"lj item\">928-260-7156 x1950</td><td class=\"lj item\">1-480-685-9083</td><td class=\"lj item\">1-736-798-1220 x072</td><td class=\"lj item\">(447) 880-1719</td><td class=\"lj item\">(238) 560-0514 x7532</td><td class=\"lj item\">757-551-0617 x747</td><td class=\"lj item\">1-565-559-6773</td><td class=\"lj item\">361-367-2079 x6903</td><td class=\"lj item\">(945) 222-5201 x1133</td><td class=\"lj item\">1-419-215-2365 x315</td></tr></table></div></td><td class=\"lj\"><div class=\"narrow array\"><table class=\"tablex sub neg\"><tr class=\"trx tall\">\r\n",
       "<td class=\"lj item\">295.859.8275</td><td class=\"lj item\">966-736-7135</td><td class=\"lj item\">502.389.8512 x2052</td><td class=\"lj item\">251-363-2996 x789</td><td class=\"lj item\">585.462.5388 x2884</td><td class=\"lj item\">662.935.1402</td><td class=\"lj item\">1-594-992-5849</td><td class=\"lj item\">1-444-547-1041 x781</td><td class=\"lj item\">1-613-341-3604 x99996</td><td class=\"lj item\">(760) 405-3979</td><td class=\"lj item\">1-320-678-9014</td><td class=\"lj item\">1-253-555-3792 x66052</td><td class=\"lj item\">366-388-5628 x2980</td><td class=\"lj item\">299.476.1987 x6855</td><td class=\"lj item\">(589) 595-7430 x043</td></tr></table></div></td><td class=\"lj\"><div class=\"narrow array\"><table class=\"tablex sub neg\"><tr class=\"trx tall\">\r\n",
       "<td class=\"lj item\">1-938-955-9666 x75692</td><td class=\"lj item\">(713) 473-2882 x2306</td><td class=\"lj item\">(729) 203-1485</td><td class=\"lj item\">503.601.8033</td><td class=\"lj item\">238.439.0744 x31397</td><td class=\"lj item\">699-785-3261</td><td class=\"lj item\">364.616.1448 x6622</td><td class=\"lj item\">349-409-6244 x92651</td><td class=\"lj item\">1-746-240-6647</td><td class=\"lj item\">(355) 391-5159</td><td class=\"lj item\">910-510-1266 x4302</td><td class=\"lj item\">1-998-347-3717</td><td class=\"lj item\">420.906.6207</td><td class=\"lj item\">1-682-588-9179 x6772</td><td class=\"lj item\">350.765.4371</td></tr></table></div></td><td class=\"lj\"><div class=\"narrow array\"><table class=\"tablex sub neg\"><tr class=\"trx tall\">\r\n",
       "<td class=\"lj item\">358-243-2510 x49582</td><td class=\"lj item\">257-998-7647</td><td class=\"lj item\">425-647-1719 x11506</td><td class=\"lj item\">246-806-4924 x982</td><td class=\"lj item\">365-566-5612</td><td class=\"lj item\">(641) 688-7426 x179</td><td class=\"lj item\">1-287-867-3307</td><td class=\"lj item\">1-495-400-7885 x10691</td><td class=\"lj item\">886-297-8293 x195</td><td class=\"lj item\">621-741-9451 x1624</td><td class=\"lj item\">1-503-395-9020 x79801</td><td class=\"lj item\">487.862.1339</td><td class=\"lj item\">1-665-838-1680</td><td class=\"lj item\">1-871-392-0527</td><td class=\"lj item\">328-567-1340 x67105</td></tr></table></div></td></tr><tr class=\"trx\"><td class=\"lh\" onclick=\"showNextColumn('Locations-1')\">AddressRows</td><td class=\"lj\"><div class=\"narrow array\"><table class=\"tablex sub neg\"><tr class=\"trx tall\">\r\n",
       "<td class=\"lj item\">4499 Klein Mountains</td><td class=\"lj item\">359 Pouros Lane</td><td class=\"lj item\">8422 Luettgen Turnpike</td><td class=\"lj item\">09258 Zetta Passage</td><td class=\"lj item\">345 Legros Burgs</td><td class=\"lj item\">95443 Schultz Place</td><td class=\"lj item\">77234 Roob Mountains</td><td class=\"lj item\">2655 Conn Junctions</td><td class=\"lj item\">054 Tillman Row</td><td class=\"lj item\">85912 Legros Ford</td><td class=\"lj item\">245 Watsica Gateway</td><td class=\"lj item\">704 Hettie Locks</td><td class=\"lj item\">8304 Willie Drive</td><td class=\"lj item\">70433 Reinger Pine</td><td class=\"lj item\">7304 Lennie Village</td></tr></table></div></td><td class=\"lj\"><div class=\"narrow array\"><table class=\"tablex sub neg\"><tr class=\"trx tall\">\r\n",
       "<td class=\"lj item\">226 Jacklyn Hills</td><td class=\"lj item\">176 Heathcote Cliff</td><td class=\"lj item\">3660 Cornell Course</td><td class=\"lj item\">2982 Gerardo Ranch</td><td class=\"lj item\">83308 Crona Forges</td><td class=\"lj item\">265 Steuber View</td><td class=\"lj item\">0510 Adolph Avenue</td><td class=\"lj item\">97939 Thora Lock</td><td class=\"lj item\">51572 Schroeder Shoal</td><td class=\"lj item\">2679 Weissnat Haven</td><td class=\"lj item\">461 Wolf Passage</td><td class=\"lj item\">368 Heaney Ridge</td><td class=\"lj item\">22872 Hilda Knolls</td><td class=\"lj item\">09228 Tyree Rapid</td><td class=\"lj item\">48528 Langosh Glen</td></tr></table></div></td><td class=\"lj\"><div class=\"narrow array\"><table class=\"tablex sub neg\"><tr class=\"trx tall\">\r\n",
       "<td class=\"lj item\">546 Zboncak Mountains</td><td class=\"lj item\">68474 Norris Mount</td><td class=\"lj item\">76280 Gordon Knoll</td><td class=\"lj item\">505 Alia Junctions</td><td class=\"lj item\">83274 Rice Coves</td><td class=\"lj item\">526 Rolfson Island</td><td class=\"lj item\">426 Smith Corners</td><td class=\"lj item\">12014 Boehm Estates</td><td class=\"lj item\">49151 Jacobi Flats</td><td class=\"lj item\">234 Matt Lake</td><td class=\"lj item\">2383 Breitenberg Village</td><td class=\"lj item\">619 DuBuque Trafficway</td><td class=\"lj item\">17233 Jermain Hollow</td><td class=\"lj item\">63998 Lorenz Park</td><td class=\"lj item\">123 Chad Wells</td></tr></table></div></td><td class=\"lj\"><div class=\"narrow array\"><table class=\"tablex sub neg\"><tr class=\"trx tall\">\r\n",
       "<td class=\"lj item\">14746 Lakin Mews</td><td class=\"lj item\">06087 Torp Divide</td><td class=\"lj item\">5668 Homenick Inlet</td><td class=\"lj item\">42988 Shirley Skyway</td><td class=\"lj item\">75625 Abbigail Prairie</td><td class=\"lj item\">073 Zboncak Springs</td><td class=\"lj item\">6171 Nicolas Forge</td><td class=\"lj item\">50030 Jones Roads</td><td class=\"lj item\">3763 Ondricka Avenue</td><td class=\"lj item\">4485 Zechariah Camp</td><td class=\"lj item\">195 Roberts Ramp</td><td class=\"lj item\">641 Heaven Springs</td><td class=\"lj item\">321 Jeff Center</td><td class=\"lj item\">96121 Kuvalis Mountain</td><td class=\"lj item\">821 Carlo Path</td></tr></table></div></td><td class=\"lj\"><div class=\"narrow array\"><table class=\"tablex sub neg\"><tr class=\"trx tall\">\r\n",
       "<td class=\"lj item\">83074 Heaney Mountains</td><td class=\"lj item\">284 Vicky Skyway</td><td class=\"lj item\">438 Jessika Ford</td><td class=\"lj item\">7594 Frami Hill</td><td class=\"lj item\">5010 Tristin Falls</td><td class=\"lj item\">69953 Kasandra Haven</td><td class=\"lj item\">09652 Eugenia Villages</td><td class=\"lj item\">30441 Elliott Prairie</td><td class=\"lj item\">2012 Abe Circle</td><td class=\"lj item\">51787 Hannah Mall</td><td class=\"lj item\">0288 Ezekiel Mews</td><td class=\"lj item\">9690 Greenfelder Overpass</td><td class=\"lj item\">059 Abelardo Extension</td><td class=\"lj item\">946 Fay Burg</td><td class=\"lj item\">8286 Casper Bridge</td></tr></table></div></td></tr><tr class=\"trx\"><td class=\"lh\" onclick=\"showNextColumn('Locations-1')\">EmployeeCount</td><td class=\"lj\">20</td><td class=\"lj\">23</td><td class=\"lj\">20</td><td class=\"lj\">16</td><td class=\"lj\">16</td></tr><tr class=\"trx\"><td class=\"lh\" onclick=\"showNextColumn('Employees-1')\">Employees</td><td class=\"lj\"><table id=\"Employees-1\" class=\"outer containerx\"><thead><tr class=\"trx\"><th class=\"lh edge\" onclick=\"showNextColumn('Employees-1')\" >Employees</th>\r\n",
       "<th class=\"th\">1/5</th><th class=\"th\">2/5</th><th class=\"th\">3/5</th><th class=\"th\">4/5</th><th class=\"th\">5/5</th></tr></thead><tbody><tr class=\"trx\"><td class=\"lh\" onclick=\"showNextColumn('Employees-1')\">Id</td><td class=\"lj\">1000</td><td class=\"lj\">1001</td><td class=\"lj\">1002</td><td class=\"lj\">1003</td><td class=\"lj\">1004</td></tr><tr class=\"trx\"><td class=\"lh\" onclick=\"showNextColumn('Employees-1')\">Name</td><td class=\"lj\">Thalia Ferry</td><td class=\"lj\">Opal Goyette</td><td class=\"lj\">Emanuel Daniel</td><td class=\"lj\">Brice Sporer</td><td class=\"lj\">Haskell Ortiz</td></tr><tr class=\"trx\"><td class=\"lh\" onclick=\"showNextColumn('Employees-1')\">Title</td><td class=\"lj\">Global Program Technician</td><td class=\"lj\">Forward Quality Coordinator</td><td class=\"lj\">International Tactics Producer</td><td class=\"lj\">District Solutions Officer</td><td class=\"lj\">Internal Infrastructure Planner</td></tr><tr class=\"trx\"><td class=\"lh\" onclick=\"showNextColumn('Employees-1')\">Email</td><td class=\"lj\">Isaias_Paucek@hotmail.com</td><td class=\"lj\">Ayden.Koss@hotmail.com</td><td class=\"lj\">Kianna.Strosin@gmail.com</td><td class=\"lj\">Conner.McDermott@yahoo.com</td><td class=\"lj\">Jaden47@yahoo.com</td></tr><tr class=\"trx\"><td class=\"lh\" onclick=\"showNextColumn('Employees-1')\">Telephone</td><td class=\"lj\">(276) 418-9965</td><td class=\"lj\">(693) 820-1198</td><td class=\"lj\">(500) 685-5306 x12238</td><td class=\"lj\">298.625.4110</td><td class=\"lj\">1-922-419-3799 x700</td></tr></tbody></table></td><td class=\"lj\"><table id=\"Employees-2\" class=\"outer containerx\"><thead><tr class=\"trx\"><th class=\"lh edge\" onclick=\"showNextColumn('Employees-2')\" >Employees</th>\r\n",
       "<th class=\"th\">1/5</th><th class=\"th\">2/5</th><th class=\"th\">3/5</th><th class=\"th\">4/5</th><th class=\"th\">5/5</th></tr></thead><tbody><tr class=\"trx\"><td class=\"lh\" onclick=\"showNextColumn('Employees-1')\">Id</td><td class=\"lj\">1020</td><td class=\"lj\">1021</td><td class=\"lj\">1022</td><td class=\"lj\">1023</td><td class=\"lj\">1024</td></tr><tr class=\"trx\"><td class=\"lh\" onclick=\"showNextColumn('Employees-1')\">Name</td><td class=\"lj\">Nicolas Gerlach</td><td class=\"lj\">Nayeli Mayer</td><td class=\"lj\">Claudine Durgan</td><td class=\"lj\">Alysson Gaylord</td><td class=\"lj\">Lacy Wintheiser</td></tr><tr class=\"trx\"><td class=\"lh\" onclick=\"showNextColumn('Employees-1')\">Title</td><td class=\"lj\">District Accountability Associate</td><td class=\"lj\">Direct Data Director</td><td class=\"lj\">Product Configuration Orchestrator</td><td class=\"lj\">Customer Communications Coordinator</td><td class=\"lj\">Product Branding Strategist</td></tr><tr class=\"trx\"><td class=\"lh\" onclick=\"showNextColumn('Employees-1')\">Email</td><td class=\"lj\">Jayne_Bartell@gmail.com</td><td class=\"lj\">Tillman.Reichel41@yahoo.com</td><td class=\"lj\">Vickie.Ritchie0@hotmail.com</td><td class=\"lj\">Laurine_Altenwerth36@yahoo.com</td><td class=\"lj\">Andreane93@gmail.com</td></tr><tr class=\"trx\"><td class=\"lh\" onclick=\"showNextColumn('Employees-1')\">Telephone</td><td class=\"lj\">(510) 475-3440 x5944</td><td class=\"lj\">310-364-3318</td><td class=\"lj\">277.503.5469 x31398</td><td class=\"lj\">218.988.2590 x03324</td><td class=\"lj\">708.206.9748 x399</td></tr></tbody></table></td><td class=\"lj\"><table id=\"Employees-3\" class=\"outer containerx\"><thead><tr class=\"trx\"><th class=\"lh edge\" onclick=\"showNextColumn('Employees-3')\" >Employees</th>\r\n",
       "<th class=\"th\">1/5</th><th class=\"th\">2/5</th><th class=\"th\">3/5</th><th class=\"th\">4/5</th><th class=\"th\">5/5</th></tr></thead><tbody><tr class=\"trx\"><td class=\"lh\" onclick=\"showNextColumn('Employees-1')\">Id</td><td class=\"lj\">1043</td><td class=\"lj\">1044</td><td class=\"lj\">1045</td><td class=\"lj\">1046</td><td class=\"lj\">1047</td></tr><tr class=\"trx\"><td class=\"lh\" onclick=\"showNextColumn('Employees-1')\">Name</td><td class=\"lj\">Clifford Daniel</td><td class=\"lj\">Cora Parker</td><td class=\"lj\">Jaden Paucek</td><td class=\"lj\">Idell Beahan</td><td class=\"lj\">Elena Christiansen</td></tr><tr class=\"trx\"><td class=\"lh\" onclick=\"showNextColumn('Employees-1')\">Title</td><td class=\"lj\">Direct Markets Administrator</td><td class=\"lj\">Future Paradigm Producer</td><td class=\"lj\">Dynamic Marketing Officer</td><td class=\"lj\">Internal Configuration Engineer</td><td class=\"lj\">Direct Accounts Analyst</td></tr><tr class=\"trx\"><td class=\"lh\" onclick=\"showNextColumn('Employees-1')\">Email</td><td class=\"lj\">Ashly.Brekke7@gmail.com</td><td class=\"lj\">Issac73@yahoo.com</td><td class=\"lj\">Sonia.Willms88@yahoo.com</td><td class=\"lj\">Jameson_Hirthe@gmail.com</td><td class=\"lj\">Hailie64@hotmail.com</td></tr><tr class=\"trx\"><td class=\"lh\" onclick=\"showNextColumn('Employees-1')\">Telephone</td><td class=\"lj\">(421) 575-1288 x70023</td><td class=\"lj\">448-384-4832</td><td class=\"lj\">(462) 935-6602 x14214</td><td class=\"lj\">(983) 864-8762 x716</td><td class=\"lj\">242-384-8104</td></tr></tbody></table></td><td class=\"lj\"><table id=\"Employees-4\" class=\"outer containerx\"><thead><tr class=\"trx\"><th class=\"lh edge\" onclick=\"showNextColumn('Employees-4')\" >Employees</th>\r\n",
       "<th class=\"th\">1/5</th><th class=\"th\">2/5</th><th class=\"th\">3/5</th><th class=\"th\">4/5</th><th class=\"th\">5/5</th></tr></thead><tbody><tr class=\"trx\"><td class=\"lh\" onclick=\"showNextColumn('Employees-1')\">Id</td><td class=\"lj\">1063</td><td class=\"lj\">1064</td><td class=\"lj\">1065</td><td class=\"lj\">1066</td><td class=\"lj\">1067</td></tr><tr class=\"trx\"><td class=\"lh\" onclick=\"showNextColumn('Employees-1')\">Name</td><td class=\"lj\">Eino Durgan</td><td class=\"lj\">Nora Harris</td><td class=\"lj\">Murray Daugherty</td><td class=\"lj\">Tre Marvin</td><td class=\"lj\">Gina Yundt</td></tr><tr class=\"trx\"><td class=\"lh\" onclick=\"showNextColumn('Employees-1')\">Title</td><td class=\"lj\">Lead Research Architect</td><td class=\"lj\">Global Identity Associate</td><td class=\"lj\">Future Data Specialist</td><td class=\"lj\">Future Markets Consultant</td><td class=\"lj\">Customer Web Strategist</td></tr><tr class=\"trx\"><td class=\"lh\" onclick=\"showNextColumn('Employees-1')\">Email</td><td class=\"lj\">Tremaine.Crooks3@yahoo.com</td><td class=\"lj\">Hiram.Littel@gmail.com</td><td class=\"lj\">Darrion_Blick@gmail.com</td><td class=\"lj\">Westley_Kiehn@hotmail.com</td><td class=\"lj\">Ericka23@hotmail.com</td></tr><tr class=\"trx\"><td class=\"lh\" onclick=\"showNextColumn('Employees-1')\">Telephone</td><td class=\"lj\">1-235-493-7942 x089</td><td class=\"lj\">824-551-7837 x306</td><td class=\"lj\">1-792-373-7096 x07262</td><td class=\"lj\">203.731.8886</td><td class=\"lj\">348-755-4963</td></tr></tbody></table></td><td class=\"lj\"><table id=\"Employees-5\" class=\"outer containerx\"><thead><tr class=\"trx\"><th class=\"lh edge\" onclick=\"showNextColumn('Employees-5')\" >Employees</th>\r\n",
       "<th class=\"th\">1/5</th><th class=\"th\">2/5</th><th class=\"th\">3/5</th><th class=\"th\">4/5</th><th class=\"th\">5/5</th></tr></thead><tbody><tr class=\"trx\"><td class=\"lh\" onclick=\"showNextColumn('Employees-1')\">Id</td><td class=\"lj\">1079</td><td class=\"lj\">1080</td><td class=\"lj\">1081</td><td class=\"lj\">1082</td><td class=\"lj\">1083</td></tr><tr class=\"trx\"><td class=\"lh\" onclick=\"showNextColumn('Employees-1')\">Name</td><td class=\"lj\">Torey Dicki</td><td class=\"lj\">Gia Heidenreich</td><td class=\"lj\">Miguel Stoltenberg</td><td class=\"lj\">Jennyfer Hammes</td><td class=\"lj\">Fatima Treutel</td></tr><tr class=\"trx\"><td class=\"lh\" onclick=\"showNextColumn('Employees-1')\">Title</td><td class=\"lj\">Lead Creative Producer</td><td class=\"lj\">Future Tactics Architect</td><td class=\"lj\">Central Usability Associate</td><td class=\"lj\">Product Program Officer</td><td class=\"lj\">National Operations Officer</td></tr><tr class=\"trx\"><td class=\"lh\" onclick=\"showNextColumn('Employees-1')\">Email</td><td class=\"lj\">Okey_Metz@gmail.com</td><td class=\"lj\">Alexanne_Collier62@yahoo.com</td><td class=\"lj\">Shemar_Yundt@gmail.com</td><td class=\"lj\">Peyton_Schiller55@gmail.com</td><td class=\"lj\">Keshaun.Jerde28@yahoo.com</td></tr><tr class=\"trx\"><td class=\"lh\" onclick=\"showNextColumn('Employees-1')\">Telephone</td><td class=\"lj\">1-877-257-7117</td><td class=\"lj\">1-404-316-0912 x7168</td><td class=\"lj\">662-773-8911 x7812</td><td class=\"lj\">(383) 261-0208</td><td class=\"lj\">849.538.1958</td></tr></tbody></table></td></tr></tbody></table>\r\n",
       "</tbody></table></div>\n",
       "    <h3>Array rendered raw in-line</h3>\n",
       "    <table id=\"Array-1\" class=\"outer containerx\"><thead><tr class=\"trx\"><th class=\"lh edge\" onclick=\"showNextColumn('Array-1')\" >Array</th>\r\n",
       "<th class=\"th\">1/5</th><th class=\"th\">2/5</th><th class=\"th\">3/5</th><th class=\"th\">4/5</th><th class=\"th\">5/5</th></tr></thead><tbody><tr class=\"trx\"><td class=\"lh\" onclick=\"showNextColumn('Array-1')\">LocationName</td><td class=\"lj\">South Elenor</td><td class=\"lj\">Huelsshire</td><td class=\"lj\">Hudsonchester</td><td class=\"lj\">Uptonchester</td><td class=\"lj\">Nicolettebury</td></tr><tr class=\"trx\"><td class=\"lh\" onclick=\"showNextColumn('Array-1')\">TelephoneNumbers</td><td class=\"lj\"><div class=\"narrow array\"><table class=\"tablex sub neg\"><tr class=\"trx tall\">\r\n",
       "<td class=\"lj item\">631-997-8075</td><td class=\"lj item\">(527) 582-3900 x321</td><td class=\"lj item\">1-383-933-0896 x463</td><td class=\"lj item\">557.385.7083 x72451</td><td class=\"lj item\">(442) 223-4666 x112</td><td class=\"lj item\">(724) 262-6533 x87105</td><td class=\"lj item\">1-282-598-1237</td><td class=\"lj item\">(528) 720-4793 x6805</td><td class=\"lj item\">1-768-205-3415</td><td class=\"lj item\">(600) 263-4689 x828</td><td class=\"lj item\">586.340.4724 x903</td><td class=\"lj item\">1-580-441-7527 x67372</td><td class=\"lj item\">556-211-2732 x48278</td><td class=\"lj item\">(856) 464-6875</td><td class=\"lj item\">1-316-244-4070</td></tr></table></div></td><td class=\"lj\"><div class=\"narrow array\"><table class=\"tablex sub neg\"><tr class=\"trx tall\">\r\n",
       "<td class=\"lj item\">302.704.8336 x3489</td><td class=\"lj item\">901.471.7444 x7442</td><td class=\"lj item\">605-627-6164</td><td class=\"lj item\">309-673-6156 x978</td><td class=\"lj item\">(664) 485-5866</td><td class=\"lj item\">928-260-7156 x1950</td><td class=\"lj item\">1-480-685-9083</td><td class=\"lj item\">1-736-798-1220 x072</td><td class=\"lj item\">(447) 880-1719</td><td class=\"lj item\">(238) 560-0514 x7532</td><td class=\"lj item\">757-551-0617 x747</td><td class=\"lj item\">1-565-559-6773</td><td class=\"lj item\">361-367-2079 x6903</td><td class=\"lj item\">(945) 222-5201 x1133</td><td class=\"lj item\">1-419-215-2365 x315</td></tr></table></div></td><td class=\"lj\"><div class=\"narrow array\"><table class=\"tablex sub neg\"><tr class=\"trx tall\">\r\n",
       "<td class=\"lj item\">295.859.8275</td><td class=\"lj item\">966-736-7135</td><td class=\"lj item\">502.389.8512 x2052</td><td class=\"lj item\">251-363-2996 x789</td><td class=\"lj item\">585.462.5388 x2884</td><td class=\"lj item\">662.935.1402</td><td class=\"lj item\">1-594-992-5849</td><td class=\"lj item\">1-444-547-1041 x781</td><td class=\"lj item\">1-613-341-3604 x99996</td><td class=\"lj item\">(760) 405-3979</td><td class=\"lj item\">1-320-678-9014</td><td class=\"lj item\">1-253-555-3792 x66052</td><td class=\"lj item\">366-388-5628 x2980</td><td class=\"lj item\">299.476.1987 x6855</td><td class=\"lj item\">(589) 595-7430 x043</td></tr></table></div></td><td class=\"lj\"><div class=\"narrow array\"><table class=\"tablex sub neg\"><tr class=\"trx tall\">\r\n",
       "<td class=\"lj item\">1-938-955-9666 x75692</td><td class=\"lj item\">(713) 473-2882 x2306</td><td class=\"lj item\">(729) 203-1485</td><td class=\"lj item\">503.601.8033</td><td class=\"lj item\">238.439.0744 x31397</td><td class=\"lj item\">699-785-3261</td><td class=\"lj item\">364.616.1448 x6622</td><td class=\"lj item\">349-409-6244 x92651</td><td class=\"lj item\">1-746-240-6647</td><td class=\"lj item\">(355) 391-5159</td><td class=\"lj item\">910-510-1266 x4302</td><td class=\"lj item\">1-998-347-3717</td><td class=\"lj item\">420.906.6207</td><td class=\"lj item\">1-682-588-9179 x6772</td><td class=\"lj item\">350.765.4371</td></tr></table></div></td><td class=\"lj\"><div class=\"narrow array\"><table class=\"tablex sub neg\"><tr class=\"trx tall\">\r\n",
       "<td class=\"lj item\">358-243-2510 x49582</td><td class=\"lj item\">257-998-7647</td><td class=\"lj item\">425-647-1719 x11506</td><td class=\"lj item\">246-806-4924 x982</td><td class=\"lj item\">365-566-5612</td><td class=\"lj item\">(641) 688-7426 x179</td><td class=\"lj item\">1-287-867-3307</td><td class=\"lj item\">1-495-400-7885 x10691</td><td class=\"lj item\">886-297-8293 x195</td><td class=\"lj item\">621-741-9451 x1624</td><td class=\"lj item\">1-503-395-9020 x79801</td><td class=\"lj item\">487.862.1339</td><td class=\"lj item\">1-665-838-1680</td><td class=\"lj item\">1-871-392-0527</td><td class=\"lj item\">328-567-1340 x67105</td></tr></table></div></td></tr><tr class=\"trx\"><td class=\"lh\" onclick=\"showNextColumn('Array-1')\">AddressRows</td><td class=\"lj\"><div class=\"narrow array\"><table class=\"tablex sub neg\"><tr class=\"trx tall\">\r\n",
       "<td class=\"lj item\">4499 Klein Mountains</td><td class=\"lj item\">359 Pouros Lane</td><td class=\"lj item\">8422 Luettgen Turnpike</td><td class=\"lj item\">09258 Zetta Passage</td><td class=\"lj item\">345 Legros Burgs</td><td class=\"lj item\">95443 Schultz Place</td><td class=\"lj item\">77234 Roob Mountains</td><td class=\"lj item\">2655 Conn Junctions</td><td class=\"lj item\">054 Tillman Row</td><td class=\"lj item\">85912 Legros Ford</td><td class=\"lj item\">245 Watsica Gateway</td><td class=\"lj item\">704 Hettie Locks</td><td class=\"lj item\">8304 Willie Drive</td><td class=\"lj item\">70433 Reinger Pine</td><td class=\"lj item\">7304 Lennie Village</td></tr></table></div></td><td class=\"lj\"><div class=\"narrow array\"><table class=\"tablex sub neg\"><tr class=\"trx tall\">\r\n",
       "<td class=\"lj item\">226 Jacklyn Hills</td><td class=\"lj item\">176 Heathcote Cliff</td><td class=\"lj item\">3660 Cornell Course</td><td class=\"lj item\">2982 Gerardo Ranch</td><td class=\"lj item\">83308 Crona Forges</td><td class=\"lj item\">265 Steuber View</td><td class=\"lj item\">0510 Adolph Avenue</td><td class=\"lj item\">97939 Thora Lock</td><td class=\"lj item\">51572 Schroeder Shoal</td><td class=\"lj item\">2679 Weissnat Haven</td><td class=\"lj item\">461 Wolf Passage</td><td class=\"lj item\">368 Heaney Ridge</td><td class=\"lj item\">22872 Hilda Knolls</td><td class=\"lj item\">09228 Tyree Rapid</td><td class=\"lj item\">48528 Langosh Glen</td></tr></table></div></td><td class=\"lj\"><div class=\"narrow array\"><table class=\"tablex sub neg\"><tr class=\"trx tall\">\r\n",
       "<td class=\"lj item\">546 Zboncak Mountains</td><td class=\"lj item\">68474 Norris Mount</td><td class=\"lj item\">76280 Gordon Knoll</td><td class=\"lj item\">505 Alia Junctions</td><td class=\"lj item\">83274 Rice Coves</td><td class=\"lj item\">526 Rolfson Island</td><td class=\"lj item\">426 Smith Corners</td><td class=\"lj item\">12014 Boehm Estates</td><td class=\"lj item\">49151 Jacobi Flats</td><td class=\"lj item\">234 Matt Lake</td><td class=\"lj item\">2383 Breitenberg Village</td><td class=\"lj item\">619 DuBuque Trafficway</td><td class=\"lj item\">17233 Jermain Hollow</td><td class=\"lj item\">63998 Lorenz Park</td><td class=\"lj item\">123 Chad Wells</td></tr></table></div></td><td class=\"lj\"><div class=\"narrow array\"><table class=\"tablex sub neg\"><tr class=\"trx tall\">\r\n",
       "<td class=\"lj item\">14746 Lakin Mews</td><td class=\"lj item\">06087 Torp Divide</td><td class=\"lj item\">5668 Homenick Inlet</td><td class=\"lj item\">42988 Shirley Skyway</td><td class=\"lj item\">75625 Abbigail Prairie</td><td class=\"lj item\">073 Zboncak Springs</td><td class=\"lj item\">6171 Nicolas Forge</td><td class=\"lj item\">50030 Jones Roads</td><td class=\"lj item\">3763 Ondricka Avenue</td><td class=\"lj item\">4485 Zechariah Camp</td><td class=\"lj item\">195 Roberts Ramp</td><td class=\"lj item\">641 Heaven Springs</td><td class=\"lj item\">321 Jeff Center</td><td class=\"lj item\">96121 Kuvalis Mountain</td><td class=\"lj item\">821 Carlo Path</td></tr></table></div></td><td class=\"lj\"><div class=\"narrow array\"><table class=\"tablex sub neg\"><tr class=\"trx tall\">\r\n",
       "<td class=\"lj item\">83074 Heaney Mountains</td><td class=\"lj item\">284 Vicky Skyway</td><td class=\"lj item\">438 Jessika Ford</td><td class=\"lj item\">7594 Frami Hill</td><td class=\"lj item\">5010 Tristin Falls</td><td class=\"lj item\">69953 Kasandra Haven</td><td class=\"lj item\">09652 Eugenia Villages</td><td class=\"lj item\">30441 Elliott Prairie</td><td class=\"lj item\">2012 Abe Circle</td><td class=\"lj item\">51787 Hannah Mall</td><td class=\"lj item\">0288 Ezekiel Mews</td><td class=\"lj item\">9690 Greenfelder Overpass</td><td class=\"lj item\">059 Abelardo Extension</td><td class=\"lj item\">946 Fay Burg</td><td class=\"lj item\">8286 Casper Bridge</td></tr></table></div></td></tr><tr class=\"trx\"><td class=\"lh\" onclick=\"showNextColumn('Array-1')\">EmployeeCount</td><td class=\"lj\">20</td><td class=\"lj\">23</td><td class=\"lj\">20</td><td class=\"lj\">16</td><td class=\"lj\">16</td></tr><tr class=\"trx\"><td class=\"lh\" onclick=\"showNextColumn('Employees-1')\">Employees</td><td class=\"lj\"><table id=\"Employees-1\" class=\"outer containerx\"><thead><tr class=\"trx\"><th class=\"lh edge\" onclick=\"showNextColumn('Employees-1')\" >Employees</th>\r\n",
       "<th class=\"th\">1/5</th><th class=\"th\">2/5</th><th class=\"th\">3/5</th><th class=\"th\">4/5</th><th class=\"th\">5/5</th></tr></thead><tbody><tr class=\"trx\"><td class=\"lh\" onclick=\"showNextColumn('Employees-1')\">Id</td><td class=\"lj\">1000</td><td class=\"lj\">1001</td><td class=\"lj\">1002</td><td class=\"lj\">1003</td><td class=\"lj\">1004</td></tr><tr class=\"trx\"><td class=\"lh\" onclick=\"showNextColumn('Employees-1')\">Name</td><td class=\"lj\">Thalia Ferry</td><td class=\"lj\">Opal Goyette</td><td class=\"lj\">Emanuel Daniel</td><td class=\"lj\">Brice Sporer</td><td class=\"lj\">Haskell Ortiz</td></tr><tr class=\"trx\"><td class=\"lh\" onclick=\"showNextColumn('Employees-1')\">Title</td><td class=\"lj\">Global Program Technician</td><td class=\"lj\">Forward Quality Coordinator</td><td class=\"lj\">International Tactics Producer</td><td class=\"lj\">District Solutions Officer</td><td class=\"lj\">Internal Infrastructure Planner</td></tr><tr class=\"trx\"><td class=\"lh\" onclick=\"showNextColumn('Employees-1')\">Email</td><td class=\"lj\">Isaias_Paucek@hotmail.com</td><td class=\"lj\">Ayden.Koss@hotmail.com</td><td class=\"lj\">Kianna.Strosin@gmail.com</td><td class=\"lj\">Conner.McDermott@yahoo.com</td><td class=\"lj\">Jaden47@yahoo.com</td></tr><tr class=\"trx\"><td class=\"lh\" onclick=\"showNextColumn('Employees-1')\">Telephone</td><td class=\"lj\">(276) 418-9965</td><td class=\"lj\">(693) 820-1198</td><td class=\"lj\">(500) 685-5306 x12238</td><td class=\"lj\">298.625.4110</td><td class=\"lj\">1-922-419-3799 x700</td></tr></tbody></table></td><td class=\"lj\"><table id=\"Employees-2\" class=\"outer containerx\"><thead><tr class=\"trx\"><th class=\"lh edge\" onclick=\"showNextColumn('Employees-2')\" >Employees</th>\r\n",
       "<th class=\"th\">1/5</th><th class=\"th\">2/5</th><th class=\"th\">3/5</th><th class=\"th\">4/5</th><th class=\"th\">5/5</th></tr></thead><tbody><tr class=\"trx\"><td class=\"lh\" onclick=\"showNextColumn('Employees-1')\">Id</td><td class=\"lj\">1020</td><td class=\"lj\">1021</td><td class=\"lj\">1022</td><td class=\"lj\">1023</td><td class=\"lj\">1024</td></tr><tr class=\"trx\"><td class=\"lh\" onclick=\"showNextColumn('Employees-1')\">Name</td><td class=\"lj\">Nicolas Gerlach</td><td class=\"lj\">Nayeli Mayer</td><td class=\"lj\">Claudine Durgan</td><td class=\"lj\">Alysson Gaylord</td><td class=\"lj\">Lacy Wintheiser</td></tr><tr class=\"trx\"><td class=\"lh\" onclick=\"showNextColumn('Employees-1')\">Title</td><td class=\"lj\">District Accountability Associate</td><td class=\"lj\">Direct Data Director</td><td class=\"lj\">Product Configuration Orchestrator</td><td class=\"lj\">Customer Communications Coordinator</td><td class=\"lj\">Product Branding Strategist</td></tr><tr class=\"trx\"><td class=\"lh\" onclick=\"showNextColumn('Employees-1')\">Email</td><td class=\"lj\">Jayne_Bartell@gmail.com</td><td class=\"lj\">Tillman.Reichel41@yahoo.com</td><td class=\"lj\">Vickie.Ritchie0@hotmail.com</td><td class=\"lj\">Laurine_Altenwerth36@yahoo.com</td><td class=\"lj\">Andreane93@gmail.com</td></tr><tr class=\"trx\"><td class=\"lh\" onclick=\"showNextColumn('Employees-1')\">Telephone</td><td class=\"lj\">(510) 475-3440 x5944</td><td class=\"lj\">310-364-3318</td><td class=\"lj\">277.503.5469 x31398</td><td class=\"lj\">218.988.2590 x03324</td><td class=\"lj\">708.206.9748 x399</td></tr></tbody></table></td><td class=\"lj\"><table id=\"Employees-3\" class=\"outer containerx\"><thead><tr class=\"trx\"><th class=\"lh edge\" onclick=\"showNextColumn('Employees-3')\" >Employees</th>\r\n",
       "<th class=\"th\">1/5</th><th class=\"th\">2/5</th><th class=\"th\">3/5</th><th class=\"th\">4/5</th><th class=\"th\">5/5</th></tr></thead><tbody><tr class=\"trx\"><td class=\"lh\" onclick=\"showNextColumn('Employees-1')\">Id</td><td class=\"lj\">1043</td><td class=\"lj\">1044</td><td class=\"lj\">1045</td><td class=\"lj\">1046</td><td class=\"lj\">1047</td></tr><tr class=\"trx\"><td class=\"lh\" onclick=\"showNextColumn('Employees-1')\">Name</td><td class=\"lj\">Clifford Daniel</td><td class=\"lj\">Cora Parker</td><td class=\"lj\">Jaden Paucek</td><td class=\"lj\">Idell Beahan</td><td class=\"lj\">Elena Christiansen</td></tr><tr class=\"trx\"><td class=\"lh\" onclick=\"showNextColumn('Employees-1')\">Title</td><td class=\"lj\">Direct Markets Administrator</td><td class=\"lj\">Future Paradigm Producer</td><td class=\"lj\">Dynamic Marketing Officer</td><td class=\"lj\">Internal Configuration Engineer</td><td class=\"lj\">Direct Accounts Analyst</td></tr><tr class=\"trx\"><td class=\"lh\" onclick=\"showNextColumn('Employees-1')\">Email</td><td class=\"lj\">Ashly.Brekke7@gmail.com</td><td class=\"lj\">Issac73@yahoo.com</td><td class=\"lj\">Sonia.Willms88@yahoo.com</td><td class=\"lj\">Jameson_Hirthe@gmail.com</td><td class=\"lj\">Hailie64@hotmail.com</td></tr><tr class=\"trx\"><td class=\"lh\" onclick=\"showNextColumn('Employees-1')\">Telephone</td><td class=\"lj\">(421) 575-1288 x70023</td><td class=\"lj\">448-384-4832</td><td class=\"lj\">(462) 935-6602 x14214</td><td class=\"lj\">(983) 864-8762 x716</td><td class=\"lj\">242-384-8104</td></tr></tbody></table></td><td class=\"lj\"><table id=\"Employees-4\" class=\"outer containerx\"><thead><tr class=\"trx\"><th class=\"lh edge\" onclick=\"showNextColumn('Employees-4')\" >Employees</th>\r\n",
       "<th class=\"th\">1/5</th><th class=\"th\">2/5</th><th class=\"th\">3/5</th><th class=\"th\">4/5</th><th class=\"th\">5/5</th></tr></thead><tbody><tr class=\"trx\"><td class=\"lh\" onclick=\"showNextColumn('Employees-1')\">Id</td><td class=\"lj\">1063</td><td class=\"lj\">1064</td><td class=\"lj\">1065</td><td class=\"lj\">1066</td><td class=\"lj\">1067</td></tr><tr class=\"trx\"><td class=\"lh\" onclick=\"showNextColumn('Employees-1')\">Name</td><td class=\"lj\">Eino Durgan</td><td class=\"lj\">Nora Harris</td><td class=\"lj\">Murray Daugherty</td><td class=\"lj\">Tre Marvin</td><td class=\"lj\">Gina Yundt</td></tr><tr class=\"trx\"><td class=\"lh\" onclick=\"showNextColumn('Employees-1')\">Title</td><td class=\"lj\">Lead Research Architect</td><td class=\"lj\">Global Identity Associate</td><td class=\"lj\">Future Data Specialist</td><td class=\"lj\">Future Markets Consultant</td><td class=\"lj\">Customer Web Strategist</td></tr><tr class=\"trx\"><td class=\"lh\" onclick=\"showNextColumn('Employees-1')\">Email</td><td class=\"lj\">Tremaine.Crooks3@yahoo.com</td><td class=\"lj\">Hiram.Littel@gmail.com</td><td class=\"lj\">Darrion_Blick@gmail.com</td><td class=\"lj\">Westley_Kiehn@hotmail.com</td><td class=\"lj\">Ericka23@hotmail.com</td></tr><tr class=\"trx\"><td class=\"lh\" onclick=\"showNextColumn('Employees-1')\">Telephone</td><td class=\"lj\">1-235-493-7942 x089</td><td class=\"lj\">824-551-7837 x306</td><td class=\"lj\">1-792-373-7096 x07262</td><td class=\"lj\">203.731.8886</td><td class=\"lj\">348-755-4963</td></tr></tbody></table></td><td class=\"lj\"><table id=\"Employees-5\" class=\"outer containerx\"><thead><tr class=\"trx\"><th class=\"lh edge\" onclick=\"showNextColumn('Employees-5')\" >Employees</th>\r\n",
       "<th class=\"th\">1/5</th><th class=\"th\">2/5</th><th class=\"th\">3/5</th><th class=\"th\">4/5</th><th class=\"th\">5/5</th></tr></thead><tbody><tr class=\"trx\"><td class=\"lh\" onclick=\"showNextColumn('Employees-1')\">Id</td><td class=\"lj\">1079</td><td class=\"lj\">1080</td><td class=\"lj\">1081</td><td class=\"lj\">1082</td><td class=\"lj\">1083</td></tr><tr class=\"trx\"><td class=\"lh\" onclick=\"showNextColumn('Employees-1')\">Name</td><td class=\"lj\">Torey Dicki</td><td class=\"lj\">Gia Heidenreich</td><td class=\"lj\">Miguel Stoltenberg</td><td class=\"lj\">Jennyfer Hammes</td><td class=\"lj\">Fatima Treutel</td></tr><tr class=\"trx\"><td class=\"lh\" onclick=\"showNextColumn('Employees-1')\">Title</td><td class=\"lj\">Lead Creative Producer</td><td class=\"lj\">Future Tactics Architect</td><td class=\"lj\">Central Usability Associate</td><td class=\"lj\">Product Program Officer</td><td class=\"lj\">National Operations Officer</td></tr><tr class=\"trx\"><td class=\"lh\" onclick=\"showNextColumn('Employees-1')\">Email</td><td class=\"lj\">Okey_Metz@gmail.com</td><td class=\"lj\">Alexanne_Collier62@yahoo.com</td><td class=\"lj\">Shemar_Yundt@gmail.com</td><td class=\"lj\">Peyton_Schiller55@gmail.com</td><td class=\"lj\">Keshaun.Jerde28@yahoo.com</td></tr><tr class=\"trx\"><td class=\"lh\" onclick=\"showNextColumn('Employees-1')\">Telephone</td><td class=\"lj\">1-877-257-7117</td><td class=\"lj\">1-404-316-0912 x7168</td><td class=\"lj\">662-773-8911 x7812</td><td class=\"lj\">(383) 261-0208</td><td class=\"lj\">849.538.1958</td></tr></tbody></table></td></tr></tbody></table>\n",
       "    <hr>\n",
       "  </body>\n",
       "</html></div>"
      ]
     },
     "metadata": {},
     "output_type": "display_data"
    }
   ],
   "source": [
    "// Or we could use Razor:\n",
    "#!csharp\n",
    "\n",
    "// Write a local css file to sytle things:\n",
    "Nest.ToFile(Nest.GetCss(options), \"./local-test.css\");\n",
    "// generate a couple of json strings, one for the object, one for the array:\n",
    "var A = Nest.RenderHtmlScrolling(objectJson, \"Object\", 5);\n",
    "var B = Nest.RenderHtmlScrolling(arrayJson, \"Array\", 5);\n",
    "\n",
    "// display both in a razor page directly: (the @Model exposes any variables form NetInteractive)\n",
    "#!razor\n",
    "<html>\n",
    "  <head>\n",
    "    <link rel=\"stylesheet\" href=\"./local-test.css\">\n",
    "  </head>\n",
    "  <body>\n",
    "    <h3>Object rendered raw in-line</h3>\n",
    "    @Raw(@Model.A)\n",
    "    <h3>Array rendered raw in-line</h3>\n",
    "    @Raw(@Model.B)\n",
    "    <hr>\n",
    "  </body>\n",
    "</html>"
   ]
  }
 ],
 "metadata": {
  "kernelspec": {
   "display_name": ".NET (C#)",
   "language": "C#",
   "name": ".net-csharp"
  },
  "language_info": {
   "name": "polyglot-notebook"
  },
  "polyglot_notebook": {
   "kernelInfo": {
    "defaultKernelName": "csharp",
    "items": [
     {
      "aliases": [],
      "name": "csharp"
     },
     {
      "aliases": [],
      "name": "razor"
     }
    ]
   }
  }
 },
 "nbformat": 4,
 "nbformat_minor": 2
}
