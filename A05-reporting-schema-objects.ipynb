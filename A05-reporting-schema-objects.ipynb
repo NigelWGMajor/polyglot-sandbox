{
 "cells": [
  {
   "attachments": {},
   "cell_type": "markdown",
   "metadata": {},
   "source": [
    "# Schema Discovery\n",
    "\n",
    "Collecting schema information from the database definitions.\n",
    "Intended to extract the schema existing Reporting metadata for further examination."
   ]
  },
  {
   "cell_type": "markdown",
   "metadata": {},
   "source": []
  },
  {
   "cell_type": "code",
   "execution_count": 1,
   "metadata": {
    "dotnet_interactive": {
     "language": "csharp"
    },
    "polyglot_notebook": {
     "kernelName": "csharp"
    },
    "vscode": {
     "languageId": "polyglot-notebook"
    }
   },
   "outputs": [
    {
     "data": {
      "text/html": [
       "<div><div></div><div></div><div><strong>Installed Packages</strong><ul><li><span>Microsoft.Data.SqlClient, 5.1.4</span></li><li><span>Newtonsoft.Json, 13.0.3</span></li></ul></div></div>"
      ]
     },
     "metadata": {},
     "output_type": "display_data"
    }
   ],
   "source": [
    "// install packages here:\n",
    "#r \"nuget: Microsoft.Data.SqlClient, 5.1.4\"\n",
    "#r \"nuget: Newtonsoft.Json, 13.0.3\""
   ]
  },
  {
   "cell_type": "code",
   "execution_count": 2,
   "metadata": {
    "dotnet_interactive": {
     "language": "csharp"
    },
    "polyglot_notebook": {
     "kernelName": "csharp"
    },
    "vscode": {
     "languageId": "polyglot-notebook"
    }
   },
   "outputs": [],
   "source": [
    "// General usings (needed for intellisense to work below)\n",
    "using Microsoft.Data.SqlClient;\n",
    "using Newtonsoft.Json;\n",
    "using System.IO;"
   ]
  },
  {
   "attachments": {},
   "cell_type": "markdown",
   "metadata": {},
   "source": [
    "### Verify the connections work\n",
    "\n",
    "Adjust the credentials if necessary."
   ]
  },
  {
   "cell_type": "code",
   "execution_count": 3,
   "metadata": {
    "dotnet_interactive": {
     "language": "csharp"
    },
    "polyglot_notebook": {
     "kernelName": "csharp"
    },
    "vscode": {
     "languageId": "polyglot-notebook"
    }
   },
   "outputs": [
    {
     "name": "stdout",
     "output_type": "stream",
     "text": [
      "Connection: Open succeeded.\r\n"
     ]
    }
   ],
   "source": [
    "// verify the connection credentials work\n",
    "internal string credentials  = System.Environment.GetEnvironmentVariable(\"NIX_DB_DG\");\n",
    "try\n",
    "{\n",
    "    using (var connection = new Microsoft.Data.SqlClient.SqlConnection(credentials))\n",
    "    {   connection.Open();\n",
    "        var x = connection.State;\n",
    "        Console.WriteLine($\"Connection: {x} succeeded.\"); \n",
    "    }\n",
    "}\n",
    "catch (Exception ex)\n",
    "{\n",
    "    Console.WriteLine($\"{ex.Message}\"); \n",
    "}"
   ]
  },
  {
   "attachments": {},
   "cell_type": "markdown",
   "metadata": {},
   "source": [
    "### Support code\n",
    "\n",
    "Functions and classes to provide lookup functionality"
   ]
  },
  {
   "cell_type": "code",
   "execution_count": 4,
   "metadata": {
    "dotnet_interactive": {
     "language": "csharp"
    },
    "polyglot_notebook": {
     "kernelName": "csharp"
    },
    "vscode": {
     "languageId": "polyglot-notebook"
    }
   },
   "outputs": [],
   "source": [
    "// A function to prettify json\n",
    "internal string Prettify(string json)\n",
    "{\n",
    "   return Newtonsoft.Json.Linq.JToken.Parse(json).ToString(Newtonsoft.Json.Formatting.Indented);\n",
    "}\n",
    "// Let's define some classes to manage our schema information\n",
    "\n",
    "public class TableDefinition\n",
    "{\n",
    "    public string SchemaName { get; set; }\n",
    "    public string TableName {get; set;}\n",
    "    public List<ColumnDefinition> Columns {get; set; }\n",
    "}\n",
    "public class ColumnDefinition\n",
    "{\n",
    "    public string ColumnName {get; set; }\n",
    "    public string DataType { get; set; }\n",
    "    public bool IsNullable {get; set; }\n",
    "    public int Size { get; set; }\n",
    "}\n",
    "// A function to retrieve schema information for one table\n",
    "internal string GetTableSchema(string schemaName, string tableName)\n",
    "{\n",
    "    string sql = \n",
    "        $\"select '{schemaName}' SchemaName, '{tableName}' TableName, \"\n",
    "        +\"(select column_name ColumnName, data_type DataType, \"\n",
    "        +\"case when is_nullable='yes' then 1 else 0 end IsNullable, \"\n",
    "        +\"isnull(character_maximum_length, 0) Size \"\n",
    "        +$\"from information_schema.columns where TABLE_SCHEMA = '{schemaName}' and \"\n",
    "        +$\"TABLE_NAME = '{tableName}' order by ordinal_position \"\n",
    "        +\"for json path) Columns for json path, \"\n",
    "        +\"WITHOUT_ARRAY_WRAPPER\"; // because we are only getting a single result\n",
    "\n",
    "    // Console.WriteLine(sql);\n",
    "    using (var connection = new SqlConnection(credentials))\n",
    "    {\n",
    "        using (var command = new SqlCommand(sql, connection))\n",
    "        {\n",
    "            connection.Open();\n",
    "            var result = new StringBuilder();\n",
    "            var reader = command.ExecuteReader();\n",
    "            if (!reader.HasRows)\n",
    "            {\n",
    "                result.Append(\"{}\");// empty object\n",
    "            }\n",
    "            else\n",
    "            {\n",
    "                while (reader.Read())\n",
    "                {\n",
    "                    result.Append(reader.GetValue(0).ToString());\n",
    "                }\n",
    "            }\n",
    "            return result.ToString();\n",
    "        }\n",
    "    }\n",
    "}\n",
    "    \n",
    "public TableDefinition GetTableDefinition(string schemaName, string tableName)\n",
    "{\n",
    "   // Test against a single table\n",
    "   var x = GetTableSchema(schemaName, tableName);\n",
    "   // Console.WriteLine(Prettify(x));\n",
    "   return Newtonsoft.Json.JsonConvert.DeserializeObject<TableDefinition>(x);\n",
    "}"
   ]
  },
  {
   "attachments": {},
   "cell_type": "markdown",
   "metadata": {},
   "source": [
    "### Test against a couple of tables\n"
   ]
  },
  {
   "cell_type": "code",
   "execution_count": 5,
   "metadata": {
    "dotnet_interactive": {
     "language": "csharp"
    },
    "polyglot_notebook": {
     "kernelName": "csharp"
    },
    "vscode": {
     "languageId": "polyglot-notebook"
    }
   },
   "outputs": [
    {
     "data": {
      "text/html": [
       "<table><thead><tr><th><i>index</i></th><th>value</th></tr></thead><tbody><tr><td>0</td><td><details class=\"dni-treeview\"><summary><span class=\"dni-code-hint\"><code>Submission#5+TableDefinition</code></span></summary><div><table><thead><tr></tr></thead><tbody><tr><td>SchemaName</td><td><div class=\"dni-plaintext\"><pre>rpt</pre></div></td></tr><tr><td>TableName</td><td><div class=\"dni-plaintext\"><pre>Reports</pre></div></td></tr><tr><td>Columns</td><td><table><thead><tr><th><i>index</i></th><th>value</th></tr></thead><tbody><tr><td>0</td><td><details class=\"dni-treeview\"><summary><span class=\"dni-code-hint\"><code>Submission#5+ColumnDefinition</code></span></summary><div><table><thead><tr></tr></thead><tbody><tr><td>ColumnName</td><td><div class=\"dni-plaintext\"><pre>ReportId</pre></div></td></tr><tr><td>DataType</td><td><div class=\"dni-plaintext\"><pre>bigint</pre></div></td></tr><tr><td>IsNullable</td><td><div class=\"dni-plaintext\"><pre>False</pre></div></td></tr><tr><td>Size</td><td><div class=\"dni-plaintext\"><pre>0</pre></div></td></tr></tbody></table></div></details></td></tr><tr><td>1</td><td><details class=\"dni-treeview\"><summary><span class=\"dni-code-hint\"><code>Submission#5+ColumnDefinition</code></span></summary><div><table><thead><tr></tr></thead><tbody><tr><td>ColumnName</td><td><div class=\"dni-plaintext\"><pre>OrganizationId</pre></div></td></tr><tr><td>DataType</td><td><div class=\"dni-plaintext\"><pre>bigint</pre></div></td></tr><tr><td>IsNullable</td><td><div class=\"dni-plaintext\"><pre>False</pre></div></td></tr><tr><td>Size</td><td><div class=\"dni-plaintext\"><pre>0</pre></div></td></tr></tbody></table></div></details></td></tr><tr><td>2</td><td><details class=\"dni-treeview\"><summary><span class=\"dni-code-hint\"><code>Submission#5+ColumnDefinition</code></span></summary><div><table><thead><tr></tr></thead><tbody><tr><td>ColumnName</td><td><div class=\"dni-plaintext\"><pre>ReportType</pre></div></td></tr><tr><td>DataType</td><td><div class=\"dni-plaintext\"><pre>varchar</pre></div></td></tr><tr><td>IsNullable</td><td><div class=\"dni-plaintext\"><pre>False</pre></div></td></tr><tr><td>Size</td><td><div class=\"dni-plaintext\"><pre>100</pre></div></td></tr></tbody></table></div></details></td></tr><tr><td>3</td><td><details class=\"dni-treeview\"><summary><span class=\"dni-code-hint\"><code>Submission#5+ColumnDefinition</code></span></summary><div><table><thead><tr></tr></thead><tbody><tr><td>ColumnName</td><td><div class=\"dni-plaintext\"><pre>FileNameTemplate</pre></div></td></tr><tr><td>DataType</td><td><div class=\"dni-plaintext\"><pre>varchar</pre></div></td></tr><tr><td>IsNullable</td><td><div class=\"dni-plaintext\"><pre>True</pre></div></td></tr><tr><td>Size</td><td><div class=\"dni-plaintext\"><pre>500</pre></div></td></tr></tbody></table></div></details></td></tr><tr><td>4</td><td><details class=\"dni-treeview\"><summary><span class=\"dni-code-hint\"><code>Submission#5+ColumnDefinition</code></span></summary><div><table><thead><tr></tr></thead><tbody><tr><td>ColumnName</td><td><div class=\"dni-plaintext\"><pre>Enabled</pre></div></td></tr><tr><td>DataType</td><td><div class=\"dni-plaintext\"><pre>bit</pre></div></td></tr><tr><td>IsNullable</td><td><div class=\"dni-plaintext\"><pre>False</pre></div></td></tr><tr><td>Size</td><td><div class=\"dni-plaintext\"><pre>0</pre></div></td></tr></tbody></table></div></details></td></tr><tr><td>5</td><td><details class=\"dni-treeview\"><summary><span class=\"dni-code-hint\"><code>Submission#5+ColumnDefinition</code></span></summary><div><table><thead><tr></tr></thead><tbody><tr><td>ColumnName</td><td><div class=\"dni-plaintext\"><pre>Format</pre></div></td></tr><tr><td>DataType</td><td><div class=\"dni-plaintext\"><pre>varchar</pre></div></td></tr><tr><td>IsNullable</td><td><div class=\"dni-plaintext\"><pre>True</pre></div></td></tr><tr><td>Size</td><td><div class=\"dni-plaintext\"><pre>25</pre></div></td></tr></tbody></table></div></details></td></tr><tr><td>6</td><td><details class=\"dni-treeview\"><summary><span class=\"dni-code-hint\"><code>Submission#5+ColumnDefinition</code></span></summary><div><table><thead><tr></tr></thead><tbody><tr><td>ColumnName</td><td><div class=\"dni-plaintext\"><pre>TextQualifier</pre></div></td></tr><tr><td>DataType</td><td><div class=\"dni-plaintext\"><pre>varchar</pre></div></td></tr><tr><td>IsNullable</td><td><div class=\"dni-plaintext\"><pre>True</pre></div></td></tr><tr><td>Size</td><td><div class=\"dni-plaintext\"><pre>25</pre></div></td></tr></tbody></table></div></details></td></tr><tr><td>7</td><td><details class=\"dni-treeview\"><summary><span class=\"dni-code-hint\"><code>Submission#5+ColumnDefinition</code></span></summary><div><table><thead><tr></tr></thead><tbody><tr><td>ColumnName</td><td><div class=\"dni-plaintext\"><pre>TransmitterConfiguration</pre></div></td></tr><tr><td>DataType</td><td><div class=\"dni-plaintext\"><pre>nvarchar</pre></div></td></tr><tr><td>IsNullable</td><td><div class=\"dni-plaintext\"><pre>True</pre></div></td></tr><tr><td>Size</td><td><div class=\"dni-plaintext\"><pre>-1</pre></div></td></tr></tbody></table></div></details></td></tr><tr><td>8</td><td><details class=\"dni-treeview\"><summary><span class=\"dni-code-hint\"><code>Submission#5+ColumnDefinition</code></span></summary><div><table><thead><tr></tr></thead><tbody><tr><td>ColumnName</td><td><div class=\"dni-plaintext\"><pre>Parameters</pre></div></td></tr><tr><td>DataType</td><td><div class=\"dni-plaintext\"><pre>nvarchar</pre></div></td></tr><tr><td>IsNullable</td><td><div class=\"dni-plaintext\"><pre>True</pre></div></td></tr><tr><td>Size</td><td><div class=\"dni-plaintext\"><pre>2000</pre></div></td></tr></tbody></table></div></details></td></tr><tr><td>9</td><td><details class=\"dni-treeview\"><summary><span class=\"dni-code-hint\"><code>Submission#5+ColumnDefinition</code></span></summary><div><table><thead><tr></tr></thead><tbody><tr><td>ColumnName</td><td><div class=\"dni-plaintext\"><pre>ReportMethodId</pre></div></td></tr><tr><td>DataType</td><td><div class=\"dni-plaintext\"><pre>int</pre></div></td></tr><tr><td>IsNullable</td><td><div class=\"dni-plaintext\"><pre>True</pre></div></td></tr><tr><td>Size</td><td><div class=\"dni-plaintext\"><pre>0</pre></div></td></tr></tbody></table></div></details></td></tr><tr><td>10</td><td><details class=\"dni-treeview\"><summary><span class=\"dni-code-hint\"><code>Submission#5+ColumnDefinition</code></span></summary><div><table><thead><tr></tr></thead><tbody><tr><td>ColumnName</td><td><div class=\"dni-plaintext\"><pre>ReportTitle</pre></div></td></tr><tr><td>DataType</td><td><div class=\"dni-plaintext\"><pre>nvarchar</pre></div></td></tr><tr><td>IsNullable</td><td><div class=\"dni-plaintext\"><pre>True</pre></div></td></tr><tr><td>Size</td><td><div class=\"dni-plaintext\"><pre>100</pre></div></td></tr></tbody></table></div></details></td></tr><tr><td>11</td><td><details class=\"dni-treeview\"><summary><span class=\"dni-code-hint\"><code>Submission#5+ColumnDefinition</code></span></summary><div><table><thead><tr></tr></thead><tbody><tr><td>ColumnName</td><td><div class=\"dni-plaintext\"><pre>DateModified</pre></div></td></tr><tr><td>DataType</td><td><div class=\"dni-plaintext\"><pre>datetime2</pre></div></td></tr><tr><td>IsNullable</td><td><div class=\"dni-plaintext\"><pre>True</pre></div></td></tr><tr><td>Size</td><td><div class=\"dni-plaintext\"><pre>0</pre></div></td></tr></tbody></table></div></details></td></tr><tr><td>12</td><td><details class=\"dni-treeview\"><summary><span class=\"dni-code-hint\"><code>Submission#5+ColumnDefinition</code></span></summary><div><table><thead><tr></tr></thead><tbody><tr><td>ColumnName</td><td><div class=\"dni-plaintext\"><pre>ReportInstanceId</pre></div></td></tr><tr><td>DataType</td><td><div class=\"dni-plaintext\"><pre>bigint</pre></div></td></tr><tr><td>IsNullable</td><td><div class=\"dni-plaintext\"><pre>True</pre></div></td></tr><tr><td>Size</td><td><div class=\"dni-plaintext\"><pre>0</pre></div></td></tr></tbody></table></div></details></td></tr><tr><td>13</td><td><details class=\"dni-treeview\"><summary><span class=\"dni-code-hint\"><code>Submission#5+ColumnDefinition</code></span></summary><div><table><thead><tr></tr></thead><tbody><tr><td>ColumnName</td><td><div class=\"dni-plaintext\"><pre>IsScheduledInApp</pre></div></td></tr><tr><td>DataType</td><td><div class=\"dni-plaintext\"><pre>bit</pre></div></td></tr><tr><td>IsNullable</td><td><div class=\"dni-plaintext\"><pre>True</pre></div></td></tr><tr><td>Size</td><td><div class=\"dni-plaintext\"><pre>0</pre></div></td></tr></tbody></table></div></details></td></tr></tbody></table></td></tr></tbody></table></div></details></td></tr><tr><td>1</td><td><details class=\"dni-treeview\"><summary><span class=\"dni-code-hint\"><code>Submission#5+TableDefinition</code></span></summary><div><table><thead><tr></tr></thead><tbody><tr><td>SchemaName</td><td><div class=\"dni-plaintext\"><pre>rpt</pre></div></td></tr><tr><td>TableName</td><td><div class=\"dni-plaintext\"><pre>ReportDataTypes</pre></div></td></tr><tr><td>Columns</td><td><table><thead><tr><th><i>index</i></th><th>value</th></tr></thead><tbody><tr><td>0</td><td><details class=\"dni-treeview\"><summary><span class=\"dni-code-hint\"><code>Submission#5+ColumnDefinition</code></span></summary><div><table><thead><tr></tr></thead><tbody><tr><td>ColumnName</td><td><div class=\"dni-plaintext\"><pre>ReportDataTypeId</pre></div></td></tr><tr><td>DataType</td><td><div class=\"dni-plaintext\"><pre>bigint</pre></div></td></tr><tr><td>IsNullable</td><td><div class=\"dni-plaintext\"><pre>False</pre></div></td></tr><tr><td>Size</td><td><div class=\"dni-plaintext\"><pre>0</pre></div></td></tr></tbody></table></div></details></td></tr><tr><td>1</td><td><details class=\"dni-treeview\"><summary><span class=\"dni-code-hint\"><code>Submission#5+ColumnDefinition</code></span></summary><div><table><thead><tr></tr></thead><tbody><tr><td>ColumnName</td><td><div class=\"dni-plaintext\"><pre>LocalizationKey</pre></div></td></tr><tr><td>DataType</td><td><div class=\"dni-plaintext\"><pre>varchar</pre></div></td></tr><tr><td>IsNullable</td><td><div class=\"dni-plaintext\"><pre>False</pre></div></td></tr><tr><td>Size</td><td><div class=\"dni-plaintext\"><pre>100</pre></div></td></tr></tbody></table></div></details></td></tr><tr><td>2</td><td><details class=\"dni-treeview\"><summary><span class=\"dni-code-hint\"><code>Submission#5+ColumnDefinition</code></span></summary><div><table><thead><tr></tr></thead><tbody><tr><td>ColumnName</td><td><div class=\"dni-plaintext\"><pre>CreatedDate</pre></div></td></tr><tr><td>DataType</td><td><div class=\"dni-plaintext\"><pre>datetime2</pre></div></td></tr><tr><td>IsNullable</td><td><div class=\"dni-plaintext\"><pre>False</pre></div></td></tr><tr><td>Size</td><td><div class=\"dni-plaintext\"><pre>0</pre></div></td></tr></tbody></table></div></details></td></tr><tr><td>3</td><td><details class=\"dni-treeview\"><summary><span class=\"dni-code-hint\"><code>Submission#5+ColumnDefinition</code></span></summary><div><table><thead><tr></tr></thead><tbody><tr><td>ColumnName</td><td><div class=\"dni-plaintext\"><pre>ModifiedDate</pre></div></td></tr><tr><td>DataType</td><td><div class=\"dni-plaintext\"><pre>datetime2</pre></div></td></tr><tr><td>IsNullable</td><td><div class=\"dni-plaintext\"><pre>True</pre></div></td></tr><tr><td>Size</td><td><div class=\"dni-plaintext\"><pre>0</pre></div></td></tr></tbody></table></div></details></td></tr></tbody></table></td></tr></tbody></table></div></details></td></tr><tr><td>2</td><td><details class=\"dni-treeview\"><summary><span class=\"dni-code-hint\"><code>Submission#5+TableDefinition</code></span></summary><div><table><thead><tr></tr></thead><tbody><tr><td>SchemaName</td><td><div class=\"dni-plaintext\"><pre>rpt</pre></div></td></tr><tr><td>TableName</td><td><div class=\"dni-plaintext\"><pre>ReportColumns</pre></div></td></tr><tr><td>Columns</td><td><table><thead><tr><th><i>index</i></th><th>value</th></tr></thead><tbody><tr><td>0</td><td><details class=\"dni-treeview\"><summary><span class=\"dni-code-hint\"><code>Submission#5+ColumnDefinition</code></span></summary><div><table><thead><tr></tr></thead><tbody><tr><td>ColumnName</td><td><div class=\"dni-plaintext\"><pre>ReportColumnId</pre></div></td></tr><tr><td>DataType</td><td><div class=\"dni-plaintext\"><pre>bigint</pre></div></td></tr><tr><td>IsNullable</td><td><div class=\"dni-plaintext\"><pre>False</pre></div></td></tr><tr><td>Size</td><td><div class=\"dni-plaintext\"><pre>0</pre></div></td></tr></tbody></table></div></details></td></tr><tr><td>1</td><td><details class=\"dni-treeview\"><summary><span class=\"dni-code-hint\"><code>Submission#5+ColumnDefinition</code></span></summary><div><table><thead><tr></tr></thead><tbody><tr><td>ColumnName</td><td><div class=\"dni-plaintext\"><pre>ReportDataTypeId</pre></div></td></tr><tr><td>DataType</td><td><div class=\"dni-plaintext\"><pre>bigint</pre></div></td></tr><tr><td>IsNullable</td><td><div class=\"dni-plaintext\"><pre>False</pre></div></td></tr><tr><td>Size</td><td><div class=\"dni-plaintext\"><pre>0</pre></div></td></tr></tbody></table></div></details></td></tr><tr><td>2</td><td><details class=\"dni-treeview\"><summary><span class=\"dni-code-hint\"><code>Submission#5+ColumnDefinition</code></span></summary><div><table><thead><tr></tr></thead><tbody><tr><td>ColumnName</td><td><div class=\"dni-plaintext\"><pre>LocalizationKey</pre></div></td></tr><tr><td>DataType</td><td><div class=\"dni-plaintext\"><pre>varchar</pre></div></td></tr><tr><td>IsNullable</td><td><div class=\"dni-plaintext\"><pre>False</pre></div></td></tr><tr><td>Size</td><td><div class=\"dni-plaintext\"><pre>100</pre></div></td></tr></tbody></table></div></details></td></tr><tr><td>3</td><td><details class=\"dni-treeview\"><summary><span class=\"dni-code-hint\"><code>Submission#5+ColumnDefinition</code></span></summary><div><table><thead><tr></tr></thead><tbody><tr><td>ColumnName</td><td><div class=\"dni-plaintext\"><pre>TableName</pre></div></td></tr><tr><td>DataType</td><td><div class=\"dni-plaintext\"><pre>varchar</pre></div></td></tr><tr><td>IsNullable</td><td><div class=\"dni-plaintext\"><pre>False</pre></div></td></tr><tr><td>Size</td><td><div class=\"dni-plaintext\"><pre>100</pre></div></td></tr></tbody></table></div></details></td></tr><tr><td>4</td><td><details class=\"dni-treeview\"><summary><span class=\"dni-code-hint\"><code>Submission#5+ColumnDefinition</code></span></summary><div><table><thead><tr></tr></thead><tbody><tr><td>ColumnName</td><td><div class=\"dni-plaintext\"><pre>ColumnName</pre></div></td></tr><tr><td>DataType</td><td><div class=\"dni-plaintext\"><pre>varchar</pre></div></td></tr><tr><td>IsNullable</td><td><div class=\"dni-plaintext\"><pre>False</pre></div></td></tr><tr><td>Size</td><td><div class=\"dni-plaintext\"><pre>100</pre></div></td></tr></tbody></table></div></details></td></tr><tr><td>5</td><td><details class=\"dni-treeview\"><summary><span class=\"dni-code-hint\"><code>Submission#5+ColumnDefinition</code></span></summary><div><table><thead><tr></tr></thead><tbody><tr><td>ColumnName</td><td><div class=\"dni-plaintext\"><pre>CreatedDate</pre></div></td></tr><tr><td>DataType</td><td><div class=\"dni-plaintext\"><pre>datetime2</pre></div></td></tr><tr><td>IsNullable</td><td><div class=\"dni-plaintext\"><pre>False</pre></div></td></tr><tr><td>Size</td><td><div class=\"dni-plaintext\"><pre>0</pre></div></td></tr></tbody></table></div></details></td></tr><tr><td>6</td><td><details class=\"dni-treeview\"><summary><span class=\"dni-code-hint\"><code>Submission#5+ColumnDefinition</code></span></summary><div><table><thead><tr></tr></thead><tbody><tr><td>ColumnName</td><td><div class=\"dni-plaintext\"><pre>ModifiedDate</pre></div></td></tr><tr><td>DataType</td><td><div class=\"dni-plaintext\"><pre>datetime2</pre></div></td></tr><tr><td>IsNullable</td><td><div class=\"dni-plaintext\"><pre>True</pre></div></td></tr><tr><td>Size</td><td><div class=\"dni-plaintext\"><pre>0</pre></div></td></tr></tbody></table></div></details></td></tr></tbody></table></td></tr></tbody></table></div></details></td></tr></tbody></table><style>\r\n",
       ".dni-code-hint {\r\n",
       "    font-style: italic;\r\n",
       "    overflow: hidden;\r\n",
       "    white-space: nowrap;\r\n",
       "}\r\n",
       ".dni-treeview {\r\n",
       "    white-space: nowrap;\r\n",
       "}\r\n",
       ".dni-treeview td {\r\n",
       "    vertical-align: top;\r\n",
       "    text-align: start;\r\n",
       "}\r\n",
       "details.dni-treeview {\r\n",
       "    padding-left: 1em;\r\n",
       "}\r\n",
       "table td {\r\n",
       "    text-align: start;\r\n",
       "}\r\n",
       "table tr { \r\n",
       "    vertical-align: top; \r\n",
       "    margin: 0em 0px;\r\n",
       "}\r\n",
       "table tr td pre \r\n",
       "{ \r\n",
       "    vertical-align: top !important; \r\n",
       "    margin: 0em 0px !important;\r\n",
       "} \r\n",
       "table th {\r\n",
       "    text-align: start;\r\n",
       "}\r\n",
       "</style>"
      ]
     },
     "metadata": {},
     "output_type": "display_data"
    }
   ],
   "source": [
    "List<TableDefinition> tableDefinitions = new List<TableDefinition>();\n",
    "tableDefinitions.Add(GetTableDefinition(\"rpt\", \"Reports\"));\n",
    "tableDefinitions.Add(GetTableDefinition(\"rpt\", \"ReportDataTypes\"));\n",
    "tableDefinitions.Add(GetTableDefinition(\"rpt\", \"ReportColumns\"));\n",
    "\n",
    "tableDefinitions.Display();"
   ]
  },
  {
   "attachments": {},
   "cell_type": "markdown",
   "metadata": {},
   "source": [
    "### Produce a document with the results\n",
    "\n",
    "The intent is to be able to capture the metadata to facilitate analysis of our data structures and use.\n",
    "We can assume that any tool we develop should be able to ingest the table definitions in the form of json data, so that is what we will produce.\n"
   ]
  },
  {
   "cell_type": "code",
   "execution_count": 6,
   "metadata": {
    "dotnet_interactive": {
     "language": "csharp"
    },
    "polyglot_notebook": {
     "kernelName": "csharp"
    },
    "vscode": {
     "languageId": "polyglot-notebook"
    }
   },
   "outputs": [],
   "source": [
    "string[] tablenames = new string[]\n",
    "{\n",
    "    \"Content\",\n",
    "    \"ContentDurationInMinutes\",\n",
    "    \"DailyUserActivity\",\n",
    "    \"DefaultDateRangeOptions\",\n",
    "    \"LearningCampaignEventCounts\",\n",
    "    \"MessageQueue\",\n",
    "    \"MessageQueue_PreProcessing\",\n",
    "    \"PathwayInsightsKPIs\",\n",
    "    \"PopularContentTags\",\n",
    "    \"PopularContentTags_Switch\",\n",
    "    \"PopularContentTags_Switch\",\n",
    "    \"PopularContentTags_Switch_Empty\",\n",
    "    \"PopularSearchTerms\",\n",
    "    \"PopularUserTags\",\n",
    "    \"RelatedContent\",\n",
    "    \"RelatedContent_Partition\",\n",
    "    \"ReportActivityLog\",\n",
    "    \"ReportAggregateTypes\",\n",
    "    \"ReportCategories\",\n",
    "    \"ReportColumns\",\n",
    "    \"ReportDataTypeOperators\",\n",
    "    \"ReportDataTypes\",\n",
    "    \"ReportDefinitionColumns\",\n",
    "    \"ReportDefinitionCustomAttributes\",\n",
    "    \"ReportDefinitions\",\n",
    "    \"ReportDownloads\",\n",
    "    \"ReportExecutionLog\",\n",
    "    \"ReportFailureTypeRegexMatches\",\n",
    "    \"ReportFailureTypes\",\n",
    "    \"ReportFields\",\n",
    "    \"ReportFileLog\",\n",
    "    \"ReportInstances\",\n",
    "    \"ReportLogMetadata\",\n",
    "    \"ReportLogs\",\n",
    "    \"ReportMethods\",\n",
    "    \"ReportOperatorTypes\",\n",
    "    \"Reports\",\n",
    "    \"ReportSchedule\",\n",
    "    \"ReportSearchableTermTypes\",\n",
    "    \"ReportTestBatch\",\n",
    "    \"ReportTestBatchLog\",\n",
    "    \"ReportTimeRanges\",\n",
    "    \"ReportTransmissionLogs\",\n",
    "    \"ReportTransmitterConfigLinks\",\n",
    "    \"ReportTransmitterConfigs\",\n",
    "    \"ReportTypes\",\n",
    "    \"ReportUserSegments\",\n",
    "    \"Salty\",\n",
    "    \"SubReports\",\n",
    "    \"TableSyncTracking\",\n",
    "    \"TransmissionConfig\",\n",
    "    \"TrendingContent\",\n",
    "    \"TrendingContent_Partition\",\n",
    "    \"UserCollectionsStatus\",\n",
    "    \"UserContentView_Archive\",\n",
    "    \"UserDailyContentViewCount\",\n",
    "    \"UserInputCompletions\",\n",
    "    \"UserLogins\",\n",
    "    \"UserSearchTerms\",\n",
    "    \"UserSummary\",\n",
    "    \"UserViewBrowsers\",\n",
    "    \"UserViewLocations\",\n",
    "    \"UserViewOSs\",\n",
    "    \"UserViewPlatforms\"\n",
    "};\n",
    "tableDefinitions = new List<TableDefinition>();\n",
    "foreach (string tableName in tablenames)\n",
    "{ \n",
    "    tableDefinitions.Add(GetTableDefinition(\"rpt\", tableName));\n",
    "}\n"
   ]
  },
  {
   "attachments": {},
   "cell_type": "markdown",
   "metadata": {},
   "source": [
    "### Serialize the object to a json file\n",
    "\n",
    "Adjust the file path to suit."
   ]
  },
  {
   "cell_type": "code",
   "execution_count": 7,
   "metadata": {
    "dotnet_interactive": {
     "language": "csharp"
    },
    "polyglot_notebook": {
     "kernelName": "csharp"
    },
    "vscode": {
     "languageId": "polyglot-notebook"
    }
   },
   "outputs": [],
   "source": [
    "string path = @\".\\data\\Rpt-Schema-Definitions.json\";\n",
    "internal async Task WriteOutput()\n",
    "{ \n",
    "    await using FileStream output = File.Create(path);\n",
    "    await System.Text.Json.JsonSerializer.SerializeAsync(output, tableDefinitions);\n",
    "}\n",
    "await WriteOutput(); "
   ]
  },
  {
   "attachments": {},
   "cell_type": "markdown",
   "metadata": {},
   "source": [
    "### Next steps\n",
    "\n",
    "The file can now be re-created as needed, commenting out any table names that are not necessary.\n",
    "\n",
    "As a refinement step, we can add Global Key data to individual columns for natural joining - this is something we will need in future for auto-generating snowflake queries.\n",
    "\n",
    "These can also be used to clarify table linkages.\n",
    "\n"
   ]
  }
 ],
 "metadata": {
  "language_info": {
   "name": "python"
  },
  "orig_nbformat": 4
 },
 "nbformat": 4,
 "nbformat_minor": 2
}
